{
 "cells": [
  {
   "cell_type": "code",
   "execution_count": 1,
   "metadata": {},
   "outputs": [],
   "source": [
    "import numpy as np \n",
    "import pandas as pd \n",
    "import matplotlib.pyplot as plt\n",
    "import seaborn as sns"
   ]
  },
  {
   "cell_type": "code",
   "execution_count": 2,
   "metadata": {},
   "outputs": [],
   "source": [
    "train = pd.read_csv('Data/sales_train.csv')\n",
    "items = pd.read_csv('Data/items.csv')\n",
    "categories = pd.read_csv('Data/item_categories.csv')\n",
    "shops = pd.read_csv('Data/shops.csv')\n",
    "test = pd.read_csv('Data/test.csv')\n",
    "submission = pd.read_csv('Data/sample_submission.csv')"
   ]
  },
  {
   "cell_type": "code",
   "execution_count": 3,
   "metadata": {},
   "outputs": [
    {
     "name": "stdout",
     "output_type": "stream",
     "text": [
      "(2935849, 6)\n"
     ]
    },
    {
     "data": {
      "text/html": [
       "<div>\n",
       "<style scoped>\n",
       "    .dataframe tbody tr th:only-of-type {\n",
       "        vertical-align: middle;\n",
       "    }\n",
       "\n",
       "    .dataframe tbody tr th {\n",
       "        vertical-align: top;\n",
       "    }\n",
       "\n",
       "    .dataframe thead th {\n",
       "        text-align: right;\n",
       "    }\n",
       "</style>\n",
       "<table border=\"1\" class=\"dataframe\">\n",
       "  <thead>\n",
       "    <tr style=\"text-align: right;\">\n",
       "      <th></th>\n",
       "      <th>date</th>\n",
       "      <th>date_block_num</th>\n",
       "      <th>shop_id</th>\n",
       "      <th>item_id</th>\n",
       "      <th>item_price</th>\n",
       "      <th>item_cnt_day</th>\n",
       "    </tr>\n",
       "  </thead>\n",
       "  <tbody>\n",
       "    <tr>\n",
       "      <th>0</th>\n",
       "      <td>02.01.2013</td>\n",
       "      <td>0</td>\n",
       "      <td>59</td>\n",
       "      <td>22154</td>\n",
       "      <td>999.00</td>\n",
       "      <td>1.0</td>\n",
       "    </tr>\n",
       "    <tr>\n",
       "      <th>1</th>\n",
       "      <td>03.01.2013</td>\n",
       "      <td>0</td>\n",
       "      <td>25</td>\n",
       "      <td>2552</td>\n",
       "      <td>899.00</td>\n",
       "      <td>1.0</td>\n",
       "    </tr>\n",
       "    <tr>\n",
       "      <th>2</th>\n",
       "      <td>05.01.2013</td>\n",
       "      <td>0</td>\n",
       "      <td>25</td>\n",
       "      <td>2552</td>\n",
       "      <td>899.00</td>\n",
       "      <td>-1.0</td>\n",
       "    </tr>\n",
       "    <tr>\n",
       "      <th>3</th>\n",
       "      <td>06.01.2013</td>\n",
       "      <td>0</td>\n",
       "      <td>25</td>\n",
       "      <td>2554</td>\n",
       "      <td>1709.05</td>\n",
       "      <td>1.0</td>\n",
       "    </tr>\n",
       "    <tr>\n",
       "      <th>4</th>\n",
       "      <td>15.01.2013</td>\n",
       "      <td>0</td>\n",
       "      <td>25</td>\n",
       "      <td>2555</td>\n",
       "      <td>1099.00</td>\n",
       "      <td>1.0</td>\n",
       "    </tr>\n",
       "  </tbody>\n",
       "</table>\n",
       "</div>"
      ],
      "text/plain": [
       "         date  date_block_num  shop_id  item_id  item_price  item_cnt_day\n",
       "0  02.01.2013               0       59    22154      999.00           1.0\n",
       "1  03.01.2013               0       25     2552      899.00           1.0\n",
       "2  05.01.2013               0       25     2552      899.00          -1.0\n",
       "3  06.01.2013               0       25     2554     1709.05           1.0\n",
       "4  15.01.2013               0       25     2555     1099.00           1.0"
      ]
     },
     "execution_count": 3,
     "metadata": {},
     "output_type": "execute_result"
    }
   ],
   "source": [
    "print(train.shape)\n",
    "train.head()"
   ]
  },
  {
   "cell_type": "code",
   "execution_count": 4,
   "metadata": {},
   "outputs": [
    {
     "name": "stdout",
     "output_type": "stream",
     "text": [
      "(214200, 3)\n"
     ]
    },
    {
     "data": {
      "text/html": [
       "<div>\n",
       "<style scoped>\n",
       "    .dataframe tbody tr th:only-of-type {\n",
       "        vertical-align: middle;\n",
       "    }\n",
       "\n",
       "    .dataframe tbody tr th {\n",
       "        vertical-align: top;\n",
       "    }\n",
       "\n",
       "    .dataframe thead th {\n",
       "        text-align: right;\n",
       "    }\n",
       "</style>\n",
       "<table border=\"1\" class=\"dataframe\">\n",
       "  <thead>\n",
       "    <tr style=\"text-align: right;\">\n",
       "      <th></th>\n",
       "      <th>ID</th>\n",
       "      <th>shop_id</th>\n",
       "      <th>item_id</th>\n",
       "    </tr>\n",
       "  </thead>\n",
       "  <tbody>\n",
       "    <tr>\n",
       "      <th>0</th>\n",
       "      <td>0</td>\n",
       "      <td>5</td>\n",
       "      <td>5037</td>\n",
       "    </tr>\n",
       "    <tr>\n",
       "      <th>1</th>\n",
       "      <td>1</td>\n",
       "      <td>5</td>\n",
       "      <td>5320</td>\n",
       "    </tr>\n",
       "    <tr>\n",
       "      <th>2</th>\n",
       "      <td>2</td>\n",
       "      <td>5</td>\n",
       "      <td>5233</td>\n",
       "    </tr>\n",
       "    <tr>\n",
       "      <th>3</th>\n",
       "      <td>3</td>\n",
       "      <td>5</td>\n",
       "      <td>5232</td>\n",
       "    </tr>\n",
       "    <tr>\n",
       "      <th>4</th>\n",
       "      <td>4</td>\n",
       "      <td>5</td>\n",
       "      <td>5268</td>\n",
       "    </tr>\n",
       "  </tbody>\n",
       "</table>\n",
       "</div>"
      ],
      "text/plain": [
       "   ID  shop_id  item_id\n",
       "0   0        5     5037\n",
       "1   1        5     5320\n",
       "2   2        5     5233\n",
       "3   3        5     5232\n",
       "4   4        5     5268"
      ]
     },
     "execution_count": 4,
     "metadata": {},
     "output_type": "execute_result"
    }
   ],
   "source": [
    "print(test.shape)\n",
    "test.head()"
   ]
  },
  {
   "cell_type": "code",
   "execution_count": 5,
   "metadata": {},
   "outputs": [
    {
     "data": {
      "image/png": "[encoded data removed]",
      "text/plain": [
       "<Figure size 1296x648 with 5 Axes>"
      ]
     },
     "metadata": {},
     "output_type": "display_data"
    }
   ],
   "source": [
    "fig = plt.figure(figsize=(18,9))\n",
    "plt.subplots_adjust(hspace=.5)\n",
    "\n",
    "plt.subplot2grid((3,3), (0,0), colspan = 3)\n",
    "train['shop_id'].value_counts(normalize=True).plot(kind='bar', alpha=0.7)\n",
    "plt.title('Shop ID Values in the Training Set (Normalized)')\n",
    "\n",
    "plt.subplot2grid((3,3), (1,0))\n",
    "train['item_id'].plot(kind='hist', alpha=0.7)\n",
    "plt.title('Item ID Histogram')\n",
    "\n",
    "plt.subplot2grid((3,3), (1,1))\n",
    "train['item_price'].plot(kind='hist', alpha=0.7, color='orange')\n",
    "plt.title('Item Price Histogram')\n",
    "\n",
    "plt.subplot2grid((3,3), (1,2))\n",
    "train['item_cnt_day'].plot(kind='hist', alpha=0.7, color='green')\n",
    "plt.title('Item Count Day Histogram')\n",
    "\n",
    "plt.subplot2grid((3,3), (2,0), colspan = 3)\n",
    "train['date_block_num'].value_counts(normalize=True).plot(kind='bar', alpha=0.7)\n",
    "plt.title('Month (date_block_num) Values in the Training Set (Normalized)')\n",
    "\n",
    "plt.show()\n"
   ]
  },
  {
   "cell_type": "code",
   "execution_count": 6,
   "metadata": {},
   "outputs": [
    {
     "data": {
      "text/plain": [
       "20949    31340\n",
       "5822      9408\n",
       "17717     9067\n",
       "2808      7479\n",
       "4181      6853\n",
       "Name: item_id, dtype: int64"
      ]
     },
     "execution_count": 6,
     "metadata": {},
     "output_type": "execute_result"
    }
   ],
   "source": [
    "train['item_id'].value_counts(ascending=False)[:5]"
   ]
  },
  {
   "cell_type": "code",
   "execution_count": 7,
   "metadata": {},
   "outputs": [
    {
     "data": {
      "text/html": [
       "<div>\n",
       "<style scoped>\n",
       "    .dataframe tbody tr th:only-of-type {\n",
       "        vertical-align: middle;\n",
       "    }\n",
       "\n",
       "    .dataframe tbody tr th {\n",
       "        vertical-align: top;\n",
       "    }\n",
       "\n",
       "    .dataframe thead th {\n",
       "        text-align: right;\n",
       "    }\n",
       "</style>\n",
       "<table border=\"1\" class=\"dataframe\">\n",
       "  <thead>\n",
       "    <tr style=\"text-align: right;\">\n",
       "      <th></th>\n",
       "      <th>item_name</th>\n",
       "      <th>item_id</th>\n",
       "      <th>item_category_id</th>\n",
       "    </tr>\n",
       "  </thead>\n",
       "  <tbody>\n",
       "    <tr>\n",
       "      <th>20949</th>\n",
       "      <td>Фирменный пакет майка 1С Интерес белый (34*42)...</td>\n",
       "      <td>20949</td>\n",
       "      <td>71</td>\n",
       "    </tr>\n",
       "  </tbody>\n",
       "</table>\n",
       "</div>"
      ],
      "text/plain": [
       "                                               item_name  item_id  \\\n",
       "20949  Фирменный пакет майка 1С Интерес белый (34*42)...    20949   \n",
       "\n",
       "       item_category_id  \n",
       "20949                71  "
      ]
     },
     "execution_count": 7,
     "metadata": {},
     "output_type": "execute_result"
    }
   ],
   "source": [
    "items.loc[items['item_id']==20949]"
   ]
  },
  {
   "cell_type": "code",
   "execution_count": 8,
   "metadata": {},
   "outputs": [
    {
     "data": {
      "text/html": [
       "<div>\n",
       "<style scoped>\n",
       "    .dataframe tbody tr th:only-of-type {\n",
       "        vertical-align: middle;\n",
       "    }\n",
       "\n",
       "    .dataframe tbody tr th {\n",
       "        vertical-align: top;\n",
       "    }\n",
       "\n",
       "    .dataframe thead th {\n",
       "        text-align: right;\n",
       "    }\n",
       "</style>\n",
       "<table border=\"1\" class=\"dataframe\">\n",
       "  <thead>\n",
       "    <tr style=\"text-align: right;\">\n",
       "      <th></th>\n",
       "      <th>ID</th>\n",
       "      <th>shop_id</th>\n",
       "      <th>item_id</th>\n",
       "    </tr>\n",
       "  </thead>\n",
       "  <tbody>\n",
       "    <tr>\n",
       "      <th>460</th>\n",
       "      <td>460</td>\n",
       "      <td>5</td>\n",
       "      <td>20949</td>\n",
       "    </tr>\n",
       "    <tr>\n",
       "      <th>5560</th>\n",
       "      <td>5560</td>\n",
       "      <td>4</td>\n",
       "      <td>20949</td>\n",
       "    </tr>\n",
       "    <tr>\n",
       "      <th>10660</th>\n",
       "      <td>10660</td>\n",
       "      <td>6</td>\n",
       "      <td>20949</td>\n",
       "    </tr>\n",
       "    <tr>\n",
       "      <th>15760</th>\n",
       "      <td>15760</td>\n",
       "      <td>3</td>\n",
       "      <td>20949</td>\n",
       "    </tr>\n",
       "    <tr>\n",
       "      <th>20860</th>\n",
       "      <td>20860</td>\n",
       "      <td>2</td>\n",
       "      <td>20949</td>\n",
       "    </tr>\n",
       "  </tbody>\n",
       "</table>\n",
       "</div>"
      ],
      "text/plain": [
       "          ID  shop_id  item_id\n",
       "460      460        5    20949\n",
       "5560    5560        4    20949\n",
       "10660  10660        6    20949\n",
       "15760  15760        3    20949\n",
       "20860  20860        2    20949"
      ]
     },
     "execution_count": 8,
     "metadata": {},
     "output_type": "execute_result"
    }
   ],
   "source": [
    "test.loc[test['item_id']==20949].head(5)"
   ]
  },
  {
   "cell_type": "code",
   "execution_count": 9,
   "metadata": {},
   "outputs": [],
   "source": [
    "price_correction = train[(train['shop_id'] == 32) & (train['item_id'] == 2973) & (train['date_block_num'] == 4) & (train['item_price'] > 0)].item_price.median()\n",
    "train.loc[train['item_price'] < 0, 'item_price'] = price_correction"
   ]
  },
  {
   "cell_type": "code",
   "execution_count": null,
   "metadata": {},
   "outputs": [],
   "source": []
  },
  {
   "cell_type": "code",
   "execution_count": 10,
   "metadata": {},
   "outputs": [
    {
     "name": "stdout",
     "output_type": "stream",
     "text": [
      "Shops in Training Set:  60\n",
      "Shops in Test Set:  42\n"
     ]
    }
   ],
   "source": [
    "shops_train = train['shop_id'].nunique()\n",
    "shops_test = test['shop_id'].nunique()\n",
    "print('Shops in Training Set: ', shops_train)\n",
    "print('Shops in Test Set: ', shops_test)"
   ]
  },
  {
   "cell_type": "code",
   "execution_count": 11,
   "metadata": {},
   "outputs": [
    {
     "name": "stdout",
     "output_type": "stream",
     "text": [
      "Yes, list is subset of other.\n"
     ]
    }
   ],
   "source": [
    "shops_train_list = list(train['shop_id'].unique())\n",
    "shops_test_list = list(test['shop_id'].unique())\n",
    "\n",
    "flag = 0\n",
    "if(set(shops_test_list).issubset(set(shops_train_list))): \n",
    "    flag = 1\n",
    "      \n",
    "if (flag) : \n",
    "    print (\"Yes, list is subset of other.\") \n",
    "else : \n",
    "    print (\"No, list is not subset of other.\") "
   ]
  },
  {
   "cell_type": "code",
   "execution_count": 12,
   "metadata": {},
   "outputs": [
    {
     "data": {
      "text/html": [
       "<div>\n",
       "<style scoped>\n",
       "    .dataframe tbody tr th:only-of-type {\n",
       "        vertical-align: middle;\n",
       "    }\n",
       "\n",
       "    .dataframe tbody tr th {\n",
       "        vertical-align: top;\n",
       "    }\n",
       "\n",
       "    .dataframe thead th {\n",
       "        text-align: right;\n",
       "    }\n",
       "</style>\n",
       "<table border=\"1\" class=\"dataframe\">\n",
       "  <thead>\n",
       "    <tr style=\"text-align: right;\">\n",
       "      <th></th>\n",
       "      <th>0</th>\n",
       "      <th>1</th>\n",
       "      <th>2</th>\n",
       "      <th>3</th>\n",
       "      <th>4</th>\n",
       "      <th>5</th>\n",
       "      <th>6</th>\n",
       "      <th>7</th>\n",
       "      <th>8</th>\n",
       "      <th>9</th>\n",
       "      <th>...</th>\n",
       "      <th>50</th>\n",
       "      <th>51</th>\n",
       "      <th>52</th>\n",
       "      <th>53</th>\n",
       "      <th>54</th>\n",
       "      <th>55</th>\n",
       "      <th>56</th>\n",
       "      <th>57</th>\n",
       "      <th>58</th>\n",
       "      <th>59</th>\n",
       "    </tr>\n",
       "  </thead>\n",
       "  <tbody>\n",
       "    <tr>\n",
       "      <th>shop_name</th>\n",
       "      <td>!Якутск Орджоникидзе, 56 фран</td>\n",
       "      <td>!Якутск ТЦ \"Центральный\" фран</td>\n",
       "      <td>Адыгея ТЦ \"Мега\"</td>\n",
       "      <td>Балашиха ТРК \"Октябрь-Киномир\"</td>\n",
       "      <td>Волжский ТЦ \"Волга Молл\"</td>\n",
       "      <td>Вологда ТРЦ \"Мармелад\"</td>\n",
       "      <td>Воронеж (Плехановская, 13)</td>\n",
       "      <td>Воронеж ТРЦ \"Максимир\"</td>\n",
       "      <td>Воронеж ТРЦ Сити-Парк \"Град\"</td>\n",
       "      <td>Выездная Торговля</td>\n",
       "      <td>...</td>\n",
       "      <td>Тюмень ТЦ \"Гудвин\"</td>\n",
       "      <td>Тюмень ТЦ \"Зеленый Берег\"</td>\n",
       "      <td>Уфа ТК \"Центральный\"</td>\n",
       "      <td>Уфа ТЦ \"Семья\" 2</td>\n",
       "      <td>Химки ТЦ \"Мега\"</td>\n",
       "      <td>Цифровой склад 1С-Онлайн</td>\n",
       "      <td>Чехов ТРЦ \"Карнавал\"</td>\n",
       "      <td>Якутск Орджоникидзе, 56</td>\n",
       "      <td>Якутск ТЦ \"Центральный\"</td>\n",
       "      <td>Ярославль ТЦ \"Альтаир\"</td>\n",
       "    </tr>\n",
       "    <tr>\n",
       "      <th>shop_id</th>\n",
       "      <td>0</td>\n",
       "      <td>1</td>\n",
       "      <td>2</td>\n",
       "      <td>3</td>\n",
       "      <td>4</td>\n",
       "      <td>5</td>\n",
       "      <td>6</td>\n",
       "      <td>7</td>\n",
       "      <td>8</td>\n",
       "      <td>9</td>\n",
       "      <td>...</td>\n",
       "      <td>50</td>\n",
       "      <td>51</td>\n",
       "      <td>52</td>\n",
       "      <td>53</td>\n",
       "      <td>54</td>\n",
       "      <td>55</td>\n",
       "      <td>56</td>\n",
       "      <td>57</td>\n",
       "      <td>58</td>\n",
       "      <td>59</td>\n",
       "    </tr>\n",
       "  </tbody>\n",
       "</table>\n",
       "<p>2 rows × 60 columns</p>\n",
       "</div>"
      ],
      "text/plain": [
       "                                      0                              1   \\\n",
       "shop_name  !Якутск Орджоникидзе, 56 фран  !Якутск ТЦ \"Центральный\" фран   \n",
       "shop_id                                0                              1   \n",
       "\n",
       "                         2                               3   \\\n",
       "shop_name  Адыгея ТЦ \"Мега\"  Балашиха ТРК \"Октябрь-Киномир\"   \n",
       "shop_id                   2                               3   \n",
       "\n",
       "                                 4                       5   \\\n",
       "shop_name  Волжский ТЦ \"Волга Молл\"  Вологда ТРЦ \"Мармелад\"   \n",
       "shop_id                           4                       5   \n",
       "\n",
       "                                   6                       7   \\\n",
       "shop_name  Воронеж (Плехановская, 13)  Воронеж ТРЦ \"Максимир\"   \n",
       "shop_id                             6                       7   \n",
       "\n",
       "                                     8                  9   \\\n",
       "shop_name  Воронеж ТРЦ Сити-Парк \"Град\"  Выездная Торговля   \n",
       "shop_id                               8                  9   \n",
       "\n",
       "                    ...                            50  \\\n",
       "shop_name           ...            Тюмень ТЦ \"Гудвин\"   \n",
       "shop_id             ...                            50   \n",
       "\n",
       "                                  51                    52                53  \\\n",
       "shop_name  Тюмень ТЦ \"Зеленый Берег\"  Уфа ТК \"Центральный\"  Уфа ТЦ \"Семья\" 2   \n",
       "shop_id                           51                    52                53   \n",
       "\n",
       "                        54                        55                    56  \\\n",
       "shop_name  Химки ТЦ \"Мега\"  Цифровой склад 1С-Онлайн  Чехов ТРЦ \"Карнавал\"   \n",
       "shop_id                 54                        55                    56   \n",
       "\n",
       "                                57                       58  \\\n",
       "shop_name  Якутск Орджоникидзе, 56  Якутск ТЦ \"Центральный\"   \n",
       "shop_id                         57                       58   \n",
       "\n",
       "                               59  \n",
       "shop_name  Ярославль ТЦ \"Альтаир\"  \n",
       "shop_id                        59  \n",
       "\n",
       "[2 rows x 60 columns]"
      ]
     },
     "execution_count": 12,
     "metadata": {},
     "output_type": "execute_result"
    }
   ],
   "source": [
    "shops.T"
   ]
  },
  {
   "cell_type": "code",
   "execution_count": 13,
   "metadata": {},
   "outputs": [],
   "source": [
    "train.loc[train['shop_id'] == 0, 'shop_id'] = 57\n",
    "test.loc[test['shop_id'] == 0, 'shop_id'] = 57\n",
    "\n",
    "train.loc[train['shop_id'] == 1, 'shop_id'] = 58\n",
    "test.loc[test['shop_id'] == 1, 'shop_id'] = 58\n",
    "\n",
    "train.loc[train['shop_id'] == 10, 'shop_id'] = 11\n",
    "test.loc[test['shop_id'] == 10, 'shop_id'] = 11"
   ]
  },
  {
   "cell_type": "code",
   "execution_count": null,
   "metadata": {},
   "outputs": [],
   "source": []
  },
  {
   "cell_type": "code",
   "execution_count": null,
   "metadata": {},
   "outputs": [],
   "source": []
  },
  {
   "cell_type": "code",
   "execution_count": 14,
   "metadata": {},
   "outputs": [
    {
     "data": {
      "text/plain": [
       "array(['!Якутск', 'Адыгея', 'Балашиха', 'Волжский', 'Вологда', 'Воронеж',\n",
       "       'Выездная', 'Жуковский', 'Интернет-магазин', 'Казань', 'Калуга',\n",
       "       'Коломна', 'Красноярск', 'Курск', 'Москва', 'Мытищи', 'Н.Новгород',\n",
       "       'Новосибирск', 'Омск', 'РостовНаДону', 'СПб', 'Самара', 'Сергиев',\n",
       "       'Сургут', 'Томск', 'Тюмень', 'Уфа', 'Химки', 'Цифровой', 'Чехов',\n",
       "       'Якутск', 'Ярославль'], dtype=object)"
      ]
     },
     "execution_count": 14,
     "metadata": {},
     "output_type": "execute_result"
    }
   ],
   "source": [
    "cities = shops['shop_name'].str.split(' ').map(lambda row: row[0])\n",
    "cities.unique()"
   ]
  },
  {
   "cell_type": "code",
   "execution_count": 15,
   "metadata": {},
   "outputs": [],
   "source": [
    "shops['city'] = shops['shop_name'].str.split(' ').map(lambda row: row[0])\n",
    "shops.loc[shops.city == '!Якутск', 'city'] = 'Якутск'"
   ]
  },
  {
   "cell_type": "code",
   "execution_count": 16,
   "metadata": {},
   "outputs": [
    {
     "data": {
      "text/plain": [
       "array([29, 29,  0,  1,  2,  3,  4,  4,  4,  5,  6,  6,  7,  8,  8,  9, 10,\n",
       "       11, 11, 12, 13, 13, 13, 13, 13, 13, 13, 13, 13, 13, 13, 13, 13, 14,\n",
       "       15, 15, 16, 16, 17, 18, 18, 18, 19, 19, 20, 20, 21, 22, 23, 24, 24,\n",
       "       24, 25, 25, 26, 27, 28, 29, 29, 30])"
      ]
     },
     "execution_count": 16,
     "metadata": {},
     "output_type": "execute_result"
    }
   ],
   "source": [
    "from sklearn import preprocessing\n",
    "le = preprocessing.LabelEncoder()\n",
    "le.fit_transform(shops['city'])"
   ]
  },
  {
   "cell_type": "code",
   "execution_count": 17,
   "metadata": {},
   "outputs": [
    {
     "data": {
      "text/html": [
       "<div>\n",
       "<style scoped>\n",
       "    .dataframe tbody tr th:only-of-type {\n",
       "        vertical-align: middle;\n",
       "    }\n",
       "\n",
       "    .dataframe tbody tr th {\n",
       "        vertical-align: top;\n",
       "    }\n",
       "\n",
       "    .dataframe thead th {\n",
       "        text-align: right;\n",
       "    }\n",
       "</style>\n",
       "<table border=\"1\" class=\"dataframe\">\n",
       "  <thead>\n",
       "    <tr style=\"text-align: right;\">\n",
       "      <th></th>\n",
       "      <th>shop_id</th>\n",
       "      <th>city_label</th>\n",
       "    </tr>\n",
       "  </thead>\n",
       "  <tbody>\n",
       "    <tr>\n",
       "      <th>0</th>\n",
       "      <td>0</td>\n",
       "      <td>29</td>\n",
       "    </tr>\n",
       "    <tr>\n",
       "      <th>1</th>\n",
       "      <td>1</td>\n",
       "      <td>29</td>\n",
       "    </tr>\n",
       "    <tr>\n",
       "      <th>2</th>\n",
       "      <td>2</td>\n",
       "      <td>0</td>\n",
       "    </tr>\n",
       "    <tr>\n",
       "      <th>3</th>\n",
       "      <td>3</td>\n",
       "      <td>1</td>\n",
       "    </tr>\n",
       "    <tr>\n",
       "      <th>4</th>\n",
       "      <td>4</td>\n",
       "      <td>2</td>\n",
       "    </tr>\n",
       "  </tbody>\n",
       "</table>\n",
       "</div>"
      ],
      "text/plain": [
       "   shop_id  city_label\n",
       "0        0          29\n",
       "1        1          29\n",
       "2        2           0\n",
       "3        3           1\n",
       "4        4           2"
      ]
     },
     "execution_count": 17,
     "metadata": {},
     "output_type": "execute_result"
    }
   ],
   "source": [
    "shops['city_label'] = le.fit_transform(shops['city'])\n",
    "shops.drop(['shop_name', 'city'], axis = 1, inplace = True)\n",
    "shops.head()"
   ]
  },
  {
   "cell_type": "code",
   "execution_count": null,
   "metadata": {},
   "outputs": [],
   "source": []
  },
  {
   "cell_type": "code",
   "execution_count": null,
   "metadata": {},
   "outputs": [],
   "source": []
  },
  {
   "cell_type": "code",
   "execution_count": 18,
   "metadata": {},
   "outputs": [
    {
     "name": "stdout",
     "output_type": "stream",
     "text": [
      "Items in Training Set:  21807\n",
      "Items in Test Set:  5100\n"
     ]
    }
   ],
   "source": [
    "items_train = train['item_id'].nunique()\n",
    "items_test = test['item_id'].nunique()\n",
    "print('Items in Training Set: ', items_train)\n",
    "print('Items in Test Set: ', items_test)"
   ]
  },
  {
   "cell_type": "code",
   "execution_count": 19,
   "metadata": {},
   "outputs": [
    {
     "name": "stdout",
     "output_type": "stream",
     "text": [
      "No, list is not subset of other.\n"
     ]
    }
   ],
   "source": [
    "items_train_list = list(train['item_id'].unique())\n",
    "items_test_list = list(test['item_id'].unique())\n",
    "\n",
    "flag = 0\n",
    "if(set(items_test_list).issubset(set(items_train_list))): \n",
    "    flag = 1\n",
    "      \n",
    "if (flag) : \n",
    "    print (\"Yes, list is subset of other.\") \n",
    "else : \n",
    "    print (\"No, list is not subset of other.\") "
   ]
  },
  {
   "cell_type": "code",
   "execution_count": 20,
   "metadata": {},
   "outputs": [
    {
     "data": {
      "text/plain": [
       "363"
      ]
     },
     "execution_count": 20,
     "metadata": {},
     "output_type": "execute_result"
    }
   ],
   "source": [
    "len(set(items_test_list).difference(items_train_list))"
   ]
  },
  {
   "cell_type": "code",
   "execution_count": 21,
   "metadata": {},
   "outputs": [],
   "source": [
    "categories_in_test = items.loc[items['item_id'].isin(sorted(test['item_id'].unique()))].item_category_id.unique()"
   ]
  },
  {
   "cell_type": "code",
   "execution_count": 22,
   "metadata": {},
   "outputs": [
    {
     "data": {
      "text/html": [
       "<div>\n",
       "<style scoped>\n",
       "    .dataframe tbody tr th:only-of-type {\n",
       "        vertical-align: middle;\n",
       "    }\n",
       "\n",
       "    .dataframe tbody tr th {\n",
       "        vertical-align: top;\n",
       "    }\n",
       "\n",
       "    .dataframe thead th {\n",
       "        text-align: right;\n",
       "    }\n",
       "</style>\n",
       "<table border=\"1\" class=\"dataframe\">\n",
       "  <thead>\n",
       "    <tr style=\"text-align: right;\">\n",
       "      <th></th>\n",
       "      <th>1</th>\n",
       "      <th>4</th>\n",
       "      <th>8</th>\n",
       "      <th>10</th>\n",
       "      <th>13</th>\n",
       "      <th>14</th>\n",
       "      <th>17</th>\n",
       "      <th>18</th>\n",
       "      <th>32</th>\n",
       "      <th>39</th>\n",
       "      <th>...</th>\n",
       "      <th>50</th>\n",
       "      <th>51</th>\n",
       "      <th>52</th>\n",
       "      <th>53</th>\n",
       "      <th>59</th>\n",
       "      <th>66</th>\n",
       "      <th>68</th>\n",
       "      <th>80</th>\n",
       "      <th>81</th>\n",
       "      <th>82</th>\n",
       "    </tr>\n",
       "  </thead>\n",
       "  <tbody>\n",
       "    <tr>\n",
       "      <th>item_category_name</th>\n",
       "      <td>Аксессуары - PS2</td>\n",
       "      <td>Аксессуары - PSP</td>\n",
       "      <td>Билеты (Цифра)</td>\n",
       "      <td>Игровые консоли - PS2</td>\n",
       "      <td>Игровые консоли - PSP</td>\n",
       "      <td>Игровые консоли - PSVita</td>\n",
       "      <td>Игровые консоли - Прочие</td>\n",
       "      <td>Игры - PS2</td>\n",
       "      <td>Карты оплаты (Кино, Музыка, Игры)</td>\n",
       "      <td>Кино - Blu-Ray 4K</td>\n",
       "      <td>...</td>\n",
       "      <td>Книги - Открытки</td>\n",
       "      <td>Книги - Познавательная литература</td>\n",
       "      <td>Книги - Путеводители</td>\n",
       "      <td>Книги - Художественная литература</td>\n",
       "      <td>Музыка - Музыкальное видео</td>\n",
       "      <td>Подарки - Открытки, наклейки</td>\n",
       "      <td>Подарки - Сертификаты, услуги</td>\n",
       "      <td>Служебные - Билеты</td>\n",
       "      <td>Чистые носители (шпиль)</td>\n",
       "      <td>Чистые носители (штучные)</td>\n",
       "    </tr>\n",
       "    <tr>\n",
       "      <th>item_category_id</th>\n",
       "      <td>1</td>\n",
       "      <td>4</td>\n",
       "      <td>8</td>\n",
       "      <td>10</td>\n",
       "      <td>13</td>\n",
       "      <td>14</td>\n",
       "      <td>17</td>\n",
       "      <td>18</td>\n",
       "      <td>32</td>\n",
       "      <td>39</td>\n",
       "      <td>...</td>\n",
       "      <td>50</td>\n",
       "      <td>51</td>\n",
       "      <td>52</td>\n",
       "      <td>53</td>\n",
       "      <td>59</td>\n",
       "      <td>66</td>\n",
       "      <td>68</td>\n",
       "      <td>80</td>\n",
       "      <td>81</td>\n",
       "      <td>82</td>\n",
       "    </tr>\n",
       "  </tbody>\n",
       "</table>\n",
       "<p>2 rows × 22 columns</p>\n",
       "</div>"
      ],
      "text/plain": [
       "                                  1                 4               8   \\\n",
       "item_category_name  Аксессуары - PS2  Аксессуары - PSP  Билеты (Цифра)   \n",
       "item_category_id                   1                 4               8   \n",
       "\n",
       "                                       10                     13  \\\n",
       "item_category_name  Игровые консоли - PS2  Игровые консоли - PSP   \n",
       "item_category_id                       10                     13   \n",
       "\n",
       "                                          14                        17  \\\n",
       "item_category_name  Игровые консоли - PSVita  Игровые консоли - Прочие   \n",
       "item_category_id                          14                        17   \n",
       "\n",
       "                            18                                 32  \\\n",
       "item_category_name  Игры - PS2  Карты оплаты (Кино, Музыка, Игры)   \n",
       "item_category_id            18                                 32   \n",
       "\n",
       "                                   39            ...              \\\n",
       "item_category_name  Кино - Blu-Ray 4K            ...               \n",
       "item_category_id                   39            ...               \n",
       "\n",
       "                                  50                                 51  \\\n",
       "item_category_name  Книги - Открытки  Книги - Познавательная литература   \n",
       "item_category_id                  50                                 51   \n",
       "\n",
       "                                      52                                 53  \\\n",
       "item_category_name  Книги - Путеводители  Книги - Художественная литература   \n",
       "item_category_id                      52                                 53   \n",
       "\n",
       "                                            59                            66  \\\n",
       "item_category_name  Музыка - Музыкальное видео  Подарки - Открытки, наклейки   \n",
       "item_category_id                            59                            66   \n",
       "\n",
       "                                               68                  80  \\\n",
       "item_category_name  Подарки - Сертификаты, услуги  Служебные - Билеты   \n",
       "item_category_id                               68                  80   \n",
       "\n",
       "                                         81                         82  \n",
       "item_category_name  Чистые носители (шпиль)  Чистые носители (штучные)  \n",
       "item_category_id                         81                         82  \n",
       "\n",
       "[2 rows x 22 columns]"
      ]
     },
     "execution_count": 22,
     "metadata": {},
     "output_type": "execute_result"
    }
   ],
   "source": [
    "# categories.loc[categories['item_category_id'].isin(categories_in_test)]\n",
    "categories.loc[~categories['item_category_id'].isin(categories_in_test)].T"
   ]
  },
  {
   "cell_type": "code",
   "execution_count": 23,
   "metadata": {},
   "outputs": [],
   "source": [
    "le = preprocessing.LabelEncoder()\n",
    "\n",
    "main_categories = categories['item_category_name'].str.split('-')\n",
    "categories['main_category_id'] = main_categories.map(lambda row: row[0].strip())\n",
    "categories['main_category_id'] = le.fit_transform(categories['main_category_id'])\n",
    "\n",
    "# Some items don't have sub-categories. For those, we will use the main category as a sub-category\n",
    "categories['sub_category_id'] = main_categories.map(lambda row: row[1].strip() if len(row) > 1 else row[0].strip())\n",
    "categories['sub_category_id'] = le.fit_transform(categories['sub_category_id'])"
   ]
  },
  {
   "cell_type": "code",
   "execution_count": 24,
   "metadata": {},
   "outputs": [
    {
     "data": {
      "text/html": [
       "<div>\n",
       "<style scoped>\n",
       "    .dataframe tbody tr th:only-of-type {\n",
       "        vertical-align: middle;\n",
       "    }\n",
       "\n",
       "    .dataframe tbody tr th {\n",
       "        vertical-align: top;\n",
       "    }\n",
       "\n",
       "    .dataframe thead th {\n",
       "        text-align: right;\n",
       "    }\n",
       "</style>\n",
       "<table border=\"1\" class=\"dataframe\">\n",
       "  <thead>\n",
       "    <tr style=\"text-align: right;\">\n",
       "      <th></th>\n",
       "      <th>item_category_name</th>\n",
       "      <th>item_category_id</th>\n",
       "      <th>main_category_id</th>\n",
       "      <th>sub_category_id</th>\n",
       "    </tr>\n",
       "  </thead>\n",
       "  <tbody>\n",
       "    <tr>\n",
       "      <th>0</th>\n",
       "      <td>PC - Гарнитуры/Наушники</td>\n",
       "      <td>0</td>\n",
       "      <td>0</td>\n",
       "      <td>29</td>\n",
       "    </tr>\n",
       "    <tr>\n",
       "      <th>1</th>\n",
       "      <td>Аксессуары - PS2</td>\n",
       "      <td>1</td>\n",
       "      <td>1</td>\n",
       "      <td>9</td>\n",
       "    </tr>\n",
       "    <tr>\n",
       "      <th>2</th>\n",
       "      <td>Аксессуары - PS3</td>\n",
       "      <td>2</td>\n",
       "      <td>1</td>\n",
       "      <td>10</td>\n",
       "    </tr>\n",
       "    <tr>\n",
       "      <th>3</th>\n",
       "      <td>Аксессуары - PS4</td>\n",
       "      <td>3</td>\n",
       "      <td>1</td>\n",
       "      <td>11</td>\n",
       "    </tr>\n",
       "    <tr>\n",
       "      <th>4</th>\n",
       "      <td>Аксессуары - PSP</td>\n",
       "      <td>4</td>\n",
       "      <td>1</td>\n",
       "      <td>13</td>\n",
       "    </tr>\n",
       "  </tbody>\n",
       "</table>\n",
       "</div>"
      ],
      "text/plain": [
       "        item_category_name  item_category_id  main_category_id  \\\n",
       "0  PC - Гарнитуры/Наушники                 0                 0   \n",
       "1         Аксессуары - PS2                 1                 1   \n",
       "2         Аксессуары - PS3                 2                 1   \n",
       "3         Аксессуары - PS4                 3                 1   \n",
       "4         Аксессуары - PSP                 4                 1   \n",
       "\n",
       "   sub_category_id  \n",
       "0               29  \n",
       "1                9  \n",
       "2               10  \n",
       "3               11  \n",
       "4               13  "
      ]
     },
     "execution_count": 24,
     "metadata": {},
     "output_type": "execute_result"
    }
   ],
   "source": [
    "categories.head()"
   ]
  },
  {
   "cell_type": "code",
   "execution_count": null,
   "metadata": {},
   "outputs": [],
   "source": []
  },
  {
   "cell_type": "code",
   "execution_count": null,
   "metadata": {},
   "outputs": [],
   "source": []
  },
  {
   "cell_type": "code",
   "execution_count": 25,
   "metadata": {},
   "outputs": [],
   "source": [
    "train['date'] =  pd.to_datetime(train['date'], format='%d.%m.%Y')"
   ]
  },
  {
   "cell_type": "code",
   "execution_count": 26,
   "metadata": {},
   "outputs": [],
   "source": [
    "from itertools import product\n",
    "shops_in_jan = train.loc[train['date_block_num']==0, 'shop_id'].unique()\n",
    "items_in_jan = train.loc[train['date_block_num']==0, 'item_id'].unique()\n",
    "jan = list(product(*[shops_in_jan, items_in_jan, [0]]))"
   ]
  },
  {
   "cell_type": "code",
   "execution_count": 27,
   "metadata": {},
   "outputs": [
    {
     "name": "stdout",
     "output_type": "stream",
     "text": [
      "365175\n"
     ]
    }
   ],
   "source": [
    "print(len(jan))"
   ]
  },
  {
   "cell_type": "code",
   "execution_count": 28,
   "metadata": {},
   "outputs": [],
   "source": [
    "# Testing generation of cartesian product for the month of February in 2013\n",
    "\n",
    "shops_in_feb = train.loc[train['date_block_num']==1, 'shop_id'].unique()\n",
    "items_in_feb = train.loc[train['date_block_num']==1, 'item_id'].unique()\n",
    "feb = list(product(*[shops_in_feb, items_in_feb, [1]]))"
   ]
  },
  {
   "cell_type": "code",
   "execution_count": 29,
   "metadata": {},
   "outputs": [
    {
     "name": "stdout",
     "output_type": "stream",
     "text": [
      "375728\n"
     ]
    }
   ],
   "source": [
    "print(len(feb))"
   ]
  },
  {
   "cell_type": "code",
   "execution_count": 30,
   "metadata": {},
   "outputs": [],
   "source": [
    "cartesian_test = []\n",
    "cartesian_test.append(np.array(jan))\n",
    "cartesian_test.append(np.array(feb))"
   ]
  },
  {
   "cell_type": "code",
   "execution_count": 31,
   "metadata": {},
   "outputs": [
    {
     "data": {
      "text/plain": [
       "[array([[   59, 22154,     0],\n",
       "        [   59,  2552,     0],\n",
       "        [   59,  2554,     0],\n",
       "        ...,\n",
       "        [   45,   628,     0],\n",
       "        [   45,   631,     0],\n",
       "        [   45,   621,     0]], dtype=int64), array([[   50,  3880,     1],\n",
       "        [   50,  4128,     1],\n",
       "        [   50,  4124,     1],\n",
       "        ...,\n",
       "        [   28, 12885,     1],\n",
       "        [   28, 12791,     1],\n",
       "        [   28, 13433,     1]], dtype=int64)]"
      ]
     },
     "execution_count": 31,
     "metadata": {},
     "output_type": "execute_result"
    }
   ],
   "source": [
    "cartesian_test"
   ]
  },
  {
   "cell_type": "code",
   "execution_count": 32,
   "metadata": {},
   "outputs": [],
   "source": [
    "cartesian_test = np.vstack(cartesian_test)"
   ]
  },
  {
   "cell_type": "code",
   "execution_count": 33,
   "metadata": {},
   "outputs": [],
   "source": [
    "cartesian_test_df = pd.DataFrame(cartesian_test, columns = ['shop_id', 'item_id', 'date_block_num'])"
   ]
  },
  {
   "cell_type": "code",
   "execution_count": 34,
   "metadata": {},
   "outputs": [
    {
     "data": {
      "text/html": [
       "<div>\n",
       "<style scoped>\n",
       "    .dataframe tbody tr th:only-of-type {\n",
       "        vertical-align: middle;\n",
       "    }\n",
       "\n",
       "    .dataframe tbody tr th {\n",
       "        vertical-align: top;\n",
       "    }\n",
       "\n",
       "    .dataframe thead th {\n",
       "        text-align: right;\n",
       "    }\n",
       "</style>\n",
       "<table border=\"1\" class=\"dataframe\">\n",
       "  <thead>\n",
       "    <tr style=\"text-align: right;\">\n",
       "      <th></th>\n",
       "      <th>shop_id</th>\n",
       "      <th>item_id</th>\n",
       "      <th>date_block_num</th>\n",
       "    </tr>\n",
       "  </thead>\n",
       "  <tbody>\n",
       "    <tr>\n",
       "      <th>0</th>\n",
       "      <td>59</td>\n",
       "      <td>22154</td>\n",
       "      <td>0</td>\n",
       "    </tr>\n",
       "    <tr>\n",
       "      <th>1</th>\n",
       "      <td>59</td>\n",
       "      <td>2552</td>\n",
       "      <td>0</td>\n",
       "    </tr>\n",
       "    <tr>\n",
       "      <th>2</th>\n",
       "      <td>59</td>\n",
       "      <td>2554</td>\n",
       "      <td>0</td>\n",
       "    </tr>\n",
       "    <tr>\n",
       "      <th>3</th>\n",
       "      <td>59</td>\n",
       "      <td>2555</td>\n",
       "      <td>0</td>\n",
       "    </tr>\n",
       "    <tr>\n",
       "      <th>4</th>\n",
       "      <td>59</td>\n",
       "      <td>2564</td>\n",
       "      <td>0</td>\n",
       "    </tr>\n",
       "  </tbody>\n",
       "</table>\n",
       "</div>"
      ],
      "text/plain": [
       "   shop_id  item_id  date_block_num\n",
       "0       59    22154               0\n",
       "1       59     2552               0\n",
       "2       59     2554               0\n",
       "3       59     2555               0\n",
       "4       59     2564               0"
      ]
     },
     "execution_count": 34,
     "metadata": {},
     "output_type": "execute_result"
    }
   ],
   "source": [
    "cartesian_test_df.head()"
   ]
  },
  {
   "cell_type": "code",
   "execution_count": 35,
   "metadata": {},
   "outputs": [
    {
     "data": {
      "text/plain": [
       "(740903, 3)"
      ]
     },
     "execution_count": 35,
     "metadata": {},
     "output_type": "execute_result"
    }
   ],
   "source": [
    "cartesian_test_df.shape"
   ]
  },
  {
   "cell_type": "code",
   "execution_count": 36,
   "metadata": {},
   "outputs": [],
   "source": [
    "from tqdm import tqdm_notebook\n",
    "\n",
    "def downcast_dtypes(df):\n",
    "    '''\n",
    "        Changes column types in the dataframe: \n",
    "                \n",
    "                `float64` type to `float32`\n",
    "                `int64`   type to `int32`\n",
    "    '''\n",
    "    \n",
    "    # Select columns to downcast\n",
    "    float_cols = [c for c in df if df[c].dtype == \"float64\"]\n",
    "    int_cols =   [c for c in df if df[c].dtype == \"int64\"]\n",
    "    \n",
    "    # Downcast\n",
    "    df[float_cols] = df[float_cols].astype(np.float16)\n",
    "    df[int_cols]   = df[int_cols].astype(np.int16)\n",
    "    \n",
    "    return df"
   ]
  },
  {
   "cell_type": "code",
   "execution_count": 37,
   "metadata": {},
   "outputs": [],
   "source": [
    "months = train['date_block_num'].unique()\n",
    "cartesian = []\n",
    "for month in months:\n",
    "    shops_in_month = train.loc[train['date_block_num']==month, 'shop_id'].unique()\n",
    "    items_in_month = train.loc[train['date_block_num']==month, 'item_id'].unique()\n",
    "    cartesian.append(np.array(list(product(*[shops_in_month, items_in_month, [month]])), dtype='int32'))"
   ]
  },
  {
   "cell_type": "code",
   "execution_count": 38,
   "metadata": {},
   "outputs": [],
   "source": [
    "cartesian_df = pd.DataFrame(np.vstack(cartesian), columns = ['shop_id', 'item_id', 'date_block_num'], dtype=np.int32)"
   ]
  },
  {
   "cell_type": "code",
   "execution_count": 39,
   "metadata": {},
   "outputs": [
    {
     "data": {
      "text/plain": [
       "(10913850, 3)"
      ]
     },
     "execution_count": 39,
     "metadata": {},
     "output_type": "execute_result"
    }
   ],
   "source": [
    "cartesian_df.shape"
   ]
  },
  {
   "cell_type": "code",
   "execution_count": null,
   "metadata": {},
   "outputs": [],
   "source": []
  },
  {
   "cell_type": "code",
   "execution_count": 40,
   "metadata": {},
   "outputs": [
    {
     "data": {
      "text/html": [
       "<div>\n",
       "<style scoped>\n",
       "    .dataframe tbody tr th:only-of-type {\n",
       "        vertical-align: middle;\n",
       "    }\n",
       "\n",
       "    .dataframe tbody tr th {\n",
       "        vertical-align: top;\n",
       "    }\n",
       "\n",
       "    .dataframe thead th {\n",
       "        text-align: right;\n",
       "    }\n",
       "</style>\n",
       "<table border=\"1\" class=\"dataframe\">\n",
       "  <thead>\n",
       "    <tr style=\"text-align: right;\">\n",
       "      <th></th>\n",
       "      <th>shop_id</th>\n",
       "      <th>item_id</th>\n",
       "      <th>date_block_num</th>\n",
       "      <th>item_cnt_month</th>\n",
       "    </tr>\n",
       "  </thead>\n",
       "  <tbody>\n",
       "    <tr>\n",
       "      <th>0</th>\n",
       "      <td>2</td>\n",
       "      <td>27</td>\n",
       "      <td>0</td>\n",
       "      <td>1.0</td>\n",
       "    </tr>\n",
       "    <tr>\n",
       "      <th>1</th>\n",
       "      <td>2</td>\n",
       "      <td>27</td>\n",
       "      <td>17</td>\n",
       "      <td>1.0</td>\n",
       "    </tr>\n",
       "    <tr>\n",
       "      <th>2</th>\n",
       "      <td>2</td>\n",
       "      <td>30</td>\n",
       "      <td>2</td>\n",
       "      <td>1.0</td>\n",
       "    </tr>\n",
       "    <tr>\n",
       "      <th>3</th>\n",
       "      <td>2</td>\n",
       "      <td>30</td>\n",
       "      <td>5</td>\n",
       "      <td>1.0</td>\n",
       "    </tr>\n",
       "    <tr>\n",
       "      <th>4</th>\n",
       "      <td>2</td>\n",
       "      <td>30</td>\n",
       "      <td>15</td>\n",
       "      <td>1.0</td>\n",
       "    </tr>\n",
       "  </tbody>\n",
       "</table>\n",
       "</div>"
      ],
      "text/plain": [
       "   shop_id  item_id  date_block_num  item_cnt_month\n",
       "0        2       27               0             1.0\n",
       "1        2       27              17             1.0\n",
       "2        2       30               2             1.0\n",
       "3        2       30               5             1.0\n",
       "4        2       30              15             1.0"
      ]
     },
     "execution_count": 40,
     "metadata": {},
     "output_type": "execute_result"
    }
   ],
   "source": [
    "x = train.groupby(['shop_id', 'item_id', 'date_block_num'])['item_cnt_day'].sum().rename('item_cnt_month').reset_index()\n",
    "x.head()"
   ]
  },
  {
   "cell_type": "code",
   "execution_count": 41,
   "metadata": {},
   "outputs": [
    {
     "data": {
      "text/plain": [
       "(1609124, 4)"
      ]
     },
     "execution_count": 41,
     "metadata": {},
     "output_type": "execute_result"
    }
   ],
   "source": [
    "x.shape"
   ]
  },
  {
   "cell_type": "code",
   "execution_count": 42,
   "metadata": {},
   "outputs": [],
   "source": [
    "new_train = pd.merge(cartesian_df, x, on=['shop_id', 'item_id', 'date_block_num'], how='left').fillna(0)"
   ]
  },
  {
   "cell_type": "code",
   "execution_count": 43,
   "metadata": {},
   "outputs": [],
   "source": [
    "new_train['item_cnt_month'] = np.clip(new_train['item_cnt_month'], 0, 20)"
   ]
  },
  {
   "cell_type": "code",
   "execution_count": null,
   "metadata": {},
   "outputs": [],
   "source": []
  },
  {
   "cell_type": "code",
   "execution_count": null,
   "metadata": {},
   "outputs": [],
   "source": []
  },
  {
   "cell_type": "code",
   "execution_count": 44,
   "metadata": {},
   "outputs": [
    {
     "data": {
      "text/html": [
       "<div>\n",
       "<style scoped>\n",
       "    .dataframe tbody tr th:only-of-type {\n",
       "        vertical-align: middle;\n",
       "    }\n",
       "\n",
       "    .dataframe tbody tr th {\n",
       "        vertical-align: top;\n",
       "    }\n",
       "\n",
       "    .dataframe thead th {\n",
       "        text-align: right;\n",
       "    }\n",
       "</style>\n",
       "<table border=\"1\" class=\"dataframe\">\n",
       "  <thead>\n",
       "    <tr style=\"text-align: right;\">\n",
       "      <th></th>\n",
       "      <th>shop_id</th>\n",
       "      <th>item_id</th>\n",
       "      <th>date_block_num</th>\n",
       "      <th>item_cnt_month</th>\n",
       "    </tr>\n",
       "  </thead>\n",
       "  <tbody>\n",
       "    <tr>\n",
       "      <th>114910</th>\n",
       "      <td>2</td>\n",
       "      <td>19</td>\n",
       "      <td>0</td>\n",
       "      <td>0.0</td>\n",
       "    </tr>\n",
       "    <tr>\n",
       "      <th>117150</th>\n",
       "      <td>2</td>\n",
       "      <td>27</td>\n",
       "      <td>0</td>\n",
       "      <td>1.0</td>\n",
       "    </tr>\n",
       "    <tr>\n",
       "      <th>120623</th>\n",
       "      <td>2</td>\n",
       "      <td>28</td>\n",
       "      <td>0</td>\n",
       "      <td>0.0</td>\n",
       "    </tr>\n",
       "    <tr>\n",
       "      <th>118316</th>\n",
       "      <td>2</td>\n",
       "      <td>29</td>\n",
       "      <td>0</td>\n",
       "      <td>0.0</td>\n",
       "    </tr>\n",
       "    <tr>\n",
       "      <th>114602</th>\n",
       "      <td>2</td>\n",
       "      <td>32</td>\n",
       "      <td>0</td>\n",
       "      <td>0.0</td>\n",
       "    </tr>\n",
       "  </tbody>\n",
       "</table>\n",
       "</div>"
      ],
      "text/plain": [
       "        shop_id  item_id  date_block_num  item_cnt_month\n",
       "114910        2       19               0             0.0\n",
       "117150        2       27               0             1.0\n",
       "120623        2       28               0             0.0\n",
       "118316        2       29               0             0.0\n",
       "114602        2       32               0             0.0"
      ]
     },
     "execution_count": 44,
     "metadata": {},
     "output_type": "execute_result"
    }
   ],
   "source": [
    "new_train.sort_values(['date_block_num','shop_id','item_id'], inplace = True)\n",
    "new_train.head()"
   ]
  },
  {
   "cell_type": "code",
   "execution_count": null,
   "metadata": {},
   "outputs": [],
   "source": []
  },
  {
   "cell_type": "code",
   "execution_count": null,
   "metadata": {},
   "outputs": [],
   "source": []
  },
  {
   "cell_type": "code",
   "execution_count": 45,
   "metadata": {},
   "outputs": [
    {
     "data": {
      "text/html": [
       "<div>\n",
       "<style scoped>\n",
       "    .dataframe tbody tr th:only-of-type {\n",
       "        vertical-align: middle;\n",
       "    }\n",
       "\n",
       "    .dataframe tbody tr th {\n",
       "        vertical-align: top;\n",
       "    }\n",
       "\n",
       "    .dataframe thead th {\n",
       "        text-align: right;\n",
       "    }\n",
       "</style>\n",
       "<table border=\"1\" class=\"dataframe\">\n",
       "  <thead>\n",
       "    <tr style=\"text-align: right;\">\n",
       "      <th></th>\n",
       "      <th>ID</th>\n",
       "      <th>shop_id</th>\n",
       "      <th>item_id</th>\n",
       "      <th>date_block_num</th>\n",
       "      <th>item_cnt_month</th>\n",
       "    </tr>\n",
       "  </thead>\n",
       "  <tbody>\n",
       "    <tr>\n",
       "      <th>0</th>\n",
       "      <td>0</td>\n",
       "      <td>5</td>\n",
       "      <td>5037</td>\n",
       "      <td>34</td>\n",
       "      <td>0</td>\n",
       "    </tr>\n",
       "    <tr>\n",
       "      <th>1</th>\n",
       "      <td>1</td>\n",
       "      <td>5</td>\n",
       "      <td>5320</td>\n",
       "      <td>34</td>\n",
       "      <td>0</td>\n",
       "    </tr>\n",
       "    <tr>\n",
       "      <th>2</th>\n",
       "      <td>2</td>\n",
       "      <td>5</td>\n",
       "      <td>5233</td>\n",
       "      <td>34</td>\n",
       "      <td>0</td>\n",
       "    </tr>\n",
       "    <tr>\n",
       "      <th>3</th>\n",
       "      <td>3</td>\n",
       "      <td>5</td>\n",
       "      <td>5232</td>\n",
       "      <td>34</td>\n",
       "      <td>0</td>\n",
       "    </tr>\n",
       "    <tr>\n",
       "      <th>4</th>\n",
       "      <td>4</td>\n",
       "      <td>5</td>\n",
       "      <td>5268</td>\n",
       "      <td>34</td>\n",
       "      <td>0</td>\n",
       "    </tr>\n",
       "  </tbody>\n",
       "</table>\n",
       "</div>"
      ],
      "text/plain": [
       "   ID  shop_id  item_id  date_block_num  item_cnt_month\n",
       "0   0        5     5037              34               0\n",
       "1   1        5     5320              34               0\n",
       "2   2        5     5233              34               0\n",
       "3   3        5     5232              34               0\n",
       "4   4        5     5268              34               0"
      ]
     },
     "execution_count": 45,
     "metadata": {},
     "output_type": "execute_result"
    }
   ],
   "source": [
    "test.insert(loc=3, column='date_block_num', value=34)\n",
    "test['item_cnt_month'] = 0\n",
    "test.head()"
   ]
  },
  {
   "cell_type": "code",
   "execution_count": 46,
   "metadata": {},
   "outputs": [],
   "source": [
    "new_train = new_train.append(test.drop('ID', axis = 1))"
   ]
  },
  {
   "cell_type": "code",
   "execution_count": 47,
   "metadata": {},
   "outputs": [
    {
     "data": {
      "text/html": [
       "<div>\n",
       "<style scoped>\n",
       "    .dataframe tbody tr th:only-of-type {\n",
       "        vertical-align: middle;\n",
       "    }\n",
       "\n",
       "    .dataframe tbody tr th {\n",
       "        vertical-align: top;\n",
       "    }\n",
       "\n",
       "    .dataframe thead th {\n",
       "        text-align: right;\n",
       "    }\n",
       "</style>\n",
       "<table border=\"1\" class=\"dataframe\">\n",
       "  <thead>\n",
       "    <tr style=\"text-align: right;\">\n",
       "      <th></th>\n",
       "      <th>shop_id</th>\n",
       "      <th>item_id</th>\n",
       "      <th>date_block_num</th>\n",
       "      <th>item_cnt_month</th>\n",
       "      <th>city_label</th>\n",
       "    </tr>\n",
       "  </thead>\n",
       "  <tbody>\n",
       "    <tr>\n",
       "      <th>0</th>\n",
       "      <td>2</td>\n",
       "      <td>19</td>\n",
       "      <td>0</td>\n",
       "      <td>0.0</td>\n",
       "      <td>0</td>\n",
       "    </tr>\n",
       "    <tr>\n",
       "      <th>1</th>\n",
       "      <td>2</td>\n",
       "      <td>27</td>\n",
       "      <td>0</td>\n",
       "      <td>1.0</td>\n",
       "      <td>0</td>\n",
       "    </tr>\n",
       "    <tr>\n",
       "      <th>2</th>\n",
       "      <td>2</td>\n",
       "      <td>28</td>\n",
       "      <td>0</td>\n",
       "      <td>0.0</td>\n",
       "      <td>0</td>\n",
       "    </tr>\n",
       "    <tr>\n",
       "      <th>3</th>\n",
       "      <td>2</td>\n",
       "      <td>29</td>\n",
       "      <td>0</td>\n",
       "      <td>0.0</td>\n",
       "      <td>0</td>\n",
       "    </tr>\n",
       "    <tr>\n",
       "      <th>4</th>\n",
       "      <td>2</td>\n",
       "      <td>32</td>\n",
       "      <td>0</td>\n",
       "      <td>0.0</td>\n",
       "      <td>0</td>\n",
       "    </tr>\n",
       "  </tbody>\n",
       "</table>\n",
       "</div>"
      ],
      "text/plain": [
       "   shop_id  item_id  date_block_num  item_cnt_month  city_label\n",
       "0        2       19               0             0.0           0\n",
       "1        2       27               0             1.0           0\n",
       "2        2       28               0             0.0           0\n",
       "3        2       29               0             0.0           0\n",
       "4        2       32               0             0.0           0"
      ]
     },
     "execution_count": 47,
     "metadata": {},
     "output_type": "execute_result"
    }
   ],
   "source": [
    "new_train = pd.merge(new_train, shops, on=['shop_id'], how='left')\n",
    "new_train.head()"
   ]
  },
  {
   "cell_type": "code",
   "execution_count": 48,
   "metadata": {},
   "outputs": [
    {
     "data": {
      "text/html": [
       "<div>\n",
       "<style scoped>\n",
       "    .dataframe tbody tr th:only-of-type {\n",
       "        vertical-align: middle;\n",
       "    }\n",
       "\n",
       "    .dataframe tbody tr th {\n",
       "        vertical-align: top;\n",
       "    }\n",
       "\n",
       "    .dataframe thead th {\n",
       "        text-align: right;\n",
       "    }\n",
       "</style>\n",
       "<table border=\"1\" class=\"dataframe\">\n",
       "  <thead>\n",
       "    <tr style=\"text-align: right;\">\n",
       "      <th></th>\n",
       "      <th>shop_id</th>\n",
       "      <th>item_id</th>\n",
       "      <th>date_block_num</th>\n",
       "      <th>item_cnt_month</th>\n",
       "      <th>city_label</th>\n",
       "      <th>item_category_id</th>\n",
       "    </tr>\n",
       "  </thead>\n",
       "  <tbody>\n",
       "    <tr>\n",
       "      <th>0</th>\n",
       "      <td>2</td>\n",
       "      <td>19</td>\n",
       "      <td>0</td>\n",
       "      <td>0.0</td>\n",
       "      <td>0</td>\n",
       "      <td>40</td>\n",
       "    </tr>\n",
       "    <tr>\n",
       "      <th>1</th>\n",
       "      <td>2</td>\n",
       "      <td>27</td>\n",
       "      <td>0</td>\n",
       "      <td>1.0</td>\n",
       "      <td>0</td>\n",
       "      <td>19</td>\n",
       "    </tr>\n",
       "    <tr>\n",
       "      <th>2</th>\n",
       "      <td>2</td>\n",
       "      <td>28</td>\n",
       "      <td>0</td>\n",
       "      <td>0.0</td>\n",
       "      <td>0</td>\n",
       "      <td>30</td>\n",
       "    </tr>\n",
       "    <tr>\n",
       "      <th>3</th>\n",
       "      <td>2</td>\n",
       "      <td>29</td>\n",
       "      <td>0</td>\n",
       "      <td>0.0</td>\n",
       "      <td>0</td>\n",
       "      <td>23</td>\n",
       "    </tr>\n",
       "    <tr>\n",
       "      <th>4</th>\n",
       "      <td>2</td>\n",
       "      <td>32</td>\n",
       "      <td>0</td>\n",
       "      <td>0.0</td>\n",
       "      <td>0</td>\n",
       "      <td>40</td>\n",
       "    </tr>\n",
       "  </tbody>\n",
       "</table>\n",
       "</div>"
      ],
      "text/plain": [
       "   shop_id  item_id  date_block_num  item_cnt_month  city_label  \\\n",
       "0        2       19               0             0.0           0   \n",
       "1        2       27               0             1.0           0   \n",
       "2        2       28               0             0.0           0   \n",
       "3        2       29               0             0.0           0   \n",
       "4        2       32               0             0.0           0   \n",
       "\n",
       "   item_category_id  \n",
       "0                40  \n",
       "1                19  \n",
       "2                30  \n",
       "3                23  \n",
       "4                40  "
      ]
     },
     "execution_count": 48,
     "metadata": {},
     "output_type": "execute_result"
    }
   ],
   "source": [
    "new_train = pd.merge(new_train, items.drop('item_name', axis = 1), on=['item_id'], how='left')\n",
    "new_train.head()"
   ]
  },
  {
   "cell_type": "code",
   "execution_count": 49,
   "metadata": {},
   "outputs": [
    {
     "data": {
      "text/html": [
       "<div>\n",
       "<style scoped>\n",
       "    .dataframe tbody tr th:only-of-type {\n",
       "        vertical-align: middle;\n",
       "    }\n",
       "\n",
       "    .dataframe tbody tr th {\n",
       "        vertical-align: top;\n",
       "    }\n",
       "\n",
       "    .dataframe thead th {\n",
       "        text-align: right;\n",
       "    }\n",
       "</style>\n",
       "<table border=\"1\" class=\"dataframe\">\n",
       "  <thead>\n",
       "    <tr style=\"text-align: right;\">\n",
       "      <th></th>\n",
       "      <th>shop_id</th>\n",
       "      <th>item_id</th>\n",
       "      <th>date_block_num</th>\n",
       "      <th>item_cnt_month</th>\n",
       "      <th>city_label</th>\n",
       "      <th>item_category_id</th>\n",
       "      <th>main_category_id</th>\n",
       "      <th>sub_category_id</th>\n",
       "    </tr>\n",
       "  </thead>\n",
       "  <tbody>\n",
       "    <tr>\n",
       "      <th>0</th>\n",
       "      <td>2</td>\n",
       "      <td>19</td>\n",
       "      <td>0</td>\n",
       "      <td>0.0</td>\n",
       "      <td>0</td>\n",
       "      <td>40</td>\n",
       "      <td>11</td>\n",
       "      <td>4</td>\n",
       "    </tr>\n",
       "    <tr>\n",
       "      <th>1</th>\n",
       "      <td>2</td>\n",
       "      <td>27</td>\n",
       "      <td>0</td>\n",
       "      <td>1.0</td>\n",
       "      <td>0</td>\n",
       "      <td>19</td>\n",
       "      <td>5</td>\n",
       "      <td>10</td>\n",
       "    </tr>\n",
       "    <tr>\n",
       "      <th>2</th>\n",
       "      <td>2</td>\n",
       "      <td>28</td>\n",
       "      <td>0</td>\n",
       "      <td>0.0</td>\n",
       "      <td>0</td>\n",
       "      <td>30</td>\n",
       "      <td>8</td>\n",
       "      <td>55</td>\n",
       "    </tr>\n",
       "    <tr>\n",
       "      <th>3</th>\n",
       "      <td>2</td>\n",
       "      <td>29</td>\n",
       "      <td>0</td>\n",
       "      <td>0.0</td>\n",
       "      <td>0</td>\n",
       "      <td>23</td>\n",
       "      <td>5</td>\n",
       "      <td>16</td>\n",
       "    </tr>\n",
       "    <tr>\n",
       "      <th>4</th>\n",
       "      <td>2</td>\n",
       "      <td>32</td>\n",
       "      <td>0</td>\n",
       "      <td>0.0</td>\n",
       "      <td>0</td>\n",
       "      <td>40</td>\n",
       "      <td>11</td>\n",
       "      <td>4</td>\n",
       "    </tr>\n",
       "  </tbody>\n",
       "</table>\n",
       "</div>"
      ],
      "text/plain": [
       "   shop_id  item_id  date_block_num  item_cnt_month  city_label  \\\n",
       "0        2       19               0             0.0           0   \n",
       "1        2       27               0             1.0           0   \n",
       "2        2       28               0             0.0           0   \n",
       "3        2       29               0             0.0           0   \n",
       "4        2       32               0             0.0           0   \n",
       "\n",
       "   item_category_id  main_category_id  sub_category_id  \n",
       "0                40                11                4  \n",
       "1                19                 5               10  \n",
       "2                30                 8               55  \n",
       "3                23                 5               16  \n",
       "4                40                11                4  "
      ]
     },
     "execution_count": 49,
     "metadata": {},
     "output_type": "execute_result"
    }
   ],
   "source": [
    "new_train = pd.merge(new_train, categories.drop('item_category_name', axis = 1), on=['item_category_id'], how='left')\n",
    "new_train.head()"
   ]
  },
  {
   "cell_type": "code",
   "execution_count": null,
   "metadata": {},
   "outputs": [],
   "source": []
  },
  {
   "cell_type": "code",
   "execution_count": null,
   "metadata": {},
   "outputs": [],
   "source": []
  },
  {
   "cell_type": "code",
   "execution_count": 50,
   "metadata": {},
   "outputs": [],
   "source": [
    "def generate_lag(train, months, lag_column):\n",
    "    for month in months:\n",
    "        # Speed up by grabbing only the useful bits\n",
    "        train_shift = train[['date_block_num', 'shop_id', 'item_id', lag_column]].copy()\n",
    "        train_shift.columns = ['date_block_num', 'shop_id', 'item_id', lag_column+'_lag_'+ str(month)]\n",
    "        train_shift['date_block_num'] += month\n",
    "        train = pd.merge(train, train_shift, on=['date_block_num', 'shop_id', 'item_id'], how='left')\n",
    "    return train"
   ]
  },
  {
   "cell_type": "code",
   "execution_count": 51,
   "metadata": {},
   "outputs": [],
   "source": [
    "new_train = downcast_dtypes(new_train)"
   ]
  },
  {
   "cell_type": "code",
   "execution_count": null,
   "metadata": {},
   "outputs": [],
   "source": []
  },
  {
   "cell_type": "code",
   "execution_count": null,
   "metadata": {},
   "outputs": [],
   "source": []
  },
  {
   "cell_type": "code",
   "execution_count": 52,
   "metadata": {},
   "outputs": [
    {
     "name": "stdout",
     "output_type": "stream",
     "text": [
      "Wall time: 51.6 s\n"
     ]
    }
   ],
   "source": [
    "%%time\n",
    "new_train = generate_lag(new_train, [1,2,3,4,5,6,12], 'item_cnt_month')"
   ]
  },
  {
   "cell_type": "code",
   "execution_count": 53,
   "metadata": {},
   "outputs": [
    {
     "name": "stdout",
     "output_type": "stream",
     "text": [
      "Wall time: 49.8 s\n"
     ]
    }
   ],
   "source": [
    "%%time\n",
    "group = new_train.groupby(['date_block_num', 'item_id'])['item_cnt_month'].mean().rename('item_month_mean').reset_index()\n",
    "new_train = pd.merge(new_train, group, on=['date_block_num', 'item_id'], how='left')\n",
    "new_train = generate_lag(new_train, [1,2,3,6,12], 'item_month_mean')\n",
    "new_train.drop(['item_month_mean'], axis=1, inplace=True)"
   ]
  },
  {
   "cell_type": "code",
   "execution_count": 54,
   "metadata": {},
   "outputs": [
    {
     "name": "stdout",
     "output_type": "stream",
     "text": [
      "Wall time: 54.5 s\n"
     ]
    }
   ],
   "source": [
    "%%time\n",
    "group = new_train.groupby(['date_block_num', 'shop_id'])['item_cnt_month'].mean().rename('shop_month_mean').reset_index()\n",
    "new_train = pd.merge(new_train, group, on=['date_block_num', 'shop_id'], how='left')\n",
    "new_train = generate_lag(new_train, [1,2,3,6,12], 'shop_month_mean')\n",
    "new_train.drop(['shop_month_mean'], axis=1, inplace=True)"
   ]
  },
  {
   "cell_type": "code",
   "execution_count": 55,
   "metadata": {},
   "outputs": [
    {
     "name": "stdout",
     "output_type": "stream",
     "text": [
      "Wall time: 28.2 s\n"
     ]
    }
   ],
   "source": [
    "%%time\n",
    "group = new_train.groupby(['date_block_num', 'shop_id', 'item_category_id'])['item_cnt_month'].mean().rename('shop_category_month_mean').reset_index()\n",
    "new_train = pd.merge(new_train, group, on=['date_block_num', 'shop_id', 'item_category_id'], how='left')\n",
    "new_train = generate_lag(new_train, [1, 2], 'shop_category_month_mean')\n",
    "new_train.drop(['shop_category_month_mean'], axis=1, inplace=True)"
   ]
  },
  {
   "cell_type": "code",
   "execution_count": 56,
   "metadata": {},
   "outputs": [
    {
     "name": "stdout",
     "output_type": "stream",
     "text": [
      "Wall time: 17.9 s\n"
     ]
    }
   ],
   "source": [
    "%%time\n",
    "group = new_train.groupby(['date_block_num', 'main_category_id'])['item_cnt_month'].mean().rename('main_category_month_mean').reset_index()\n",
    "new_train = pd.merge(new_train, group, on=['date_block_num', 'main_category_id'], how='left')\n",
    "\n",
    "new_train = generate_lag(new_train, [1], 'main_category_month_mean')\n",
    "new_train.drop(['main_category_month_mean'], axis=1, inplace=True)"
   ]
  },
  {
   "cell_type": "code",
   "execution_count": 57,
   "metadata": {},
   "outputs": [
    {
     "name": "stdout",
     "output_type": "stream",
     "text": [
      "Wall time: 18.5 s\n"
     ]
    }
   ],
   "source": [
    "%%time\n",
    "group = new_train.groupby(['date_block_num', 'sub_category_id'])['item_cnt_month'].mean().rename('sub_category_month_mean').reset_index()\n",
    "new_train = pd.merge(new_train, group, on=['date_block_num', 'sub_category_id'], how='left')\n",
    "\n",
    "new_train = generate_lag(new_train, [1], 'sub_category_month_mean')\n",
    "new_train.drop(['sub_category_month_mean'], axis=1, inplace=True)"
   ]
  },
  {
   "cell_type": "code",
   "execution_count": 58,
   "metadata": {},
   "outputs": [
    {
     "data": {
      "text/html": [
       "<div>\n",
       "<style scoped>\n",
       "    .dataframe tbody tr th:only-of-type {\n",
       "        vertical-align: middle;\n",
       "    }\n",
       "\n",
       "    .dataframe tbody tr th {\n",
       "        vertical-align: top;\n",
       "    }\n",
       "\n",
       "    .dataframe thead th {\n",
       "        text-align: right;\n",
       "    }\n",
       "</style>\n",
       "<table border=\"1\" class=\"dataframe\">\n",
       "  <thead>\n",
       "    <tr style=\"text-align: right;\">\n",
       "      <th></th>\n",
       "      <th>shop_id</th>\n",
       "      <th>item_id</th>\n",
       "      <th>date_block_num</th>\n",
       "      <th>item_cnt_month</th>\n",
       "      <th>city_label</th>\n",
       "      <th>item_category_id</th>\n",
       "      <th>main_category_id</th>\n",
       "      <th>sub_category_id</th>\n",
       "      <th>item_cnt_month_lag_1</th>\n",
       "      <th>item_cnt_month_lag_2</th>\n",
       "      <th>...</th>\n",
       "      <th>item_month_mean_lag_12</th>\n",
       "      <th>shop_month_mean_lag_1</th>\n",
       "      <th>shop_month_mean_lag_2</th>\n",
       "      <th>shop_month_mean_lag_3</th>\n",
       "      <th>shop_month_mean_lag_6</th>\n",
       "      <th>shop_month_mean_lag_12</th>\n",
       "      <th>shop_category_month_mean_lag_1</th>\n",
       "      <th>shop_category_month_mean_lag_2</th>\n",
       "      <th>main_category_month_mean_lag_1</th>\n",
       "      <th>sub_category_month_mean_lag_1</th>\n",
       "    </tr>\n",
       "  </thead>\n",
       "  <tbody>\n",
       "    <tr>\n",
       "      <th>11128045</th>\n",
       "      <td>45</td>\n",
       "      <td>18454</td>\n",
       "      <td>34</td>\n",
       "      <td>0.0</td>\n",
       "      <td>20</td>\n",
       "      <td>55</td>\n",
       "      <td>13</td>\n",
       "      <td>2</td>\n",
       "      <td>1.0</td>\n",
       "      <td>0.0</td>\n",
       "      <td>...</td>\n",
       "      <td>NaN</td>\n",
       "      <td>0.126709</td>\n",
       "      <td>0.128784</td>\n",
       "      <td>0.139038</td>\n",
       "      <td>0.137573</td>\n",
       "      <td>NaN</td>\n",
       "      <td>0.126831</td>\n",
       "      <td>0.074524</td>\n",
       "      <td>0.146973</td>\n",
       "      <td>0.196899</td>\n",
       "    </tr>\n",
       "    <tr>\n",
       "      <th>11128046</th>\n",
       "      <td>45</td>\n",
       "      <td>16188</td>\n",
       "      <td>34</td>\n",
       "      <td>0.0</td>\n",
       "      <td>20</td>\n",
       "      <td>64</td>\n",
       "      <td>14</td>\n",
       "      <td>42</td>\n",
       "      <td>0.0</td>\n",
       "      <td>0.0</td>\n",
       "      <td>...</td>\n",
       "      <td>NaN</td>\n",
       "      <td>0.126709</td>\n",
       "      <td>0.128784</td>\n",
       "      <td>NaN</td>\n",
       "      <td>NaN</td>\n",
       "      <td>NaN</td>\n",
       "      <td>0.094482</td>\n",
       "      <td>0.117126</td>\n",
       "      <td>0.237305</td>\n",
       "      <td>0.155884</td>\n",
       "    </tr>\n",
       "    <tr>\n",
       "      <th>11128047</th>\n",
       "      <td>45</td>\n",
       "      <td>15757</td>\n",
       "      <td>34</td>\n",
       "      <td>0.0</td>\n",
       "      <td>20</td>\n",
       "      <td>55</td>\n",
       "      <td>13</td>\n",
       "      <td>2</td>\n",
       "      <td>0.0</td>\n",
       "      <td>0.0</td>\n",
       "      <td>...</td>\n",
       "      <td>0.180054</td>\n",
       "      <td>0.126709</td>\n",
       "      <td>0.128784</td>\n",
       "      <td>0.139038</td>\n",
       "      <td>0.137573</td>\n",
       "      <td>0.181274</td>\n",
       "      <td>0.126831</td>\n",
       "      <td>0.074524</td>\n",
       "      <td>0.146973</td>\n",
       "      <td>0.196899</td>\n",
       "    </tr>\n",
       "    <tr>\n",
       "      <th>11128048</th>\n",
       "      <td>45</td>\n",
       "      <td>19648</td>\n",
       "      <td>34</td>\n",
       "      <td>0.0</td>\n",
       "      <td>20</td>\n",
       "      <td>40</td>\n",
       "      <td>11</td>\n",
       "      <td>4</td>\n",
       "      <td>0.0</td>\n",
       "      <td>0.0</td>\n",
       "      <td>...</td>\n",
       "      <td>NaN</td>\n",
       "      <td>0.126709</td>\n",
       "      <td>0.128784</td>\n",
       "      <td>0.139038</td>\n",
       "      <td>0.137573</td>\n",
       "      <td>NaN</td>\n",
       "      <td>0.083740</td>\n",
       "      <td>0.074097</td>\n",
       "      <td>0.224243</td>\n",
       "      <td>0.220825</td>\n",
       "    </tr>\n",
       "    <tr>\n",
       "      <th>11128049</th>\n",
       "      <td>45</td>\n",
       "      <td>969</td>\n",
       "      <td>34</td>\n",
       "      <td>0.0</td>\n",
       "      <td>20</td>\n",
       "      <td>37</td>\n",
       "      <td>11</td>\n",
       "      <td>1</td>\n",
       "      <td>0.0</td>\n",
       "      <td>0.0</td>\n",
       "      <td>...</td>\n",
       "      <td>0.119995</td>\n",
       "      <td>0.126709</td>\n",
       "      <td>0.128784</td>\n",
       "      <td>0.139038</td>\n",
       "      <td>0.137573</td>\n",
       "      <td>0.181274</td>\n",
       "      <td>0.128174</td>\n",
       "      <td>0.067444</td>\n",
       "      <td>0.224243</td>\n",
       "      <td>0.240967</td>\n",
       "    </tr>\n",
       "  </tbody>\n",
       "</table>\n",
       "<p>5 rows × 29 columns</p>\n",
       "</div>"
      ],
      "text/plain": [
       "          shop_id  item_id  date_block_num  item_cnt_month  city_label  \\\n",
       "11128045       45    18454              34             0.0          20   \n",
       "11128046       45    16188              34             0.0          20   \n",
       "11128047       45    15757              34             0.0          20   \n",
       "11128048       45    19648              34             0.0          20   \n",
       "11128049       45      969              34             0.0          20   \n",
       "\n",
       "          item_category_id  main_category_id  sub_category_id  \\\n",
       "11128045                55                13                2   \n",
       "11128046                64                14               42   \n",
       "11128047                55                13                2   \n",
       "11128048                40                11                4   \n",
       "11128049                37                11                1   \n",
       "\n",
       "          item_cnt_month_lag_1  item_cnt_month_lag_2  \\\n",
       "11128045                   1.0                   0.0   \n",
       "11128046                   0.0                   0.0   \n",
       "11128047                   0.0                   0.0   \n",
       "11128048                   0.0                   0.0   \n",
       "11128049                   0.0                   0.0   \n",
       "\n",
       "                      ...                item_month_mean_lag_12  \\\n",
       "11128045              ...                                   NaN   \n",
       "11128046              ...                                   NaN   \n",
       "11128047              ...                              0.180054   \n",
       "11128048              ...                                   NaN   \n",
       "11128049              ...                              0.119995   \n",
       "\n",
       "          shop_month_mean_lag_1  shop_month_mean_lag_2  shop_month_mean_lag_3  \\\n",
       "11128045               0.126709               0.128784               0.139038   \n",
       "11128046               0.126709               0.128784                    NaN   \n",
       "11128047               0.126709               0.128784               0.139038   \n",
       "11128048               0.126709               0.128784               0.139038   \n",
       "11128049               0.126709               0.128784               0.139038   \n",
       "\n",
       "          shop_month_mean_lag_6  shop_month_mean_lag_12  \\\n",
       "11128045               0.137573                     NaN   \n",
       "11128046                    NaN                     NaN   \n",
       "11128047               0.137573                0.181274   \n",
       "11128048               0.137573                     NaN   \n",
       "11128049               0.137573                0.181274   \n",
       "\n",
       "          shop_category_month_mean_lag_1  shop_category_month_mean_lag_2  \\\n",
       "11128045                        0.126831                        0.074524   \n",
       "11128046                        0.094482                        0.117126   \n",
       "11128047                        0.126831                        0.074524   \n",
       "11128048                        0.083740                        0.074097   \n",
       "11128049                        0.128174                        0.067444   \n",
       "\n",
       "          main_category_month_mean_lag_1  sub_category_month_mean_lag_1  \n",
       "11128045                        0.146973                       0.196899  \n",
       "11128046                        0.237305                       0.155884  \n",
       "11128047                        0.146973                       0.196899  \n",
       "11128048                        0.224243                       0.220825  \n",
       "11128049                        0.224243                       0.240967  \n",
       "\n",
       "[5 rows x 29 columns]"
      ]
     },
     "execution_count": 58,
     "metadata": {},
     "output_type": "execute_result"
    }
   ],
   "source": [
    "new_train.tail()"
   ]
  },
  {
   "cell_type": "code",
   "execution_count": 59,
   "metadata": {},
   "outputs": [],
   "source": [
    "new_train['month'] = new_train['date_block_num'] % 12"
   ]
  },
  {
   "cell_type": "code",
   "execution_count": 60,
   "metadata": {},
   "outputs": [],
   "source": [
    "holiday_dict = {\n",
    "    0: 6,\n",
    "    1: 3,\n",
    "    2: 2,\n",
    "    3: 8,\n",
    "    4: 3,\n",
    "    5: 3,\n",
    "    6: 2,\n",
    "    7: 8,\n",
    "    8: 4,\n",
    "    9: 8,\n",
    "    10: 5,\n",
    "    11: 4,\n",
    "}"
   ]
  },
  {
   "cell_type": "code",
   "execution_count": 61,
   "metadata": {},
   "outputs": [],
   "source": [
    "new_train['holidays_in_month'] = new_train['month'].map(holiday_dict)"
   ]
  },
  {
   "cell_type": "code",
   "execution_count": null,
   "metadata": {},
   "outputs": [],
   "source": []
  },
  {
   "cell_type": "code",
   "execution_count": null,
   "metadata": {},
   "outputs": [],
   "source": []
  },
  {
   "cell_type": "code",
   "execution_count": 62,
   "metadata": {},
   "outputs": [],
   "source": [
    "def fill_na(df):\n",
    "    for col in df.columns:\n",
    "        if ('_lag_' in col) & (df[col].isnull().any()):\n",
    "            df[col].fillna(0, inplace=True)         \n",
    "    return df\n",
    "\n",
    "new_train = fill_na(new_train)"
   ]
  },
  {
   "cell_type": "code",
   "execution_count": 63,
   "metadata": {},
   "outputs": [],
   "source": [
    "x_train = new_train[new_train.date_block_num < 33].drop(['item_cnt_month'], axis=1)\n",
    "y_train = new_train[new_train.date_block_num < 33]['item_cnt_month']\n",
    "\n",
    "x_valid = new_train[new_train.date_block_num == 33].drop(['item_cnt_month'], axis=1)\n",
    "y_valid = new_train[new_train.date_block_num == 33]['item_cnt_month']\n",
    "\n",
    "x_test = new_train[new_train.date_block_num == 34].drop(['item_cnt_month'], axis=1)"
   ]
  },
  {
   "cell_type": "code",
   "execution_count": 64,
   "metadata": {},
   "outputs": [
    {
     "data": {
      "text/plain": [
       "(214200, 30)"
      ]
     },
     "execution_count": 64,
     "metadata": {},
     "output_type": "execute_result"
    }
   ],
   "source": [
    "x_test.shape"
   ]
  },
  {
   "cell_type": "code",
   "execution_count": null,
   "metadata": {},
   "outputs": [],
   "source": []
  },
  {
   "cell_type": "code",
   "execution_count": null,
   "metadata": {},
   "outputs": [],
   "source": []
  },
  {
   "cell_type": "code",
   "execution_count": 65,
   "metadata": {},
   "outputs": [
    {
     "name": "stdout",
     "output_type": "stream",
     "text": [
      "Coefficients:  [ 6.42458657e-04 -2.33661064e-07 -3.10234710e-03  1.32328284e-04\n",
      "  2.84483975e-03 -3.27894821e-02  8.01123434e-04  3.08811682e-01\n",
      "  1.12834013e-01  6.04748307e-02  2.77417585e-02  3.38466776e-02\n",
      "  4.00711951e-02  3.26840829e-02  2.86627409e-01 -1.05778158e-01\n",
      " -1.13001603e-02 -1.35221832e-02 -9.31337290e-03  8.66450218e-02\n",
      " -2.09340572e-01 -1.49494669e-01 -7.14471144e-02  3.17588640e-02\n",
      "  3.82381659e-01  9.39104415e-03 -3.02424347e-01 -2.16119189e-01\n",
      "  7.05708183e-03 -3.16885932e-03]\n",
      "Residual sum of squares: 0.94\n"
     ]
    }
   ],
   "source": [
    "from sklearn.linear_model import LinearRegression\n",
    "\n",
    "lr = LinearRegression()\n",
    "lr.fit(x_train.values, y_train)\n",
    "lr_validation = lr.predict(x_valid.values)\n",
    "print ('Coefficients: ', lr.coef_)\n",
    "print(\"Residual sum of squares: %.2f\"\n",
    "      % np.mean((lr_validation - y_valid) ** 2))\n"
   ]
  },
  {
   "cell_type": "code",
   "execution_count": 66,
   "metadata": {},
   "outputs": [
    {
     "name": "stdout",
     "output_type": "stream",
     "text": [
      "0.3255470118158768\n",
      "0.9370522608745918\n",
      "0.9680145974491251\n"
     ]
    }
   ],
   "source": [
    "from sklearn import metrics\n",
    "print(metrics.mean_absolute_error(y_valid, lr_validation))\n",
    "print(metrics.mean_squared_error(y_valid, lr_validation))\n",
    "print(np.sqrt(metrics.mean_squared_error(y_valid, lr_validation)))"
   ]
  },
  {
   "cell_type": "code",
   "execution_count": 67,
   "metadata": {},
   "outputs": [],
   "source": [
    "pred_stacking = lr.predict(x_test.values)\n",
    "submission = pd.DataFrame({'ID': submission.ID, 'item_cnt_month': pred_stacking})\n",
    "submission.to_csv('submission_LR.csv', index=False)"
   ]
  },
  {
   "cell_type": "code",
   "execution_count": 68,
   "metadata": {},
   "outputs": [],
   "source": [
    "#from sklearn.ensemble.forest import RandomForestRegressor\n",
    "#RF_Model = RandomForestRegressor(n_estimators=10,max_features=1, oob_score=True)\n",
    "# let's get the labels and features in order to run our \n",
    "# model fitting\n",
    "#labels = y_train\n",
    "#features = x_train\n",
    "\n",
    "# Fit the RF model with features and labels.\n",
    "#rgr=RF_Model.fit(features, labels)\n",
    "#rgr_validation = rgr.predict(x_valid);\n",
    "#print(metrics.mean_absolute_error(y_valid, rgr_validation))\n",
    "#print(metrics.mean_squared_error(y_valid, rgr_validation))\n",
    "#print(np.sqrt(metrics.mean_squared_error(y_valid, rgr_validation)))"
   ]
  },
  {
   "cell_type": "code",
   "execution_count": 69,
   "metadata": {},
   "outputs": [],
   "source": [
    "#pred_stacking = rgr.predict(x_test.values)\n",
    "#submission = pd.DataFrame({'ID': submission.ID, 'item_cnt_month': pred_stacking})\n",
    "#submission.to_csv('submission_rgr.csv', index=False)"
   ]
  },
  {
   "cell_type": "code",
   "execution_count": 70,
   "metadata": {},
   "outputs": [
    {
     "name": "stderr",
     "output_type": "stream",
     "text": [
      "C:\\Program Files (x86)\\Microsoft Visual Studio\\Shared\\Anaconda3_64\\lib\\site-packages\\distributed\\config.py:63: YAMLLoadWarning: calling yaml.load() without Loader=... is deprecated, as the default Loader is unsafe. Please read https://msg.pyyaml.org/load for full details.\n",
      "  config.update(yaml.load(text) or {})\n"
     ]
    }
   ],
   "source": [
    "import xgboost as xgb"
   ]
  },
  {
   "cell_type": "code",
   "execution_count": 71,
   "metadata": {},
   "outputs": [
    {
     "data": {
      "text/plain": [
       "7"
      ]
     },
     "execution_count": 71,
     "metadata": {},
     "output_type": "execute_result"
    }
   ],
   "source": [
    "import gc\n",
    "gc.collect()"
   ]
  },
  {
   "cell_type": "code",
   "execution_count": 72,
   "metadata": {},
   "outputs": [],
   "source": [
    "def xgtrain():\n",
    "    regressor = xgb.XGBRegressor(n_estimators = 5000,\n",
    "                                 learning_rate = 0.01,\n",
    "                                 max_depth = 10,\n",
    "                                 subsample = 0.5,\n",
    "                                 colsample_bytree = 0.5)\n",
    "    \n",
    "    regressor_ = regressor.fit(new_train[new_train.date_block_num < 33].drop(['item_cnt_month'], axis=1).values, \n",
    "                               new_train[new_train.date_block_num < 33]['item_cnt_month'].values, \n",
    "                               eval_metric = 'rmse', \n",
    "                               eval_set = [(new_train[new_train.date_block_num < 33].drop(['item_cnt_month'], axis=1).values, \n",
    "                                            new_train[new_train.date_block_num < 33]['item_cnt_month'].values), \n",
    "                                           (new_train[new_train.date_block_num == 33].drop(['item_cnt_month'], axis=1).values, \n",
    "                                            new_train[new_train.date_block_num == 33]['item_cnt_month'].values)\n",
    "                                          ], \n",
    "                               verbose=True,\n",
    "                               early_stopping_rounds = 50,\n",
    "                              )\n",
    "    return regressor_"
   ]
  },
  {
   "cell_type": "code",
   "execution_count": 73,
   "metadata": {},
   "outputs": [
    {
     "name": "stdout",
     "output_type": "stream",
     "text": [
      "[13:18:05] WARNING: C:\\Users\\Administrator\\workspace\\xgboost-win64_release_1.1.0\\src\\gbm\\gbtree.cc:139: Tree method is automatically selected to be 'approx' for faster speed. To use old behavior (exact greedy algorithm on single machine), set tree_method to 'exact'.\n",
      "[0]\tvalidation_0-rmse:1.23711\tvalidation_1-rmse:1.15779\n",
      "Multiple eval metrics have been passed: 'validation_1-rmse' will be used for early stopping.\n",
      "\n",
      "Will train until validation_1-rmse hasn't improved in 50 rounds.\n",
      "[1]\tvalidation_0-rmse:1.23313\tvalidation_1-rmse:1.15383\n",
      "[2]\tvalidation_0-rmse:1.22939\tvalidation_1-rmse:1.15032\n",
      "[3]\tvalidation_0-rmse:1.22605\tvalidation_1-rmse:1.14717\n",
      "[4]\tvalidation_0-rmse:1.22247\tvalidation_1-rmse:1.14382\n",
      "[5]\tvalidation_0-rmse:1.21979\tvalidation_1-rmse:1.14091\n",
      "[6]\tvalidation_0-rmse:1.21568\tvalidation_1-rmse:1.13752\n",
      "[7]\tvalidation_0-rmse:1.21117\tvalidation_1-rmse:1.13464\n",
      "[8]\tvalidation_0-rmse:1.20645\tvalidation_1-rmse:1.13098\n",
      "[9]\tvalidation_0-rmse:1.20225\tvalidation_1-rmse:1.12751\n",
      "[10]\tvalidation_0-rmse:1.19929\tvalidation_1-rmse:1.12480\n",
      "[11]\tvalidation_0-rmse:1.19619\tvalidation_1-rmse:1.12181\n",
      "[12]\tvalidation_0-rmse:1.19237\tvalidation_1-rmse:1.11861\n",
      "[13]\tvalidation_0-rmse:1.18957\tvalidation_1-rmse:1.11586\n",
      "[14]\tvalidation_0-rmse:1.18466\tvalidation_1-rmse:1.11286\n",
      "[15]\tvalidation_0-rmse:1.17885\tvalidation_1-rmse:1.11013\n",
      "[16]\tvalidation_0-rmse:1.17293\tvalidation_1-rmse:1.10710\n",
      "[17]\tvalidation_0-rmse:1.16775\tvalidation_1-rmse:1.10395\n",
      "[18]\tvalidation_0-rmse:1.16338\tvalidation_1-rmse:1.10088\n",
      "[19]\tvalidation_0-rmse:1.16021\tvalidation_1-rmse:1.09851\n",
      "[20]\tvalidation_0-rmse:1.15591\tvalidation_1-rmse:1.09515\n",
      "[21]\tvalidation_0-rmse:1.15318\tvalidation_1-rmse:1.09294\n",
      "[22]\tvalidation_0-rmse:1.14916\tvalidation_1-rmse:1.09000\n",
      "[23]\tvalidation_0-rmse:1.14576\tvalidation_1-rmse:1.08732\n",
      "[24]\tvalidation_0-rmse:1.14268\tvalidation_1-rmse:1.08519\n",
      "[25]\tvalidation_0-rmse:1.13896\tvalidation_1-rmse:1.08268\n",
      "[26]\tvalidation_0-rmse:1.13508\tvalidation_1-rmse:1.07979\n",
      "[27]\tvalidation_0-rmse:1.13114\tvalidation_1-rmse:1.07685\n",
      "[28]\tvalidation_0-rmse:1.12861\tvalidation_1-rmse:1.07472\n",
      "[29]\tvalidation_0-rmse:1.12529\tvalidation_1-rmse:1.07226\n",
      "[30]\tvalidation_0-rmse:1.12184\tvalidation_1-rmse:1.06940\n",
      "[31]\tvalidation_0-rmse:1.11884\tvalidation_1-rmse:1.06706\n",
      "[32]\tvalidation_0-rmse:1.11591\tvalidation_1-rmse:1.06483\n",
      "[33]\tvalidation_0-rmse:1.11300\tvalidation_1-rmse:1.06241\n",
      "[34]\tvalidation_0-rmse:1.11060\tvalidation_1-rmse:1.06038\n",
      "[35]\tvalidation_0-rmse:1.10743\tvalidation_1-rmse:1.05794\n",
      "[36]\tvalidation_0-rmse:1.10472\tvalidation_1-rmse:1.05586\n",
      "[37]\tvalidation_0-rmse:1.10280\tvalidation_1-rmse:1.05389\n",
      "[38]\tvalidation_0-rmse:1.10027\tvalidation_1-rmse:1.05184\n",
      "[39]\tvalidation_0-rmse:1.09843\tvalidation_1-rmse:1.04987\n",
      "[40]\tvalidation_0-rmse:1.09583\tvalidation_1-rmse:1.04786\n",
      "[41]\tvalidation_0-rmse:1.09368\tvalidation_1-rmse:1.04584\n",
      "[42]\tvalidation_0-rmse:1.09206\tvalidation_1-rmse:1.04402\n",
      "[43]\tvalidation_0-rmse:1.08973\tvalidation_1-rmse:1.04190\n",
      "[44]\tvalidation_0-rmse:1.08790\tvalidation_1-rmse:1.04011\n",
      "[45]\tvalidation_0-rmse:1.08564\tvalidation_1-rmse:1.03821\n",
      "[46]\tvalidation_0-rmse:1.08307\tvalidation_1-rmse:1.03620\n",
      "[47]\tvalidation_0-rmse:1.08141\tvalidation_1-rmse:1.03464\n",
      "[48]\tvalidation_0-rmse:1.07896\tvalidation_1-rmse:1.03275\n",
      "[49]\tvalidation_0-rmse:1.07684\tvalidation_1-rmse:1.03115\n",
      "[50]\tvalidation_0-rmse:1.07395\tvalidation_1-rmse:1.02926\n",
      "[51]\tvalidation_0-rmse:1.07150\tvalidation_1-rmse:1.02761\n",
      "[52]\tvalidation_0-rmse:1.06943\tvalidation_1-rmse:1.02598\n",
      "[53]\tvalidation_0-rmse:1.06675\tvalidation_1-rmse:1.02422\n",
      "[54]\tvalidation_0-rmse:1.06483\tvalidation_1-rmse:1.02290\n",
      "[55]\tvalidation_0-rmse:1.06317\tvalidation_1-rmse:1.02125\n",
      "[56]\tvalidation_0-rmse:1.06068\tvalidation_1-rmse:1.01945\n",
      "[57]\tvalidation_0-rmse:1.05882\tvalidation_1-rmse:1.01788\n",
      "[58]\tvalidation_0-rmse:1.05711\tvalidation_1-rmse:1.01633\n",
      "[59]\tvalidation_0-rmse:1.05499\tvalidation_1-rmse:1.01480\n",
      "[60]\tvalidation_0-rmse:1.05351\tvalidation_1-rmse:1.01339\n",
      "[61]\tvalidation_0-rmse:1.05124\tvalidation_1-rmse:1.01179\n",
      "[62]\tvalidation_0-rmse:1.04928\tvalidation_1-rmse:1.01035\n",
      "[63]\tvalidation_0-rmse:1.04709\tvalidation_1-rmse:1.00879\n",
      "[64]\tvalidation_0-rmse:1.04565\tvalidation_1-rmse:1.00755\n",
      "[65]\tvalidation_0-rmse:1.04364\tvalidation_1-rmse:1.00626\n",
      "[66]\tvalidation_0-rmse:1.04233\tvalidation_1-rmse:1.00520\n",
      "[67]\tvalidation_0-rmse:1.04016\tvalidation_1-rmse:1.00358\n",
      "[68]\tvalidation_0-rmse:1.03801\tvalidation_1-rmse:1.00197\n",
      "[69]\tvalidation_0-rmse:1.03593\tvalidation_1-rmse:1.00063\n",
      "[70]\tvalidation_0-rmse:1.03428\tvalidation_1-rmse:0.99947\n",
      "[71]\tvalidation_0-rmse:1.03269\tvalidation_1-rmse:0.99840\n",
      "[72]\tvalidation_0-rmse:1.03073\tvalidation_1-rmse:0.99736\n",
      "[73]\tvalidation_0-rmse:1.02873\tvalidation_1-rmse:0.99621\n",
      "[74]\tvalidation_0-rmse:1.02679\tvalidation_1-rmse:0.99503\n",
      "[75]\tvalidation_0-rmse:1.02471\tvalidation_1-rmse:0.99365\n",
      "[76]\tvalidation_0-rmse:1.02250\tvalidation_1-rmse:0.99233\n",
      "[77]\tvalidation_0-rmse:1.02037\tvalidation_1-rmse:0.99092\n",
      "[78]\tvalidation_0-rmse:1.01894\tvalidation_1-rmse:0.98999\n",
      "[79]\tvalidation_0-rmse:1.01737\tvalidation_1-rmse:0.98896\n",
      "[80]\tvalidation_0-rmse:1.01534\tvalidation_1-rmse:0.98766\n",
      "[81]\tvalidation_0-rmse:1.01368\tvalidation_1-rmse:0.98663\n",
      "[82]\tvalidation_0-rmse:1.01206\tvalidation_1-rmse:0.98573\n",
      "[83]\tvalidation_0-rmse:1.01089\tvalidation_1-rmse:0.98489\n",
      "[84]\tvalidation_0-rmse:1.00899\tvalidation_1-rmse:0.98360\n",
      "[85]\tvalidation_0-rmse:1.00712\tvalidation_1-rmse:0.98235\n",
      "[86]\tvalidation_0-rmse:1.00539\tvalidation_1-rmse:0.98134\n",
      "[87]\tvalidation_0-rmse:1.00428\tvalidation_1-rmse:0.98061\n",
      "[88]\tvalidation_0-rmse:1.00268\tvalidation_1-rmse:0.97952\n",
      "[89]\tvalidation_0-rmse:1.00116\tvalidation_1-rmse:0.97860\n",
      "[90]\tvalidation_0-rmse:0.99949\tvalidation_1-rmse:0.97762\n",
      "[91]\tvalidation_0-rmse:0.99808\tvalidation_1-rmse:0.97668\n",
      "[92]\tvalidation_0-rmse:0.99651\tvalidation_1-rmse:0.97572\n",
      "[93]\tvalidation_0-rmse:0.99494\tvalidation_1-rmse:0.97473\n",
      "[94]\tvalidation_0-rmse:0.99397\tvalidation_1-rmse:0.97406\n",
      "[95]\tvalidation_0-rmse:0.99245\tvalidation_1-rmse:0.97302\n",
      "[96]\tvalidation_0-rmse:0.99096\tvalidation_1-rmse:0.97193\n",
      "[97]\tvalidation_0-rmse:0.98956\tvalidation_1-rmse:0.97105\n",
      "[98]\tvalidation_0-rmse:0.98832\tvalidation_1-rmse:0.97029\n",
      "[99]\tvalidation_0-rmse:0.98690\tvalidation_1-rmse:0.96929\n",
      "[100]\tvalidation_0-rmse:0.98572\tvalidation_1-rmse:0.96854\n",
      "[101]\tvalidation_0-rmse:0.98456\tvalidation_1-rmse:0.96785\n",
      "[102]\tvalidation_0-rmse:0.98365\tvalidation_1-rmse:0.96724\n",
      "[103]\tvalidation_0-rmse:0.98240\tvalidation_1-rmse:0.96647\n",
      "[104]\tvalidation_0-rmse:0.98156\tvalidation_1-rmse:0.96590\n",
      "[105]\tvalidation_0-rmse:0.98011\tvalidation_1-rmse:0.96514\n",
      "[106]\tvalidation_0-rmse:0.97903\tvalidation_1-rmse:0.96447\n",
      "[107]\tvalidation_0-rmse:0.97781\tvalidation_1-rmse:0.96385\n",
      "[108]\tvalidation_0-rmse:0.97696\tvalidation_1-rmse:0.96328\n",
      "[109]\tvalidation_0-rmse:0.97562\tvalidation_1-rmse:0.96260\n",
      "[110]\tvalidation_0-rmse:0.97421\tvalidation_1-rmse:0.96189\n",
      "[111]\tvalidation_0-rmse:0.97282\tvalidation_1-rmse:0.96126\n",
      "[112]\tvalidation_0-rmse:0.97148\tvalidation_1-rmse:0.96071\n",
      "[113]\tvalidation_0-rmse:0.97068\tvalidation_1-rmse:0.96018\n",
      "[114]\tvalidation_0-rmse:0.96959\tvalidation_1-rmse:0.95962\n",
      "[115]\tvalidation_0-rmse:0.96861\tvalidation_1-rmse:0.95912\n",
      "[116]\tvalidation_0-rmse:0.96774\tvalidation_1-rmse:0.95860\n",
      "[117]\tvalidation_0-rmse:0.96663\tvalidation_1-rmse:0.95797\n",
      "[118]\tvalidation_0-rmse:0.96588\tvalidation_1-rmse:0.95756\n",
      "[119]\tvalidation_0-rmse:0.96471\tvalidation_1-rmse:0.95692\n",
      "[120]\tvalidation_0-rmse:0.96357\tvalidation_1-rmse:0.95643\n",
      "[121]\tvalidation_0-rmse:0.96247\tvalidation_1-rmse:0.95583\n",
      "[122]\tvalidation_0-rmse:0.96135\tvalidation_1-rmse:0.95521\n",
      "[123]\tvalidation_0-rmse:0.96032\tvalidation_1-rmse:0.95455\n",
      "[124]\tvalidation_0-rmse:0.95967\tvalidation_1-rmse:0.95413\n",
      "[125]\tvalidation_0-rmse:0.95871\tvalidation_1-rmse:0.95370\n",
      "[126]\tvalidation_0-rmse:0.95775\tvalidation_1-rmse:0.95323\n",
      "[127]\tvalidation_0-rmse:0.95688\tvalidation_1-rmse:0.95273\n",
      "[128]\tvalidation_0-rmse:0.95578\tvalidation_1-rmse:0.95222\n",
      "[129]\tvalidation_0-rmse:0.95476\tvalidation_1-rmse:0.95169\n",
      "[130]\tvalidation_0-rmse:0.95393\tvalidation_1-rmse:0.95129\n",
      "[131]\tvalidation_0-rmse:0.95312\tvalidation_1-rmse:0.95091\n",
      "[132]\tvalidation_0-rmse:0.95210\tvalidation_1-rmse:0.95036\n",
      "[133]\tvalidation_0-rmse:0.95104\tvalidation_1-rmse:0.94951\n",
      "[134]\tvalidation_0-rmse:0.95003\tvalidation_1-rmse:0.94915\n",
      "[135]\tvalidation_0-rmse:0.94908\tvalidation_1-rmse:0.94877\n",
      "[136]\tvalidation_0-rmse:0.94825\tvalidation_1-rmse:0.94842\n",
      "[137]\tvalidation_0-rmse:0.94736\tvalidation_1-rmse:0.94797\n",
      "[138]\tvalidation_0-rmse:0.94652\tvalidation_1-rmse:0.94746\n",
      "[139]\tvalidation_0-rmse:0.94592\tvalidation_1-rmse:0.94721\n",
      "[140]\tvalidation_0-rmse:0.94496\tvalidation_1-rmse:0.94663\n",
      "[141]\tvalidation_0-rmse:0.94400\tvalidation_1-rmse:0.94620\n",
      "[142]\tvalidation_0-rmse:0.94315\tvalidation_1-rmse:0.94573\n",
      "[143]\tvalidation_0-rmse:0.94235\tvalidation_1-rmse:0.94532\n",
      "[144]\tvalidation_0-rmse:0.94169\tvalidation_1-rmse:0.94506\n",
      "[145]\tvalidation_0-rmse:0.94087\tvalidation_1-rmse:0.94471\n",
      "[146]\tvalidation_0-rmse:0.94018\tvalidation_1-rmse:0.94439\n",
      "[147]\tvalidation_0-rmse:0.93957\tvalidation_1-rmse:0.94418\n",
      "[148]\tvalidation_0-rmse:0.93883\tvalidation_1-rmse:0.94379\n",
      "[149]\tvalidation_0-rmse:0.93802\tvalidation_1-rmse:0.94349\n",
      "[150]\tvalidation_0-rmse:0.93743\tvalidation_1-rmse:0.94325\n",
      "[151]\tvalidation_0-rmse:0.93669\tvalidation_1-rmse:0.94291\n",
      "[152]\tvalidation_0-rmse:0.93615\tvalidation_1-rmse:0.94247\n",
      "[153]\tvalidation_0-rmse:0.93542\tvalidation_1-rmse:0.94206\n",
      "[154]\tvalidation_0-rmse:0.93482\tvalidation_1-rmse:0.94177\n",
      "[155]\tvalidation_0-rmse:0.93408\tvalidation_1-rmse:0.94147\n",
      "[156]\tvalidation_0-rmse:0.93341\tvalidation_1-rmse:0.94122\n",
      "[157]\tvalidation_0-rmse:0.93284\tvalidation_1-rmse:0.94094\n",
      "[158]\tvalidation_0-rmse:0.93209\tvalidation_1-rmse:0.94074\n",
      "[159]\tvalidation_0-rmse:0.93165\tvalidation_1-rmse:0.94054\n",
      "[160]\tvalidation_0-rmse:0.93098\tvalidation_1-rmse:0.94026\n",
      "[161]\tvalidation_0-rmse:0.93056\tvalidation_1-rmse:0.94002\n",
      "[162]\tvalidation_0-rmse:0.92990\tvalidation_1-rmse:0.93978\n",
      "[163]\tvalidation_0-rmse:0.92926\tvalidation_1-rmse:0.93948\n",
      "[164]\tvalidation_0-rmse:0.92863\tvalidation_1-rmse:0.93911\n",
      "[165]\tvalidation_0-rmse:0.92812\tvalidation_1-rmse:0.93892\n",
      "[166]\tvalidation_0-rmse:0.92749\tvalidation_1-rmse:0.93865\n",
      "[167]\tvalidation_0-rmse:0.92686\tvalidation_1-rmse:0.93845\n",
      "[168]\tvalidation_0-rmse:0.92631\tvalidation_1-rmse:0.93825\n",
      "[169]\tvalidation_0-rmse:0.92577\tvalidation_1-rmse:0.93800\n",
      "[170]\tvalidation_0-rmse:0.92519\tvalidation_1-rmse:0.93768\n",
      "[171]\tvalidation_0-rmse:0.92489\tvalidation_1-rmse:0.93747\n",
      "[172]\tvalidation_0-rmse:0.92456\tvalidation_1-rmse:0.93727\n",
      "[173]\tvalidation_0-rmse:0.92387\tvalidation_1-rmse:0.93697\n",
      "[174]\tvalidation_0-rmse:0.92342\tvalidation_1-rmse:0.93670\n",
      "[175]\tvalidation_0-rmse:0.92292\tvalidation_1-rmse:0.93657\n",
      "[176]\tvalidation_0-rmse:0.92236\tvalidation_1-rmse:0.93640\n",
      "[177]\tvalidation_0-rmse:0.92185\tvalidation_1-rmse:0.93612\n",
      "[178]\tvalidation_0-rmse:0.92130\tvalidation_1-rmse:0.93590\n",
      "[179]\tvalidation_0-rmse:0.92080\tvalidation_1-rmse:0.93569\n",
      "[180]\tvalidation_0-rmse:0.92045\tvalidation_1-rmse:0.93551\n",
      "[181]\tvalidation_0-rmse:0.91996\tvalidation_1-rmse:0.93532\n",
      "[182]\tvalidation_0-rmse:0.91944\tvalidation_1-rmse:0.93514\n",
      "[183]\tvalidation_0-rmse:0.91895\tvalidation_1-rmse:0.93498\n",
      "[184]\tvalidation_0-rmse:0.91859\tvalidation_1-rmse:0.93484\n",
      "[185]\tvalidation_0-rmse:0.91830\tvalidation_1-rmse:0.93469\n",
      "[186]\tvalidation_0-rmse:0.91783\tvalidation_1-rmse:0.93458\n",
      "[187]\tvalidation_0-rmse:0.91745\tvalidation_1-rmse:0.93444\n",
      "[188]\tvalidation_0-rmse:0.91694\tvalidation_1-rmse:0.93430\n",
      "[189]\tvalidation_0-rmse:0.91649\tvalidation_1-rmse:0.93419\n",
      "[190]\tvalidation_0-rmse:0.91601\tvalidation_1-rmse:0.93409\n",
      "[191]\tvalidation_0-rmse:0.91563\tvalidation_1-rmse:0.93404\n",
      "[192]\tvalidation_0-rmse:0.91514\tvalidation_1-rmse:0.93386\n",
      "[193]\tvalidation_0-rmse:0.91468\tvalidation_1-rmse:0.93369\n",
      "[194]\tvalidation_0-rmse:0.91416\tvalidation_1-rmse:0.93359\n",
      "[195]\tvalidation_0-rmse:0.91366\tvalidation_1-rmse:0.93337\n",
      "[196]\tvalidation_0-rmse:0.91326\tvalidation_1-rmse:0.93319\n",
      "[197]\tvalidation_0-rmse:0.91285\tvalidation_1-rmse:0.93300\n",
      "[198]\tvalidation_0-rmse:0.91242\tvalidation_1-rmse:0.93297\n",
      "[199]\tvalidation_0-rmse:0.91206\tvalidation_1-rmse:0.93295\n",
      "[200]\tvalidation_0-rmse:0.91167\tvalidation_1-rmse:0.93287\n",
      "[201]\tvalidation_0-rmse:0.91124\tvalidation_1-rmse:0.93275\n",
      "[202]\tvalidation_0-rmse:0.91081\tvalidation_1-rmse:0.93264\n",
      "[203]\tvalidation_0-rmse:0.91047\tvalidation_1-rmse:0.93244\n",
      "[204]\tvalidation_0-rmse:0.91005\tvalidation_1-rmse:0.93235\n",
      "[205]\tvalidation_0-rmse:0.90971\tvalidation_1-rmse:0.93233\n",
      "[206]\tvalidation_0-rmse:0.90936\tvalidation_1-rmse:0.93224\n",
      "[207]\tvalidation_0-rmse:0.90893\tvalidation_1-rmse:0.93212\n",
      "[208]\tvalidation_0-rmse:0.90872\tvalidation_1-rmse:0.93205\n",
      "[209]\tvalidation_0-rmse:0.90828\tvalidation_1-rmse:0.93185\n",
      "[210]\tvalidation_0-rmse:0.90796\tvalidation_1-rmse:0.93182\n",
      "[211]\tvalidation_0-rmse:0.90761\tvalidation_1-rmse:0.93168\n",
      "[212]\tvalidation_0-rmse:0.90727\tvalidation_1-rmse:0.93156\n",
      "[213]\tvalidation_0-rmse:0.90686\tvalidation_1-rmse:0.93151\n",
      "[214]\tvalidation_0-rmse:0.90664\tvalidation_1-rmse:0.93138\n",
      "[215]\tvalidation_0-rmse:0.90630\tvalidation_1-rmse:0.93132\n",
      "[216]\tvalidation_0-rmse:0.90600\tvalidation_1-rmse:0.93127\n",
      "[217]\tvalidation_0-rmse:0.90561\tvalidation_1-rmse:0.93122\n",
      "[218]\tvalidation_0-rmse:0.90526\tvalidation_1-rmse:0.93119\n",
      "[219]\tvalidation_0-rmse:0.90493\tvalidation_1-rmse:0.93108\n",
      "[220]\tvalidation_0-rmse:0.90469\tvalidation_1-rmse:0.93100\n",
      "[221]\tvalidation_0-rmse:0.90435\tvalidation_1-rmse:0.93096\n",
      "[222]\tvalidation_0-rmse:0.90398\tvalidation_1-rmse:0.93075\n",
      "[223]\tvalidation_0-rmse:0.90368\tvalidation_1-rmse:0.93064\n",
      "[224]\tvalidation_0-rmse:0.90346\tvalidation_1-rmse:0.93047\n",
      "[225]\tvalidation_0-rmse:0.90304\tvalidation_1-rmse:0.93033\n",
      "[226]\tvalidation_0-rmse:0.90273\tvalidation_1-rmse:0.93034\n",
      "[227]\tvalidation_0-rmse:0.90242\tvalidation_1-rmse:0.93023\n",
      "[228]\tvalidation_0-rmse:0.90213\tvalidation_1-rmse:0.93018\n",
      "[229]\tvalidation_0-rmse:0.90186\tvalidation_1-rmse:0.93009\n",
      "[230]\tvalidation_0-rmse:0.90157\tvalidation_1-rmse:0.92996\n",
      "[231]\tvalidation_0-rmse:0.90126\tvalidation_1-rmse:0.92998\n",
      "[232]\tvalidation_0-rmse:0.90098\tvalidation_1-rmse:0.92993\n",
      "[233]\tvalidation_0-rmse:0.90070\tvalidation_1-rmse:0.92989\n",
      "[234]\tvalidation_0-rmse:0.90038\tvalidation_1-rmse:0.92973\n",
      "[235]\tvalidation_0-rmse:0.90007\tvalidation_1-rmse:0.92966\n",
      "[236]\tvalidation_0-rmse:0.89973\tvalidation_1-rmse:0.92955\n",
      "[237]\tvalidation_0-rmse:0.89940\tvalidation_1-rmse:0.92954\n",
      "[238]\tvalidation_0-rmse:0.89910\tvalidation_1-rmse:0.92936\n",
      "[239]\tvalidation_0-rmse:0.89879\tvalidation_1-rmse:0.92930\n",
      "[240]\tvalidation_0-rmse:0.89863\tvalidation_1-rmse:0.92922\n",
      "[241]\tvalidation_0-rmse:0.89836\tvalidation_1-rmse:0.92909\n",
      "[242]\tvalidation_0-rmse:0.89811\tvalidation_1-rmse:0.92901\n",
      "[243]\tvalidation_0-rmse:0.89782\tvalidation_1-rmse:0.92895\n",
      "[244]\tvalidation_0-rmse:0.89752\tvalidation_1-rmse:0.92895\n",
      "[245]\tvalidation_0-rmse:0.89732\tvalidation_1-rmse:0.92883\n",
      "[246]\tvalidation_0-rmse:0.89708\tvalidation_1-rmse:0.92875\n",
      "[247]\tvalidation_0-rmse:0.89681\tvalidation_1-rmse:0.92872\n",
      "[248]\tvalidation_0-rmse:0.89656\tvalidation_1-rmse:0.92868\n",
      "[249]\tvalidation_0-rmse:0.89634\tvalidation_1-rmse:0.92864\n",
      "[250]\tvalidation_0-rmse:0.89609\tvalidation_1-rmse:0.92853\n",
      "[251]\tvalidation_0-rmse:0.89583\tvalidation_1-rmse:0.92843\n",
      "[252]\tvalidation_0-rmse:0.89551\tvalidation_1-rmse:0.92843\n",
      "[253]\tvalidation_0-rmse:0.89533\tvalidation_1-rmse:0.92838\n",
      "[254]\tvalidation_0-rmse:0.89506\tvalidation_1-rmse:0.92826\n",
      "[255]\tvalidation_0-rmse:0.89483\tvalidation_1-rmse:0.92817\n",
      "[256]\tvalidation_0-rmse:0.89461\tvalidation_1-rmse:0.92815\n",
      "[257]\tvalidation_0-rmse:0.89438\tvalidation_1-rmse:0.92804\n",
      "[258]\tvalidation_0-rmse:0.89414\tvalidation_1-rmse:0.92805\n",
      "[259]\tvalidation_0-rmse:0.89392\tvalidation_1-rmse:0.92793\n",
      "[260]\tvalidation_0-rmse:0.89368\tvalidation_1-rmse:0.92787\n",
      "[261]\tvalidation_0-rmse:0.89348\tvalidation_1-rmse:0.92777\n",
      "[262]\tvalidation_0-rmse:0.89329\tvalidation_1-rmse:0.92761\n",
      "[263]\tvalidation_0-rmse:0.89298\tvalidation_1-rmse:0.92754\n",
      "[264]\tvalidation_0-rmse:0.89275\tvalidation_1-rmse:0.92743\n",
      "[265]\tvalidation_0-rmse:0.89250\tvalidation_1-rmse:0.92738\n",
      "[266]\tvalidation_0-rmse:0.89219\tvalidation_1-rmse:0.92729\n",
      "[267]\tvalidation_0-rmse:0.89194\tvalidation_1-rmse:0.92727\n",
      "[268]\tvalidation_0-rmse:0.89163\tvalidation_1-rmse:0.92714\n",
      "[269]\tvalidation_0-rmse:0.89145\tvalidation_1-rmse:0.92709\n",
      "[270]\tvalidation_0-rmse:0.89124\tvalidation_1-rmse:0.92716\n",
      "[271]\tvalidation_0-rmse:0.89100\tvalidation_1-rmse:0.92715\n",
      "[272]\tvalidation_0-rmse:0.89083\tvalidation_1-rmse:0.92703\n",
      "[273]\tvalidation_0-rmse:0.89065\tvalidation_1-rmse:0.92692\n",
      "[274]\tvalidation_0-rmse:0.89038\tvalidation_1-rmse:0.92697\n",
      "[275]\tvalidation_0-rmse:0.89016\tvalidation_1-rmse:0.92692\n",
      "[276]\tvalidation_0-rmse:0.88996\tvalidation_1-rmse:0.92690\n",
      "[277]\tvalidation_0-rmse:0.88974\tvalidation_1-rmse:0.92680\n",
      "[278]\tvalidation_0-rmse:0.88962\tvalidation_1-rmse:0.92675\n",
      "[279]\tvalidation_0-rmse:0.88938\tvalidation_1-rmse:0.92671\n",
      "[280]\tvalidation_0-rmse:0.88920\tvalidation_1-rmse:0.92671\n",
      "[281]\tvalidation_0-rmse:0.88902\tvalidation_1-rmse:0.92664\n",
      "[282]\tvalidation_0-rmse:0.88885\tvalidation_1-rmse:0.92660\n",
      "[283]\tvalidation_0-rmse:0.88871\tvalidation_1-rmse:0.92653\n",
      "[284]\tvalidation_0-rmse:0.88852\tvalidation_1-rmse:0.92653\n",
      "[285]\tvalidation_0-rmse:0.88835\tvalidation_1-rmse:0.92646\n",
      "[286]\tvalidation_0-rmse:0.88815\tvalidation_1-rmse:0.92646\n",
      "[287]\tvalidation_0-rmse:0.88802\tvalidation_1-rmse:0.92640\n",
      "[288]\tvalidation_0-rmse:0.88782\tvalidation_1-rmse:0.92639\n",
      "[289]\tvalidation_0-rmse:0.88753\tvalidation_1-rmse:0.92645\n",
      "[290]\tvalidation_0-rmse:0.88741\tvalidation_1-rmse:0.92633\n",
      "[291]\tvalidation_0-rmse:0.88726\tvalidation_1-rmse:0.92631\n",
      "[292]\tvalidation_0-rmse:0.88714\tvalidation_1-rmse:0.92627\n",
      "[293]\tvalidation_0-rmse:0.88700\tvalidation_1-rmse:0.92622\n",
      "[294]\tvalidation_0-rmse:0.88680\tvalidation_1-rmse:0.92626\n",
      "[295]\tvalidation_0-rmse:0.88664\tvalidation_1-rmse:0.92624\n",
      "[296]\tvalidation_0-rmse:0.88646\tvalidation_1-rmse:0.92621\n",
      "[297]\tvalidation_0-rmse:0.88633\tvalidation_1-rmse:0.92615\n",
      "[298]\tvalidation_0-rmse:0.88618\tvalidation_1-rmse:0.92613\n",
      "[299]\tvalidation_0-rmse:0.88596\tvalidation_1-rmse:0.92612\n",
      "[300]\tvalidation_0-rmse:0.88577\tvalidation_1-rmse:0.92609\n",
      "[301]\tvalidation_0-rmse:0.88564\tvalidation_1-rmse:0.92607\n",
      "[302]\tvalidation_0-rmse:0.88544\tvalidation_1-rmse:0.92605\n",
      "[303]\tvalidation_0-rmse:0.88522\tvalidation_1-rmse:0.92593\n",
      "[304]\tvalidation_0-rmse:0.88502\tvalidation_1-rmse:0.92592\n",
      "[305]\tvalidation_0-rmse:0.88492\tvalidation_1-rmse:0.92585\n",
      "[306]\tvalidation_0-rmse:0.88472\tvalidation_1-rmse:0.92585\n",
      "[307]\tvalidation_0-rmse:0.88450\tvalidation_1-rmse:0.92589\n",
      "[308]\tvalidation_0-rmse:0.88437\tvalidation_1-rmse:0.92590\n",
      "[309]\tvalidation_0-rmse:0.88421\tvalidation_1-rmse:0.92586\n",
      "[310]\tvalidation_0-rmse:0.88406\tvalidation_1-rmse:0.92583\n",
      "[311]\tvalidation_0-rmse:0.88390\tvalidation_1-rmse:0.92585\n",
      "[312]\tvalidation_0-rmse:0.88376\tvalidation_1-rmse:0.92572\n",
      "[313]\tvalidation_0-rmse:0.88360\tvalidation_1-rmse:0.92572\n",
      "[314]\tvalidation_0-rmse:0.88350\tvalidation_1-rmse:0.92572\n",
      "[315]\tvalidation_0-rmse:0.88336\tvalidation_1-rmse:0.92570\n",
      "[316]\tvalidation_0-rmse:0.88323\tvalidation_1-rmse:0.92566\n",
      "[317]\tvalidation_0-rmse:0.88304\tvalidation_1-rmse:0.92572\n",
      "[318]\tvalidation_0-rmse:0.88291\tvalidation_1-rmse:0.92559\n",
      "[319]\tvalidation_0-rmse:0.88279\tvalidation_1-rmse:0.92558\n",
      "[320]\tvalidation_0-rmse:0.88266\tvalidation_1-rmse:0.92555\n",
      "[321]\tvalidation_0-rmse:0.88253\tvalidation_1-rmse:0.92554\n",
      "[322]\tvalidation_0-rmse:0.88243\tvalidation_1-rmse:0.92550\n",
      "[323]\tvalidation_0-rmse:0.88233\tvalidation_1-rmse:0.92543\n",
      "[324]\tvalidation_0-rmse:0.88218\tvalidation_1-rmse:0.92543\n",
      "[325]\tvalidation_0-rmse:0.88202\tvalidation_1-rmse:0.92536\n",
      "[326]\tvalidation_0-rmse:0.88183\tvalidation_1-rmse:0.92534\n",
      "[327]\tvalidation_0-rmse:0.88163\tvalidation_1-rmse:0.92536\n",
      "[328]\tvalidation_0-rmse:0.88148\tvalidation_1-rmse:0.92534\n",
      "[329]\tvalidation_0-rmse:0.88137\tvalidation_1-rmse:0.92533\n",
      "[330]\tvalidation_0-rmse:0.88126\tvalidation_1-rmse:0.92527\n",
      "[331]\tvalidation_0-rmse:0.88111\tvalidation_1-rmse:0.92524\n",
      "[332]\tvalidation_0-rmse:0.88091\tvalidation_1-rmse:0.92529\n",
      "[333]\tvalidation_0-rmse:0.88073\tvalidation_1-rmse:0.92521\n",
      "[334]\tvalidation_0-rmse:0.88057\tvalidation_1-rmse:0.92524\n",
      "[335]\tvalidation_0-rmse:0.88041\tvalidation_1-rmse:0.92528\n",
      "[336]\tvalidation_0-rmse:0.88025\tvalidation_1-rmse:0.92527\n",
      "[337]\tvalidation_0-rmse:0.88006\tvalidation_1-rmse:0.92533\n",
      "[338]\tvalidation_0-rmse:0.87989\tvalidation_1-rmse:0.92531\n",
      "[339]\tvalidation_0-rmse:0.87976\tvalidation_1-rmse:0.92527\n",
      "[340]\tvalidation_0-rmse:0.87957\tvalidation_1-rmse:0.92522\n",
      "[341]\tvalidation_0-rmse:0.87946\tvalidation_1-rmse:0.92528\n",
      "[342]\tvalidation_0-rmse:0.87933\tvalidation_1-rmse:0.92529\n",
      "[343]\tvalidation_0-rmse:0.87925\tvalidation_1-rmse:0.92527\n",
      "[344]\tvalidation_0-rmse:0.87908\tvalidation_1-rmse:0.92521\n",
      "[345]\tvalidation_0-rmse:0.87892\tvalidation_1-rmse:0.92525\n",
      "[346]\tvalidation_0-rmse:0.87878\tvalidation_1-rmse:0.92526\n",
      "[347]\tvalidation_0-rmse:0.87866\tvalidation_1-rmse:0.92523\n",
      "[348]\tvalidation_0-rmse:0.87846\tvalidation_1-rmse:0.92519\n",
      "[349]\tvalidation_0-rmse:0.87829\tvalidation_1-rmse:0.92517\n",
      "[350]\tvalidation_0-rmse:0.87817\tvalidation_1-rmse:0.92518\n",
      "[351]\tvalidation_0-rmse:0.87801\tvalidation_1-rmse:0.92515\n",
      "[352]\tvalidation_0-rmse:0.87782\tvalidation_1-rmse:0.92526\n",
      "[353]\tvalidation_0-rmse:0.87767\tvalidation_1-rmse:0.92527\n",
      "[354]\tvalidation_0-rmse:0.87758\tvalidation_1-rmse:0.92522\n",
      "[355]\tvalidation_0-rmse:0.87749\tvalidation_1-rmse:0.92521\n",
      "[356]\tvalidation_0-rmse:0.87738\tvalidation_1-rmse:0.92517\n",
      "[357]\tvalidation_0-rmse:0.87727\tvalidation_1-rmse:0.92512\n",
      "[358]\tvalidation_0-rmse:0.87721\tvalidation_1-rmse:0.92513\n",
      "[359]\tvalidation_0-rmse:0.87710\tvalidation_1-rmse:0.92513\n",
      "[360]\tvalidation_0-rmse:0.87695\tvalidation_1-rmse:0.92511\n",
      "[361]\tvalidation_0-rmse:0.87679\tvalidation_1-rmse:0.92520\n",
      "[362]\tvalidation_0-rmse:0.87658\tvalidation_1-rmse:0.92512\n",
      "[363]\tvalidation_0-rmse:0.87645\tvalidation_1-rmse:0.92513\n",
      "[364]\tvalidation_0-rmse:0.87631\tvalidation_1-rmse:0.92509\n",
      "[365]\tvalidation_0-rmse:0.87620\tvalidation_1-rmse:0.92511\n",
      "[366]\tvalidation_0-rmse:0.87605\tvalidation_1-rmse:0.92514\n",
      "[367]\tvalidation_0-rmse:0.87594\tvalidation_1-rmse:0.92514\n",
      "[368]\tvalidation_0-rmse:0.87582\tvalidation_1-rmse:0.92513\n",
      "[369]\tvalidation_0-rmse:0.87569\tvalidation_1-rmse:0.92515\n",
      "[370]\tvalidation_0-rmse:0.87556\tvalidation_1-rmse:0.92511\n",
      "[371]\tvalidation_0-rmse:0.87536\tvalidation_1-rmse:0.92494\n",
      "[372]\tvalidation_0-rmse:0.87520\tvalidation_1-rmse:0.92495\n",
      "[373]\tvalidation_0-rmse:0.87509\tvalidation_1-rmse:0.92500\n",
      "[374]\tvalidation_0-rmse:0.87499\tvalidation_1-rmse:0.92496\n",
      "[375]\tvalidation_0-rmse:0.87485\tvalidation_1-rmse:0.92491\n",
      "[376]\tvalidation_0-rmse:0.87476\tvalidation_1-rmse:0.92489\n",
      "[377]\tvalidation_0-rmse:0.87465\tvalidation_1-rmse:0.92487\n",
      "[378]\tvalidation_0-rmse:0.87456\tvalidation_1-rmse:0.92485\n",
      "[379]\tvalidation_0-rmse:0.87437\tvalidation_1-rmse:0.92489\n",
      "[380]\tvalidation_0-rmse:0.87420\tvalidation_1-rmse:0.92488\n",
      "[381]\tvalidation_0-rmse:0.87407\tvalidation_1-rmse:0.92488\n",
      "[382]\tvalidation_0-rmse:0.87392\tvalidation_1-rmse:0.92483\n",
      "[383]\tvalidation_0-rmse:0.87384\tvalidation_1-rmse:0.92483\n",
      "[384]\tvalidation_0-rmse:0.87371\tvalidation_1-rmse:0.92478\n",
      "[385]\tvalidation_0-rmse:0.87360\tvalidation_1-rmse:0.92479\n",
      "[386]\tvalidation_0-rmse:0.87345\tvalidation_1-rmse:0.92477\n",
      "[387]\tvalidation_0-rmse:0.87333\tvalidation_1-rmse:0.92474\n",
      "[388]\tvalidation_0-rmse:0.87326\tvalidation_1-rmse:0.92470\n",
      "[389]\tvalidation_0-rmse:0.87317\tvalidation_1-rmse:0.92470\n",
      "[390]\tvalidation_0-rmse:0.87308\tvalidation_1-rmse:0.92471\n",
      "[391]\tvalidation_0-rmse:0.87294\tvalidation_1-rmse:0.92475\n",
      "[392]\tvalidation_0-rmse:0.87285\tvalidation_1-rmse:0.92483\n",
      "[393]\tvalidation_0-rmse:0.87278\tvalidation_1-rmse:0.92479\n",
      "[394]\tvalidation_0-rmse:0.87267\tvalidation_1-rmse:0.92485\n",
      "[395]\tvalidation_0-rmse:0.87251\tvalidation_1-rmse:0.92481\n",
      "[396]\tvalidation_0-rmse:0.87242\tvalidation_1-rmse:0.92482\n",
      "[397]\tvalidation_0-rmse:0.87234\tvalidation_1-rmse:0.92480\n",
      "[398]\tvalidation_0-rmse:0.87224\tvalidation_1-rmse:0.92485\n",
      "[399]\tvalidation_0-rmse:0.87216\tvalidation_1-rmse:0.92479\n",
      "[400]\tvalidation_0-rmse:0.87204\tvalidation_1-rmse:0.92478\n",
      "[401]\tvalidation_0-rmse:0.87194\tvalidation_1-rmse:0.92474\n",
      "[402]\tvalidation_0-rmse:0.87184\tvalidation_1-rmse:0.92471\n",
      "[403]\tvalidation_0-rmse:0.87175\tvalidation_1-rmse:0.92471\n",
      "[404]\tvalidation_0-rmse:0.87164\tvalidation_1-rmse:0.92472\n",
      "[405]\tvalidation_0-rmse:0.87154\tvalidation_1-rmse:0.92474\n",
      "[406]\tvalidation_0-rmse:0.87146\tvalidation_1-rmse:0.92471\n",
      "[407]\tvalidation_0-rmse:0.87130\tvalidation_1-rmse:0.92473\n",
      "[408]\tvalidation_0-rmse:0.87118\tvalidation_1-rmse:0.92472\n",
      "[409]\tvalidation_0-rmse:0.87107\tvalidation_1-rmse:0.92470\n",
      "[410]\tvalidation_0-rmse:0.87099\tvalidation_1-rmse:0.92468\n",
      "[411]\tvalidation_0-rmse:0.87089\tvalidation_1-rmse:0.92461\n",
      "[412]\tvalidation_0-rmse:0.87079\tvalidation_1-rmse:0.92462\n",
      "[413]\tvalidation_0-rmse:0.87069\tvalidation_1-rmse:0.92466\n",
      "[414]\tvalidation_0-rmse:0.87058\tvalidation_1-rmse:0.92463\n",
      "[415]\tvalidation_0-rmse:0.87048\tvalidation_1-rmse:0.92461\n",
      "[416]\tvalidation_0-rmse:0.87037\tvalidation_1-rmse:0.92456\n",
      "[417]\tvalidation_0-rmse:0.87026\tvalidation_1-rmse:0.92460\n",
      "[418]\tvalidation_0-rmse:0.87016\tvalidation_1-rmse:0.92455\n",
      "[419]\tvalidation_0-rmse:0.87006\tvalidation_1-rmse:0.92456\n",
      "[420]\tvalidation_0-rmse:0.86995\tvalidation_1-rmse:0.92459\n",
      "[421]\tvalidation_0-rmse:0.86977\tvalidation_1-rmse:0.92466\n",
      "[422]\tvalidation_0-rmse:0.86968\tvalidation_1-rmse:0.92463\n",
      "[423]\tvalidation_0-rmse:0.86960\tvalidation_1-rmse:0.92464\n",
      "[424]\tvalidation_0-rmse:0.86951\tvalidation_1-rmse:0.92463\n",
      "[425]\tvalidation_0-rmse:0.86942\tvalidation_1-rmse:0.92463\n",
      "[426]\tvalidation_0-rmse:0.86934\tvalidation_1-rmse:0.92458\n",
      "[427]\tvalidation_0-rmse:0.86927\tvalidation_1-rmse:0.92458\n",
      "[428]\tvalidation_0-rmse:0.86916\tvalidation_1-rmse:0.92453\n",
      "[429]\tvalidation_0-rmse:0.86905\tvalidation_1-rmse:0.92441\n",
      "[430]\tvalidation_0-rmse:0.86895\tvalidation_1-rmse:0.92446\n",
      "[431]\tvalidation_0-rmse:0.86887\tvalidation_1-rmse:0.92447\n",
      "[432]\tvalidation_0-rmse:0.86869\tvalidation_1-rmse:0.92441\n",
      "[433]\tvalidation_0-rmse:0.86856\tvalidation_1-rmse:0.92443\n",
      "[434]\tvalidation_0-rmse:0.86845\tvalidation_1-rmse:0.92440\n",
      "[435]\tvalidation_0-rmse:0.86839\tvalidation_1-rmse:0.92438\n",
      "[436]\tvalidation_0-rmse:0.86823\tvalidation_1-rmse:0.92431\n",
      "[437]\tvalidation_0-rmse:0.86812\tvalidation_1-rmse:0.92429\n",
      "[438]\tvalidation_0-rmse:0.86803\tvalidation_1-rmse:0.92429\n",
      "[439]\tvalidation_0-rmse:0.86792\tvalidation_1-rmse:0.92433\n",
      "[440]\tvalidation_0-rmse:0.86783\tvalidation_1-rmse:0.92429\n",
      "[441]\tvalidation_0-rmse:0.86774\tvalidation_1-rmse:0.92429\n",
      "[442]\tvalidation_0-rmse:0.86760\tvalidation_1-rmse:0.92426\n",
      "[443]\tvalidation_0-rmse:0.86752\tvalidation_1-rmse:0.92423\n",
      "[444]\tvalidation_0-rmse:0.86745\tvalidation_1-rmse:0.92424\n",
      "[445]\tvalidation_0-rmse:0.86737\tvalidation_1-rmse:0.92422\n",
      "[446]\tvalidation_0-rmse:0.86729\tvalidation_1-rmse:0.92423\n",
      "[447]\tvalidation_0-rmse:0.86719\tvalidation_1-rmse:0.92422\n",
      "[448]\tvalidation_0-rmse:0.86710\tvalidation_1-rmse:0.92428\n",
      "[449]\tvalidation_0-rmse:0.86701\tvalidation_1-rmse:0.92429\n",
      "[450]\tvalidation_0-rmse:0.86693\tvalidation_1-rmse:0.92434\n",
      "[451]\tvalidation_0-rmse:0.86686\tvalidation_1-rmse:0.92428\n",
      "[452]\tvalidation_0-rmse:0.86675\tvalidation_1-rmse:0.92430\n",
      "[453]\tvalidation_0-rmse:0.86665\tvalidation_1-rmse:0.92428\n",
      "[454]\tvalidation_0-rmse:0.86656\tvalidation_1-rmse:0.92426\n",
      "[455]\tvalidation_0-rmse:0.86648\tvalidation_1-rmse:0.92424\n",
      "[456]\tvalidation_0-rmse:0.86638\tvalidation_1-rmse:0.92422\n",
      "[457]\tvalidation_0-rmse:0.86629\tvalidation_1-rmse:0.92422\n",
      "[458]\tvalidation_0-rmse:0.86624\tvalidation_1-rmse:0.92421\n",
      "[459]\tvalidation_0-rmse:0.86615\tvalidation_1-rmse:0.92421\n",
      "[460]\tvalidation_0-rmse:0.86607\tvalidation_1-rmse:0.92421\n",
      "[461]\tvalidation_0-rmse:0.86601\tvalidation_1-rmse:0.92421\n",
      "[462]\tvalidation_0-rmse:0.86586\tvalidation_1-rmse:0.92419\n",
      "[463]\tvalidation_0-rmse:0.86577\tvalidation_1-rmse:0.92415\n",
      "[464]\tvalidation_0-rmse:0.86570\tvalidation_1-rmse:0.92416\n",
      "[465]\tvalidation_0-rmse:0.86561\tvalidation_1-rmse:0.92414\n",
      "[466]\tvalidation_0-rmse:0.86552\tvalidation_1-rmse:0.92414\n",
      "[467]\tvalidation_0-rmse:0.86546\tvalidation_1-rmse:0.92411\n",
      "[468]\tvalidation_0-rmse:0.86540\tvalidation_1-rmse:0.92408\n",
      "[469]\tvalidation_0-rmse:0.86529\tvalidation_1-rmse:0.92410\n",
      "[470]\tvalidation_0-rmse:0.86520\tvalidation_1-rmse:0.92413\n",
      "[471]\tvalidation_0-rmse:0.86513\tvalidation_1-rmse:0.92415\n",
      "[472]\tvalidation_0-rmse:0.86504\tvalidation_1-rmse:0.92411\n",
      "[473]\tvalidation_0-rmse:0.86496\tvalidation_1-rmse:0.92410\n",
      "[474]\tvalidation_0-rmse:0.86488\tvalidation_1-rmse:0.92409\n",
      "[475]\tvalidation_0-rmse:0.86481\tvalidation_1-rmse:0.92405\n",
      "[476]\tvalidation_0-rmse:0.86476\tvalidation_1-rmse:0.92404\n",
      "[477]\tvalidation_0-rmse:0.86467\tvalidation_1-rmse:0.92404\n",
      "[478]\tvalidation_0-rmse:0.86455\tvalidation_1-rmse:0.92404\n",
      "[479]\tvalidation_0-rmse:0.86447\tvalidation_1-rmse:0.92406\n",
      "[480]\tvalidation_0-rmse:0.86439\tvalidation_1-rmse:0.92409\n",
      "[481]\tvalidation_0-rmse:0.86428\tvalidation_1-rmse:0.92405\n",
      "[482]\tvalidation_0-rmse:0.86421\tvalidation_1-rmse:0.92396\n",
      "[483]\tvalidation_0-rmse:0.86410\tvalidation_1-rmse:0.92395\n",
      "[484]\tvalidation_0-rmse:0.86402\tvalidation_1-rmse:0.92390\n",
      "[485]\tvalidation_0-rmse:0.86391\tvalidation_1-rmse:0.92386\n",
      "[486]\tvalidation_0-rmse:0.86384\tvalidation_1-rmse:0.92388\n",
      "[487]\tvalidation_0-rmse:0.86376\tvalidation_1-rmse:0.92393\n",
      "[488]\tvalidation_0-rmse:0.86369\tvalidation_1-rmse:0.92393\n",
      "[489]\tvalidation_0-rmse:0.86363\tvalidation_1-rmse:0.92393\n",
      "[490]\tvalidation_0-rmse:0.86357\tvalidation_1-rmse:0.92391\n",
      "[491]\tvalidation_0-rmse:0.86349\tvalidation_1-rmse:0.92388\n",
      "[492]\tvalidation_0-rmse:0.86346\tvalidation_1-rmse:0.92387\n",
      "[493]\tvalidation_0-rmse:0.86331\tvalidation_1-rmse:0.92401\n",
      "[494]\tvalidation_0-rmse:0.86325\tvalidation_1-rmse:0.92400\n",
      "[495]\tvalidation_0-rmse:0.86316\tvalidation_1-rmse:0.92400\n",
      "[496]\tvalidation_0-rmse:0.86310\tvalidation_1-rmse:0.92399\n",
      "[497]\tvalidation_0-rmse:0.86305\tvalidation_1-rmse:0.92400\n",
      "[498]\tvalidation_0-rmse:0.86296\tvalidation_1-rmse:0.92397\n",
      "[499]\tvalidation_0-rmse:0.86290\tvalidation_1-rmse:0.92394\n",
      "[500]\tvalidation_0-rmse:0.86280\tvalidation_1-rmse:0.92391\n",
      "[501]\tvalidation_0-rmse:0.86273\tvalidation_1-rmse:0.92389\n",
      "[502]\tvalidation_0-rmse:0.86267\tvalidation_1-rmse:0.92391\n",
      "[503]\tvalidation_0-rmse:0.86258\tvalidation_1-rmse:0.92392\n",
      "[504]\tvalidation_0-rmse:0.86248\tvalidation_1-rmse:0.92394\n",
      "[505]\tvalidation_0-rmse:0.86243\tvalidation_1-rmse:0.92391\n",
      "[506]\tvalidation_0-rmse:0.86232\tvalidation_1-rmse:0.92389\n",
      "[507]\tvalidation_0-rmse:0.86225\tvalidation_1-rmse:0.92391\n",
      "[508]\tvalidation_0-rmse:0.86216\tvalidation_1-rmse:0.92389\n",
      "[509]\tvalidation_0-rmse:0.86208\tvalidation_1-rmse:0.92390\n",
      "[510]\tvalidation_0-rmse:0.86199\tvalidation_1-rmse:0.92393\n",
      "[511]\tvalidation_0-rmse:0.86191\tvalidation_1-rmse:0.92397\n",
      "[512]\tvalidation_0-rmse:0.86185\tvalidation_1-rmse:0.92397\n",
      "[513]\tvalidation_0-rmse:0.86175\tvalidation_1-rmse:0.92401\n",
      "[514]\tvalidation_0-rmse:0.86165\tvalidation_1-rmse:0.92404\n",
      "[515]\tvalidation_0-rmse:0.86157\tvalidation_1-rmse:0.92404\n",
      "[516]\tvalidation_0-rmse:0.86146\tvalidation_1-rmse:0.92405\n",
      "[517]\tvalidation_0-rmse:0.86138\tvalidation_1-rmse:0.92404\n",
      "[518]\tvalidation_0-rmse:0.86128\tvalidation_1-rmse:0.92409\n",
      "[519]\tvalidation_0-rmse:0.86123\tvalidation_1-rmse:0.92408\n",
      "[520]\tvalidation_0-rmse:0.86115\tvalidation_1-rmse:0.92408\n",
      "[521]\tvalidation_0-rmse:0.86108\tvalidation_1-rmse:0.92409\n",
      "[522]\tvalidation_0-rmse:0.86101\tvalidation_1-rmse:0.92412\n",
      "[523]\tvalidation_0-rmse:0.86095\tvalidation_1-rmse:0.92414\n",
      "[524]\tvalidation_0-rmse:0.86089\tvalidation_1-rmse:0.92412\n",
      "[525]\tvalidation_0-rmse:0.86081\tvalidation_1-rmse:0.92412\n",
      "[526]\tvalidation_0-rmse:0.86074\tvalidation_1-rmse:0.92411\n",
      "[527]\tvalidation_0-rmse:0.86067\tvalidation_1-rmse:0.92412\n",
      "[528]\tvalidation_0-rmse:0.86055\tvalidation_1-rmse:0.92406\n",
      "[529]\tvalidation_0-rmse:0.86048\tvalidation_1-rmse:0.92412\n",
      "[530]\tvalidation_0-rmse:0.86042\tvalidation_1-rmse:0.92411\n",
      "[531]\tvalidation_0-rmse:0.86035\tvalidation_1-rmse:0.92418\n",
      "[532]\tvalidation_0-rmse:0.86030\tvalidation_1-rmse:0.92418\n",
      "[533]\tvalidation_0-rmse:0.86011\tvalidation_1-rmse:0.92427\n",
      "[534]\tvalidation_0-rmse:0.86004\tvalidation_1-rmse:0.92424\n",
      "[535]\tvalidation_0-rmse:0.85993\tvalidation_1-rmse:0.92423\n",
      "Stopping. Best iteration:\n",
      "[485]\tvalidation_0-rmse:0.86391\tvalidation_1-rmse:0.92386\n",
      "\n",
      "Wall time: 4h 23min 55s\n"
     ]
    }
   ],
   "source": [
    "%%time\n",
    "regressor_ = xgtrain()"
   ]
  },
  {
   "cell_type": "code",
   "execution_count": 74,
   "metadata": {},
   "outputs": [],
   "source": [
    "predictions = regressor_.predict(new_train[new_train.date_block_num == 34].drop(['item_cnt_month'], axis = 1).values)"
   ]
  },
  {
   "cell_type": "code",
   "execution_count": 75,
   "metadata": {},
   "outputs": [
    {
     "data": {
      "image/png": "[encoded data removed]",
      "text/plain": [
       "<Figure size 842.4x595.44 with 1 Axes>"
      ]
     },
     "metadata": {},
     "output_type": "display_data"
    }
   ],
   "source": [
    "from matplotlib import rcParams\n",
    "rcParams['figure.figsize'] = 11.7,8.27\n",
    "\n",
    "cols = new_train.drop('item_cnt_month', axis = 1).columns\n",
    "plt.barh(cols, regressor_.feature_importances_)\n",
    "plt.show()"
   ]
  },
  {
   "cell_type": "code",
   "execution_count": 76,
   "metadata": {},
   "outputs": [],
   "source": [
    "submission['item_cnt_month'] = predictions"
   ]
  },
  {
   "cell_type": "code",
   "execution_count": 77,
   "metadata": {},
   "outputs": [],
   "source": [
    "submission.to_csv('sales_faster_learn.csv', index=False)"
   ]
  },
  {
   "cell_type": "code",
   "execution_count": null,
   "metadata": {},
   "outputs": [],
   "source": []
  }
 ],
 "metadata": {
  "kernelspec": {
   "display_name": "Python 3",
   "language": "python",
   "name": "python3"
  },
  "language_info": {
   "codemirror_mode": {
    "name": "ipython",
    "version": 3
   },
   "file_extension": ".py",
   "mimetype": "text/x-python",
   "name": "python",
   "nbconvert_exporter": "python",
   "pygments_lexer": "ipython3",
   "version": "3.6.5"
  }
 },
 "nbformat": 4,
 "nbformat_minor": 2
}
