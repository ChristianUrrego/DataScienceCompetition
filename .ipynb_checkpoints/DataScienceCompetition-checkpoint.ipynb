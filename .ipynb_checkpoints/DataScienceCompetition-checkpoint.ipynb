{
 "cells": [
  {
   "cell_type": "markdown",
   "metadata": {},
   "source": [
    "## Predict Future Sales  "
   ]
  },
  {
   "cell_type": "markdown",
   "metadata": {},
   "source": [
    "Importing libraries "
   ]
  },
  {
   "cell_type": "code",
   "execution_count": 1,
   "metadata": {},
   "outputs": [
    {
     "name": "stderr",
     "output_type": "stream",
     "text": [
      "C:\\Program Files (x86)\\Microsoft Visual Studio\\Shared\\Anaconda3_64\\lib\\site-packages\\distributed\\config.py:63: YAMLLoadWarning: calling yaml.load() without Loader=... is deprecated, as the default Loader is unsafe. Please read https://msg.pyyaml.org/load for full details.\n",
      "  config.update(yaml.load(text) or {})\n"
     ]
    }
   ],
   "source": [
    "import numpy as np \n",
    "import pandas as pd \n",
    "import matplotlib.pyplot as plt\n",
    "import seaborn as sns\n",
    "import sklearn\n",
    "from sklearn import preprocessing\n",
    "from itertools import product\n",
    "from tqdm import tqdm_notebook\n",
    "from sklearn.linear_model import LinearRegression\n",
    "from sklearn import metrics\n",
    "import xgboost as xgb"
   ]
  },
  {
   "cell_type": "code",
   "execution_count": 2,
   "metadata": {},
   "outputs": [
    {
     "name": "stdout",
     "output_type": "stream",
     "text": [
      "numpy 1.19.0\n",
      "pandas 0.23.0\n",
      "seaborn 0.8.1\n",
      "sklearn 0.23.1\n",
      "xgboost 1.1.1\n"
     ]
    }
   ],
   "source": [
    "for p in [np, pd, sns , sklearn, xgb]:\n",
    "    print (p.__name__, p.__version__)"
   ]
  },
  {
   "cell_type": "markdown",
   "metadata": {},
   "source": [
    "## Reading data"
   ]
  },
  {
   "cell_type": "code",
   "execution_count": 3,
   "metadata": {},
   "outputs": [],
   "source": [
    "train = pd.read_csv('Data/sales_train.csv')\n",
    "items = pd.read_csv('Data/items.csv')\n",
    "categories = pd.read_csv('Data/item_categories.csv')\n",
    "shops = pd.read_csv('Data/shops.csv')\n",
    "test = pd.read_csv('Data/test.csv')\n",
    "submission = pd.read_csv('Data/sample_submission.csv')"
   ]
  },
  {
   "cell_type": "code",
   "execution_count": 4,
   "metadata": {},
   "outputs": [
    {
     "name": "stdout",
     "output_type": "stream",
     "text": [
      "(2935849, 6)\n"
     ]
    },
    {
     "data": {
      "text/html": [
       "<div>\n",
       "<style scoped>\n",
       "    .dataframe tbody tr th:only-of-type {\n",
       "        vertical-align: middle;\n",
       "    }\n",
       "\n",
       "    .dataframe tbody tr th {\n",
       "        vertical-align: top;\n",
       "    }\n",
       "\n",
       "    .dataframe thead th {\n",
       "        text-align: right;\n",
       "    }\n",
       "</style>\n",
       "<table border=\"1\" class=\"dataframe\">\n",
       "  <thead>\n",
       "    <tr style=\"text-align: right;\">\n",
       "      <th></th>\n",
       "      <th>date</th>\n",
       "      <th>date_block_num</th>\n",
       "      <th>shop_id</th>\n",
       "      <th>item_id</th>\n",
       "      <th>item_price</th>\n",
       "      <th>item_cnt_day</th>\n",
       "    </tr>\n",
       "  </thead>\n",
       "  <tbody>\n",
       "    <tr>\n",
       "      <th>0</th>\n",
       "      <td>02.01.2013</td>\n",
       "      <td>0</td>\n",
       "      <td>59</td>\n",
       "      <td>22154</td>\n",
       "      <td>999.00</td>\n",
       "      <td>1.0</td>\n",
       "    </tr>\n",
       "    <tr>\n",
       "      <th>1</th>\n",
       "      <td>03.01.2013</td>\n",
       "      <td>0</td>\n",
       "      <td>25</td>\n",
       "      <td>2552</td>\n",
       "      <td>899.00</td>\n",
       "      <td>1.0</td>\n",
       "    </tr>\n",
       "    <tr>\n",
       "      <th>2</th>\n",
       "      <td>05.01.2013</td>\n",
       "      <td>0</td>\n",
       "      <td>25</td>\n",
       "      <td>2552</td>\n",
       "      <td>899.00</td>\n",
       "      <td>-1.0</td>\n",
       "    </tr>\n",
       "    <tr>\n",
       "      <th>3</th>\n",
       "      <td>06.01.2013</td>\n",
       "      <td>0</td>\n",
       "      <td>25</td>\n",
       "      <td>2554</td>\n",
       "      <td>1709.05</td>\n",
       "      <td>1.0</td>\n",
       "    </tr>\n",
       "    <tr>\n",
       "      <th>4</th>\n",
       "      <td>15.01.2013</td>\n",
       "      <td>0</td>\n",
       "      <td>25</td>\n",
       "      <td>2555</td>\n",
       "      <td>1099.00</td>\n",
       "      <td>1.0</td>\n",
       "    </tr>\n",
       "  </tbody>\n",
       "</table>\n",
       "</div>"
      ],
      "text/plain": [
       "         date  date_block_num  shop_id  item_id  item_price  item_cnt_day\n",
       "0  02.01.2013               0       59    22154      999.00           1.0\n",
       "1  03.01.2013               0       25     2552      899.00           1.0\n",
       "2  05.01.2013               0       25     2552      899.00          -1.0\n",
       "3  06.01.2013               0       25     2554     1709.05           1.0\n",
       "4  15.01.2013               0       25     2555     1099.00           1.0"
      ]
     },
     "execution_count": 4,
     "metadata": {},
     "output_type": "execute_result"
    }
   ],
   "source": [
    "print(train.shape)\n",
    "train.head()"
   ]
  },
  {
   "cell_type": "code",
   "execution_count": 5,
   "metadata": {},
   "outputs": [
    {
     "name": "stdout",
     "output_type": "stream",
     "text": [
      "(214200, 3)\n"
     ]
    },
    {
     "data": {
      "text/html": [
       "<div>\n",
       "<style scoped>\n",
       "    .dataframe tbody tr th:only-of-type {\n",
       "        vertical-align: middle;\n",
       "    }\n",
       "\n",
       "    .dataframe tbody tr th {\n",
       "        vertical-align: top;\n",
       "    }\n",
       "\n",
       "    .dataframe thead th {\n",
       "        text-align: right;\n",
       "    }\n",
       "</style>\n",
       "<table border=\"1\" class=\"dataframe\">\n",
       "  <thead>\n",
       "    <tr style=\"text-align: right;\">\n",
       "      <th></th>\n",
       "      <th>ID</th>\n",
       "      <th>shop_id</th>\n",
       "      <th>item_id</th>\n",
       "    </tr>\n",
       "  </thead>\n",
       "  <tbody>\n",
       "    <tr>\n",
       "      <th>0</th>\n",
       "      <td>0</td>\n",
       "      <td>5</td>\n",
       "      <td>5037</td>\n",
       "    </tr>\n",
       "    <tr>\n",
       "      <th>1</th>\n",
       "      <td>1</td>\n",
       "      <td>5</td>\n",
       "      <td>5320</td>\n",
       "    </tr>\n",
       "    <tr>\n",
       "      <th>2</th>\n",
       "      <td>2</td>\n",
       "      <td>5</td>\n",
       "      <td>5233</td>\n",
       "    </tr>\n",
       "    <tr>\n",
       "      <th>3</th>\n",
       "      <td>3</td>\n",
       "      <td>5</td>\n",
       "      <td>5232</td>\n",
       "    </tr>\n",
       "    <tr>\n",
       "      <th>4</th>\n",
       "      <td>4</td>\n",
       "      <td>5</td>\n",
       "      <td>5268</td>\n",
       "    </tr>\n",
       "  </tbody>\n",
       "</table>\n",
       "</div>"
      ],
      "text/plain": [
       "   ID  shop_id  item_id\n",
       "0   0        5     5037\n",
       "1   1        5     5320\n",
       "2   2        5     5233\n",
       "3   3        5     5232\n",
       "4   4        5     5268"
      ]
     },
     "execution_count": 5,
     "metadata": {},
     "output_type": "execute_result"
    }
   ],
   "source": [
    "print(test.shape)\n",
    "test.head()"
   ]
  },
  {
   "cell_type": "code",
   "execution_count": 6,
   "metadata": {},
   "outputs": [
    {
     "name": "stdout",
     "output_type": "stream",
     "text": [
      "(84, 2)\n"
     ]
    },
    {
     "data": {
      "text/html": [
       "<div>\n",
       "<style scoped>\n",
       "    .dataframe tbody tr th:only-of-type {\n",
       "        vertical-align: middle;\n",
       "    }\n",
       "\n",
       "    .dataframe tbody tr th {\n",
       "        vertical-align: top;\n",
       "    }\n",
       "\n",
       "    .dataframe thead th {\n",
       "        text-align: right;\n",
       "    }\n",
       "</style>\n",
       "<table border=\"1\" class=\"dataframe\">\n",
       "  <thead>\n",
       "    <tr style=\"text-align: right;\">\n",
       "      <th></th>\n",
       "      <th>item_category_name</th>\n",
       "      <th>item_category_id</th>\n",
       "    </tr>\n",
       "  </thead>\n",
       "  <tbody>\n",
       "    <tr>\n",
       "      <th>0</th>\n",
       "      <td>PC - Гарнитуры/Наушники</td>\n",
       "      <td>0</td>\n",
       "    </tr>\n",
       "    <tr>\n",
       "      <th>1</th>\n",
       "      <td>Аксессуары - PS2</td>\n",
       "      <td>1</td>\n",
       "    </tr>\n",
       "    <tr>\n",
       "      <th>2</th>\n",
       "      <td>Аксессуары - PS3</td>\n",
       "      <td>2</td>\n",
       "    </tr>\n",
       "    <tr>\n",
       "      <th>3</th>\n",
       "      <td>Аксессуары - PS4</td>\n",
       "      <td>3</td>\n",
       "    </tr>\n",
       "    <tr>\n",
       "      <th>4</th>\n",
       "      <td>Аксессуары - PSP</td>\n",
       "      <td>4</td>\n",
       "    </tr>\n",
       "  </tbody>\n",
       "</table>\n",
       "</div>"
      ],
      "text/plain": [
       "        item_category_name  item_category_id\n",
       "0  PC - Гарнитуры/Наушники                 0\n",
       "1         Аксессуары - PS2                 1\n",
       "2         Аксессуары - PS3                 2\n",
       "3         Аксессуары - PS4                 3\n",
       "4         Аксессуары - PSP                 4"
      ]
     },
     "execution_count": 6,
     "metadata": {},
     "output_type": "execute_result"
    }
   ],
   "source": [
    "print(categories.shape)\n",
    "categories.head()"
   ]
  },
  {
   "cell_type": "code",
   "execution_count": 7,
   "metadata": {},
   "outputs": [
    {
     "name": "stdout",
     "output_type": "stream",
     "text": [
      "(22170, 3)\n"
     ]
    },
    {
     "data": {
      "text/html": [
       "<div>\n",
       "<style scoped>\n",
       "    .dataframe tbody tr th:only-of-type {\n",
       "        vertical-align: middle;\n",
       "    }\n",
       "\n",
       "    .dataframe tbody tr th {\n",
       "        vertical-align: top;\n",
       "    }\n",
       "\n",
       "    .dataframe thead th {\n",
       "        text-align: right;\n",
       "    }\n",
       "</style>\n",
       "<table border=\"1\" class=\"dataframe\">\n",
       "  <thead>\n",
       "    <tr style=\"text-align: right;\">\n",
       "      <th></th>\n",
       "      <th>item_name</th>\n",
       "      <th>item_id</th>\n",
       "      <th>item_category_id</th>\n",
       "    </tr>\n",
       "  </thead>\n",
       "  <tbody>\n",
       "    <tr>\n",
       "      <th>0</th>\n",
       "      <td>! ВО ВЛАСТИ НАВАЖДЕНИЯ (ПЛАСТ.)         D</td>\n",
       "      <td>0</td>\n",
       "      <td>40</td>\n",
       "    </tr>\n",
       "    <tr>\n",
       "      <th>1</th>\n",
       "      <td>!ABBYY FineReader 12 Professional Edition Full...</td>\n",
       "      <td>1</td>\n",
       "      <td>76</td>\n",
       "    </tr>\n",
       "    <tr>\n",
       "      <th>2</th>\n",
       "      <td>***В ЛУЧАХ СЛАВЫ   (UNV)                    D</td>\n",
       "      <td>2</td>\n",
       "      <td>40</td>\n",
       "    </tr>\n",
       "    <tr>\n",
       "      <th>3</th>\n",
       "      <td>***ГОЛУБАЯ ВОЛНА  (Univ)                      D</td>\n",
       "      <td>3</td>\n",
       "      <td>40</td>\n",
       "    </tr>\n",
       "    <tr>\n",
       "      <th>4</th>\n",
       "      <td>***КОРОБКА (СТЕКЛО)                       D</td>\n",
       "      <td>4</td>\n",
       "      <td>40</td>\n",
       "    </tr>\n",
       "  </tbody>\n",
       "</table>\n",
       "</div>"
      ],
      "text/plain": [
       "                                           item_name  item_id  \\\n",
       "0          ! ВО ВЛАСТИ НАВАЖДЕНИЯ (ПЛАСТ.)         D        0   \n",
       "1  !ABBYY FineReader 12 Professional Edition Full...        1   \n",
       "2      ***В ЛУЧАХ СЛАВЫ   (UNV)                    D        2   \n",
       "3    ***ГОЛУБАЯ ВОЛНА  (Univ)                      D        3   \n",
       "4        ***КОРОБКА (СТЕКЛО)                       D        4   \n",
       "\n",
       "   item_category_id  \n",
       "0                40  \n",
       "1                76  \n",
       "2                40  \n",
       "3                40  \n",
       "4                40  "
      ]
     },
     "execution_count": 7,
     "metadata": {},
     "output_type": "execute_result"
    }
   ],
   "source": [
    "print(items.shape)\n",
    "items.head()"
   ]
  },
  {
   "cell_type": "code",
   "execution_count": 8,
   "metadata": {},
   "outputs": [
    {
     "name": "stdout",
     "output_type": "stream",
     "text": [
      "(60, 2)\n"
     ]
    },
    {
     "data": {
      "text/html": [
       "<div>\n",
       "<style scoped>\n",
       "    .dataframe tbody tr th:only-of-type {\n",
       "        vertical-align: middle;\n",
       "    }\n",
       "\n",
       "    .dataframe tbody tr th {\n",
       "        vertical-align: top;\n",
       "    }\n",
       "\n",
       "    .dataframe thead th {\n",
       "        text-align: right;\n",
       "    }\n",
       "</style>\n",
       "<table border=\"1\" class=\"dataframe\">\n",
       "  <thead>\n",
       "    <tr style=\"text-align: right;\">\n",
       "      <th></th>\n",
       "      <th>shop_name</th>\n",
       "      <th>shop_id</th>\n",
       "    </tr>\n",
       "  </thead>\n",
       "  <tbody>\n",
       "    <tr>\n",
       "      <th>0</th>\n",
       "      <td>!Якутск Орджоникидзе, 56 фран</td>\n",
       "      <td>0</td>\n",
       "    </tr>\n",
       "    <tr>\n",
       "      <th>1</th>\n",
       "      <td>!Якутск ТЦ \"Центральный\" фран</td>\n",
       "      <td>1</td>\n",
       "    </tr>\n",
       "    <tr>\n",
       "      <th>2</th>\n",
       "      <td>Адыгея ТЦ \"Мега\"</td>\n",
       "      <td>2</td>\n",
       "    </tr>\n",
       "    <tr>\n",
       "      <th>3</th>\n",
       "      <td>Балашиха ТРК \"Октябрь-Киномир\"</td>\n",
       "      <td>3</td>\n",
       "    </tr>\n",
       "    <tr>\n",
       "      <th>4</th>\n",
       "      <td>Волжский ТЦ \"Волга Молл\"</td>\n",
       "      <td>4</td>\n",
       "    </tr>\n",
       "  </tbody>\n",
       "</table>\n",
       "</div>"
      ],
      "text/plain": [
       "                        shop_name  shop_id\n",
       "0   !Якутск Орджоникидзе, 56 фран        0\n",
       "1   !Якутск ТЦ \"Центральный\" фран        1\n",
       "2                Адыгея ТЦ \"Мега\"        2\n",
       "3  Балашиха ТРК \"Октябрь-Киномир\"        3\n",
       "4        Волжский ТЦ \"Волга Молл\"        4"
      ]
     },
     "execution_count": 8,
     "metadata": {},
     "output_type": "execute_result"
    }
   ],
   "source": [
    "print(shops.shape)\n",
    "shops.head()"
   ]
  },
  {
   "cell_type": "markdown",
   "metadata": {},
   "source": [
    "## Data analysis"
   ]
  },
  {
   "cell_type": "markdown",
   "metadata": {},
   "source": [
    "#### Shops in training set"
   ]
  },
  {
   "cell_type": "code",
   "execution_count": 9,
   "metadata": {},
   "outputs": [
    {
     "data": {
      "image/png": "[encoded data removed]",
      "text/plain": [
       "<Figure size 1296x648 with 1 Axes>"
      ]
     },
     "metadata": {},
     "output_type": "display_data"
    }
   ],
   "source": [
    "train['shop_id'].value_counts().plot(kind='bar', figsize=(18,9))\n",
    "plt.title('Shop ID Values in the Training Set')\n",
    "\n",
    "plt.show()"
   ]
  },
  {
   "cell_type": "markdown",
   "metadata": {},
   "source": [
    "#### Items in training set"
   ]
  },
  {
   "cell_type": "code",
   "execution_count": 10,
   "metadata": {},
   "outputs": [
    {
     "data": {
      "image/png": "[encoded data removed]",
      "text/plain": [
       "<Figure size 1080x360 with 1 Axes>"
      ]
     },
     "metadata": {},
     "output_type": "display_data"
    }
   ],
   "source": [
    "train['item_id'].plot(kind='hist', figsize=(15,5))\n",
    "plt.title('Item ID Histogram')\n",
    "plt.show()"
   ]
  },
  {
   "cell_type": "markdown",
   "metadata": {},
   "source": [
    "#### Item price in training set"
   ]
  },
  {
   "cell_type": "code",
   "execution_count": 11,
   "metadata": {},
   "outputs": [
    {
     "data": {
      "image/png": "[encoded data removed]",
      "text/plain": [
       "<Figure size 1080x360 with 1 Axes>"
      ]
     },
     "metadata": {},
     "output_type": "display_data"
    }
   ],
   "source": [
    "train['item_price'].plot(kind='hist', figsize=(15,5))\n",
    "plt.title('Item Price Histogram')\n",
    "plt.show()"
   ]
  },
  {
   "cell_type": "markdown",
   "metadata": {},
   "source": [
    "#### Item Count day in training set"
   ]
  },
  {
   "cell_type": "code",
   "execution_count": 12,
   "metadata": {},
   "outputs": [
    {
     "data": {
      "image/png": "[encoded data removed]",
      "text/plain": [
       "<Figure size 1080x360 with 1 Axes>"
      ]
     },
     "metadata": {},
     "output_type": "display_data"
    }
   ],
   "source": [
    "train['item_cnt_day'].plot(kind='hist', figsize=(15,5))\n",
    "plt.title('Item Count Day Histogram')\n",
    "plt.show()"
   ]
  },
  {
   "cell_type": "markdown",
   "metadata": {},
   "source": [
    "#### Month values in training set"
   ]
  },
  {
   "cell_type": "code",
   "execution_count": 13,
   "metadata": {},
   "outputs": [
    {
     "data": {
      "image/png": "[encoded data removed]",
      "text/plain": [
       "<Figure size 1296x648 with 1 Axes>"
      ]
     },
     "metadata": {},
     "output_type": "display_data"
    }
   ],
   "source": [
    "train['date_block_num'].value_counts().plot(kind='bar',figsize=(18,9))\n",
    "plt.title('Month (date_block_num) Values in the Training Set')\n",
    "plt.show()"
   ]
  },
  {
   "cell_type": "markdown",
   "metadata": {},
   "source": [
    "In the previous graphs it can be seen that in the columns of item count and price there are very high values, another graph is used to see the distribution of the values ​​and identify if they are outlaiers."
   ]
  },
  {
   "cell_type": "code",
   "execution_count": 14,
   "metadata": {},
   "outputs": [
    {
     "data": {
      "image/png": "[encoded data removed]",
      "text/plain": [
       "<Figure size 432x288 with 1 Axes>"
      ]
     },
     "metadata": {},
     "output_type": "display_data"
    },
    {
     "data": {
      "image/png": "[encoded data removed]",
      "text/plain": [
       "<Figure size 432x288 with 1 Axes>"
      ]
     },
     "metadata": {},
     "output_type": "display_data"
    }
   ],
   "source": [
    "for col in ['item_price','item_cnt_day']:\n",
    "    plt.figure()\n",
    "    plt.title(col)\n",
    "    sns.boxplot(x=train[col]);"
   ]
  },
  {
   "cell_type": "code",
   "execution_count": 15,
   "metadata": {},
   "outputs": [
    {
     "data": {
      "text/plain": [
       "20949    31340\n",
       "5822      9408\n",
       "17717     9067\n",
       "2808      7479\n",
       "4181      6853\n",
       "Name: item_id, dtype: int64"
      ]
     },
     "execution_count": 15,
     "metadata": {},
     "output_type": "execute_result"
    }
   ],
   "source": [
    "train['item_id'].value_counts(ascending=False)[:5]"
   ]
  },
  {
   "cell_type": "code",
   "execution_count": 16,
   "metadata": {},
   "outputs": [
    {
     "data": {
      "text/html": [
       "<div>\n",
       "<style scoped>\n",
       "    .dataframe tbody tr th:only-of-type {\n",
       "        vertical-align: middle;\n",
       "    }\n",
       "\n",
       "    .dataframe tbody tr th {\n",
       "        vertical-align: top;\n",
       "    }\n",
       "\n",
       "    .dataframe thead th {\n",
       "        text-align: right;\n",
       "    }\n",
       "</style>\n",
       "<table border=\"1\" class=\"dataframe\">\n",
       "  <thead>\n",
       "    <tr style=\"text-align: right;\">\n",
       "      <th></th>\n",
       "      <th>item_name</th>\n",
       "      <th>item_id</th>\n",
       "      <th>item_category_id</th>\n",
       "    </tr>\n",
       "  </thead>\n",
       "  <tbody>\n",
       "    <tr>\n",
       "      <th>20949</th>\n",
       "      <td>Фирменный пакет майка 1С Интерес белый (34*42)...</td>\n",
       "      <td>20949</td>\n",
       "      <td>71</td>\n",
       "    </tr>\n",
       "  </tbody>\n",
       "</table>\n",
       "</div>"
      ],
      "text/plain": [
       "                                               item_name  item_id  \\\n",
       "20949  Фирменный пакет майка 1С Интерес белый (34*42)...    20949   \n",
       "\n",
       "       item_category_id  \n",
       "20949                71  "
      ]
     },
     "execution_count": 16,
     "metadata": {},
     "output_type": "execute_result"
    }
   ],
   "source": [
    "items.loc[items['item_id']==20949]"
   ]
  },
  {
   "cell_type": "code",
   "execution_count": 17,
   "metadata": {},
   "outputs": [
    {
     "data": {
      "text/html": [
       "<div>\n",
       "<style scoped>\n",
       "    .dataframe tbody tr th:only-of-type {\n",
       "        vertical-align: middle;\n",
       "    }\n",
       "\n",
       "    .dataframe tbody tr th {\n",
       "        vertical-align: top;\n",
       "    }\n",
       "\n",
       "    .dataframe thead th {\n",
       "        text-align: right;\n",
       "    }\n",
       "</style>\n",
       "<table border=\"1\" class=\"dataframe\">\n",
       "  <thead>\n",
       "    <tr style=\"text-align: right;\">\n",
       "      <th></th>\n",
       "      <th>ID</th>\n",
       "      <th>shop_id</th>\n",
       "      <th>item_id</th>\n",
       "    </tr>\n",
       "  </thead>\n",
       "  <tbody>\n",
       "    <tr>\n",
       "      <th>460</th>\n",
       "      <td>460</td>\n",
       "      <td>5</td>\n",
       "      <td>20949</td>\n",
       "    </tr>\n",
       "    <tr>\n",
       "      <th>5560</th>\n",
       "      <td>5560</td>\n",
       "      <td>4</td>\n",
       "      <td>20949</td>\n",
       "    </tr>\n",
       "    <tr>\n",
       "      <th>10660</th>\n",
       "      <td>10660</td>\n",
       "      <td>6</td>\n",
       "      <td>20949</td>\n",
       "    </tr>\n",
       "    <tr>\n",
       "      <th>15760</th>\n",
       "      <td>15760</td>\n",
       "      <td>3</td>\n",
       "      <td>20949</td>\n",
       "    </tr>\n",
       "    <tr>\n",
       "      <th>20860</th>\n",
       "      <td>20860</td>\n",
       "      <td>2</td>\n",
       "      <td>20949</td>\n",
       "    </tr>\n",
       "  </tbody>\n",
       "</table>\n",
       "</div>"
      ],
      "text/plain": [
       "          ID  shop_id  item_id\n",
       "460      460        5    20949\n",
       "5560    5560        4    20949\n",
       "10660  10660        6    20949\n",
       "15760  15760        3    20949\n",
       "20860  20860        2    20949"
      ]
     },
     "execution_count": 17,
     "metadata": {},
     "output_type": "execute_result"
    }
   ],
   "source": [
    "test.loc[test['item_id']==20949].head(5)"
   ]
  },
  {
   "cell_type": "markdown",
   "metadata": {},
   "source": [
    "The existence of negative values in the price column is also identified"
   ]
  },
  {
   "cell_type": "code",
   "execution_count": 18,
   "metadata": {},
   "outputs": [
    {
     "data": {
      "text/html": [
       "<div>\n",
       "<style scoped>\n",
       "    .dataframe tbody tr th:only-of-type {\n",
       "        vertical-align: middle;\n",
       "    }\n",
       "\n",
       "    .dataframe tbody tr th {\n",
       "        vertical-align: top;\n",
       "    }\n",
       "\n",
       "    .dataframe thead th {\n",
       "        text-align: right;\n",
       "    }\n",
       "</style>\n",
       "<table border=\"1\" class=\"dataframe\">\n",
       "  <thead>\n",
       "    <tr style=\"text-align: right;\">\n",
       "      <th></th>\n",
       "      <th>date</th>\n",
       "      <th>date_block_num</th>\n",
       "      <th>shop_id</th>\n",
       "      <th>item_id</th>\n",
       "      <th>item_price</th>\n",
       "      <th>item_cnt_day</th>\n",
       "    </tr>\n",
       "  </thead>\n",
       "  <tbody>\n",
       "    <tr>\n",
       "      <th>484683</th>\n",
       "      <td>15.05.2013</td>\n",
       "      <td>4</td>\n",
       "      <td>32</td>\n",
       "      <td>2973</td>\n",
       "      <td>-1.0</td>\n",
       "      <td>1.0</td>\n",
       "    </tr>\n",
       "  </tbody>\n",
       "</table>\n",
       "</div>"
      ],
      "text/plain": [
       "              date  date_block_num  shop_id  item_id  item_price  item_cnt_day\n",
       "484683  15.05.2013               4       32     2973        -1.0           1.0"
      ]
     },
     "execution_count": 18,
     "metadata": {},
     "output_type": "execute_result"
    }
   ],
   "source": [
    "train[train['item_price'] < 0]"
   ]
  },
  {
   "cell_type": "markdown",
   "metadata": {},
   "source": [
    "Correction of price with negative value"
   ]
  },
  {
   "cell_type": "code",
   "execution_count": 19,
   "metadata": {},
   "outputs": [],
   "source": [
    "price_correction = train[(train['shop_id'] == 32) & (train['item_id'] == 2973) & (train['date_block_num'] == 4) & (train['item_price'] > 0)].item_price.median()\n",
    "train.loc[train['item_price'] < 0, 'item_price'] = price_correction"
   ]
  },
  {
   "cell_type": "markdown",
   "metadata": {},
   "source": [
    "Records with outliers are removed from the dataset"
   ]
  },
  {
   "cell_type": "code",
   "execution_count": 20,
   "metadata": {},
   "outputs": [],
   "source": [
    "train = train[train.item_price<100000]\n",
    "train = train[train.item_cnt_day<1001]"
   ]
  },
  {
   "cell_type": "markdown",
   "metadata": {},
   "source": [
    "reviewing the shops data it is found that some of the names are very similar and are treated as duplicate records, the correction is made by changing the shop_id"
   ]
  },
  {
   "cell_type": "code",
   "execution_count": 21,
   "metadata": {},
   "outputs": [
    {
     "name": "stdout",
     "output_type": "stream",
     "text": [
      "Shops in Training Set:  60\n",
      "Shops in Test Set:  42\n",
      "Yes, list is subset of other.\n"
     ]
    }
   ],
   "source": [
    "shops_train = train['shop_id'].nunique()\n",
    "shops_test = test['shop_id'].nunique()\n",
    "print('Shops in Training Set: ', shops_train)\n",
    "print('Shops in Test Set: ', shops_test)\n",
    "shops_train_list = list(train['shop_id'].unique())\n",
    "shops_test_list = list(test['shop_id'].unique())\n",
    "\n",
    "flag = 0\n",
    "if(set(shops_test_list).issubset(set(shops_train_list))): \n",
    "    flag = 1\n",
    "      \n",
    "if (flag) : \n",
    "    print (\"Yes, list is subset of other.\") \n",
    "else : \n",
    "    print (\"No, list is not subset of other.\") "
   ]
  },
  {
   "cell_type": "code",
   "execution_count": 22,
   "metadata": {},
   "outputs": [],
   "source": [
    "train.loc[train['shop_id'] == 0, 'shop_id'] = 57\n",
    "test.loc[test['shop_id'] == 0, 'shop_id'] = 57\n",
    "\n",
    "train.loc[train['shop_id'] == 1, 'shop_id'] = 58\n",
    "test.loc[test['shop_id'] == 1, 'shop_id'] = 58\n",
    "\n",
    "train.loc[train['shop_id'] == 10, 'shop_id'] = 11\n",
    "test.loc[test['shop_id'] == 10, 'shop_id'] = 11"
   ]
  },
  {
   "cell_type": "markdown",
   "metadata": {},
   "source": [
    "The city of each of the shop names is extracted and a new column is created in the dataset"
   ]
  },
  {
   "cell_type": "code",
   "execution_count": 23,
   "metadata": {},
   "outputs": [
    {
     "data": {
      "text/plain": [
       "array(['!Якутск', 'Адыгея', 'Балашиха', 'Волжский', 'Вологда', 'Воронеж',\n",
       "       'Выездная', 'Жуковский', 'Интернет-магазин', 'Казань', 'Калуга',\n",
       "       'Коломна', 'Красноярск', 'Курск', 'Москва', 'Мытищи', 'Н.Новгород',\n",
       "       'Новосибирск', 'Омск', 'РостовНаДону', 'СПб', 'Самара', 'Сергиев',\n",
       "       'Сургут', 'Томск', 'Тюмень', 'Уфа', 'Химки', 'Цифровой', 'Чехов',\n",
       "       'Якутск', 'Ярославль'], dtype=object)"
      ]
     },
     "execution_count": 23,
     "metadata": {},
     "output_type": "execute_result"
    }
   ],
   "source": [
    "cities = shops['shop_name'].str.split(' ').map(lambda row: row[0])\n",
    "cities.unique()"
   ]
  },
  {
   "cell_type": "code",
   "execution_count": 24,
   "metadata": {},
   "outputs": [],
   "source": [
    "shops['city'] = shops['shop_name'].str.split(' ').map(lambda row: row[0])\n",
    "shops.loc[shops.city == '!Якутск', 'city'] = 'Якутск'"
   ]
  },
  {
   "cell_type": "markdown",
   "metadata": {},
   "source": [
    "a codification of the cities is made"
   ]
  },
  {
   "cell_type": "code",
   "execution_count": 25,
   "metadata": {},
   "outputs": [
    {
     "data": {
      "text/plain": [
       "array([29, 29,  0,  1,  2,  3,  4,  4,  4,  5,  6,  6,  7,  8,  8,  9, 10,\n",
       "       11, 11, 12, 13, 13, 13, 13, 13, 13, 13, 13, 13, 13, 13, 13, 13, 14,\n",
       "       15, 15, 16, 16, 17, 18, 18, 18, 19, 19, 20, 20, 21, 22, 23, 24, 24,\n",
       "       24, 25, 25, 26, 27, 28, 29, 29, 30])"
      ]
     },
     "execution_count": 25,
     "metadata": {},
     "output_type": "execute_result"
    }
   ],
   "source": [
    "le = preprocessing.LabelEncoder()\n",
    "le.fit_transform(shops['city'])"
   ]
  },
  {
   "cell_type": "code",
   "execution_count": 26,
   "metadata": {},
   "outputs": [
    {
     "data": {
      "text/html": [
       "<div>\n",
       "<style scoped>\n",
       "    .dataframe tbody tr th:only-of-type {\n",
       "        vertical-align: middle;\n",
       "    }\n",
       "\n",
       "    .dataframe tbody tr th {\n",
       "        vertical-align: top;\n",
       "    }\n",
       "\n",
       "    .dataframe thead th {\n",
       "        text-align: right;\n",
       "    }\n",
       "</style>\n",
       "<table border=\"1\" class=\"dataframe\">\n",
       "  <thead>\n",
       "    <tr style=\"text-align: right;\">\n",
       "      <th></th>\n",
       "      <th>shop_id</th>\n",
       "      <th>city_label</th>\n",
       "    </tr>\n",
       "  </thead>\n",
       "  <tbody>\n",
       "    <tr>\n",
       "      <th>0</th>\n",
       "      <td>0</td>\n",
       "      <td>29</td>\n",
       "    </tr>\n",
       "    <tr>\n",
       "      <th>1</th>\n",
       "      <td>1</td>\n",
       "      <td>29</td>\n",
       "    </tr>\n",
       "    <tr>\n",
       "      <th>2</th>\n",
       "      <td>2</td>\n",
       "      <td>0</td>\n",
       "    </tr>\n",
       "    <tr>\n",
       "      <th>3</th>\n",
       "      <td>3</td>\n",
       "      <td>1</td>\n",
       "    </tr>\n",
       "    <tr>\n",
       "      <th>4</th>\n",
       "      <td>4</td>\n",
       "      <td>2</td>\n",
       "    </tr>\n",
       "  </tbody>\n",
       "</table>\n",
       "</div>"
      ],
      "text/plain": [
       "   shop_id  city_label\n",
       "0        0          29\n",
       "1        1          29\n",
       "2        2           0\n",
       "3        3           1\n",
       "4        4           2"
      ]
     },
     "execution_count": 26,
     "metadata": {},
     "output_type": "execute_result"
    }
   ],
   "source": [
    "shops['city_label'] = le.fit_transform(shops['city'])\n",
    "shops.drop(['shop_name', 'city'], axis = 1, inplace = True)\n",
    "shops.head()"
   ]
  },
  {
   "cell_type": "markdown",
   "metadata": {},
   "source": [
    "The category and sub-category are also encoded"
   ]
  },
  {
   "cell_type": "code",
   "execution_count": 27,
   "metadata": {},
   "outputs": [],
   "source": [
    "le = preprocessing.LabelEncoder()\n",
    "\n",
    "main_categories = categories['item_category_name'].str.split('-')\n",
    "categories['main_category_id'] = main_categories.map(lambda row: row[0].strip())\n",
    "categories['main_category_id'] = le.fit_transform(categories['main_category_id'])\n",
    "\n",
    "# Some items don't have sub-categories. For those, we will use the main category as a sub-category\n",
    "categories['sub_category_id'] = main_categories.map(lambda row: row[1].strip() if len(row) > 1 else row[0].strip())\n",
    "categories['sub_category_id'] = le.fit_transform(categories['sub_category_id'])"
   ]
  },
  {
   "cell_type": "code",
   "execution_count": 28,
   "metadata": {},
   "outputs": [
    {
     "data": {
      "text/html": [
       "<div>\n",
       "<style scoped>\n",
       "    .dataframe tbody tr th:only-of-type {\n",
       "        vertical-align: middle;\n",
       "    }\n",
       "\n",
       "    .dataframe tbody tr th {\n",
       "        vertical-align: top;\n",
       "    }\n",
       "\n",
       "    .dataframe thead th {\n",
       "        text-align: right;\n",
       "    }\n",
       "</style>\n",
       "<table border=\"1\" class=\"dataframe\">\n",
       "  <thead>\n",
       "    <tr style=\"text-align: right;\">\n",
       "      <th></th>\n",
       "      <th>item_category_name</th>\n",
       "      <th>item_category_id</th>\n",
       "      <th>main_category_id</th>\n",
       "      <th>sub_category_id</th>\n",
       "    </tr>\n",
       "  </thead>\n",
       "  <tbody>\n",
       "    <tr>\n",
       "      <th>0</th>\n",
       "      <td>PC - Гарнитуры/Наушники</td>\n",
       "      <td>0</td>\n",
       "      <td>0</td>\n",
       "      <td>29</td>\n",
       "    </tr>\n",
       "    <tr>\n",
       "      <th>1</th>\n",
       "      <td>Аксессуары - PS2</td>\n",
       "      <td>1</td>\n",
       "      <td>1</td>\n",
       "      <td>9</td>\n",
       "    </tr>\n",
       "    <tr>\n",
       "      <th>2</th>\n",
       "      <td>Аксессуары - PS3</td>\n",
       "      <td>2</td>\n",
       "      <td>1</td>\n",
       "      <td>10</td>\n",
       "    </tr>\n",
       "    <tr>\n",
       "      <th>3</th>\n",
       "      <td>Аксессуары - PS4</td>\n",
       "      <td>3</td>\n",
       "      <td>1</td>\n",
       "      <td>11</td>\n",
       "    </tr>\n",
       "    <tr>\n",
       "      <th>4</th>\n",
       "      <td>Аксессуары - PSP</td>\n",
       "      <td>4</td>\n",
       "      <td>1</td>\n",
       "      <td>13</td>\n",
       "    </tr>\n",
       "  </tbody>\n",
       "</table>\n",
       "</div>"
      ],
      "text/plain": [
       "        item_category_name  item_category_id  main_category_id  \\\n",
       "0  PC - Гарнитуры/Наушники                 0                 0   \n",
       "1         Аксессуары - PS2                 1                 1   \n",
       "2         Аксессуары - PS3                 2                 1   \n",
       "3         Аксессуары - PS4                 3                 1   \n",
       "4         Аксессуары - PSP                 4                 1   \n",
       "\n",
       "   sub_category_id  \n",
       "0               29  \n",
       "1                9  \n",
       "2               10  \n",
       "3               11  \n",
       "4               13  "
      ]
     },
     "execution_count": 28,
     "metadata": {},
     "output_type": "execute_result"
    }
   ],
   "source": [
    "categories.head()"
   ]
  },
  {
   "cell_type": "markdown",
   "metadata": {},
   "source": [
    "The cartesian product of the shop-item pairs per month is generated and the dataframe for the model training begins to be created"
   ]
  },
  {
   "cell_type": "code",
   "execution_count": 29,
   "metadata": {},
   "outputs": [
    {
     "name": "stdout",
     "output_type": "stream",
     "text": [
      "365175\n",
      "375728\n"
     ]
    }
   ],
   "source": [
    "train['date'] =  pd.to_datetime(train['date'], format='%d.%m.%Y')\n",
    "from itertools import product\n",
    "shops_in_jan = train.loc[train['date_block_num']==0, 'shop_id'].unique()\n",
    "items_in_jan = train.loc[train['date_block_num']==0, 'item_id'].unique()\n",
    "jan = list(product(*[shops_in_jan, items_in_jan, [0]]))\n",
    "shops_in_feb = train.loc[train['date_block_num']==1, 'shop_id'].unique()\n",
    "items_in_feb = train.loc[train['date_block_num']==1, 'item_id'].unique()\n",
    "feb = list(product(*[shops_in_feb, items_in_feb, [1]]))\n",
    "print(len(jan))\n",
    "print(len(feb))"
   ]
  },
  {
   "cell_type": "code",
   "execution_count": 30,
   "metadata": {},
   "outputs": [
    {
     "data": {
      "text/html": [
       "<div>\n",
       "<style scoped>\n",
       "    .dataframe tbody tr th:only-of-type {\n",
       "        vertical-align: middle;\n",
       "    }\n",
       "\n",
       "    .dataframe tbody tr th {\n",
       "        vertical-align: top;\n",
       "    }\n",
       "\n",
       "    .dataframe thead th {\n",
       "        text-align: right;\n",
       "    }\n",
       "</style>\n",
       "<table border=\"1\" class=\"dataframe\">\n",
       "  <thead>\n",
       "    <tr style=\"text-align: right;\">\n",
       "      <th></th>\n",
       "      <th>shop_id</th>\n",
       "      <th>item_id</th>\n",
       "      <th>date_block_num</th>\n",
       "    </tr>\n",
       "  </thead>\n",
       "  <tbody>\n",
       "    <tr>\n",
       "      <th>0</th>\n",
       "      <td>59</td>\n",
       "      <td>22154</td>\n",
       "      <td>0</td>\n",
       "    </tr>\n",
       "    <tr>\n",
       "      <th>1</th>\n",
       "      <td>59</td>\n",
       "      <td>2552</td>\n",
       "      <td>0</td>\n",
       "    </tr>\n",
       "    <tr>\n",
       "      <th>2</th>\n",
       "      <td>59</td>\n",
       "      <td>2554</td>\n",
       "      <td>0</td>\n",
       "    </tr>\n",
       "    <tr>\n",
       "      <th>3</th>\n",
       "      <td>59</td>\n",
       "      <td>2555</td>\n",
       "      <td>0</td>\n",
       "    </tr>\n",
       "    <tr>\n",
       "      <th>4</th>\n",
       "      <td>59</td>\n",
       "      <td>2564</td>\n",
       "      <td>0</td>\n",
       "    </tr>\n",
       "  </tbody>\n",
       "</table>\n",
       "</div>"
      ],
      "text/plain": [
       "   shop_id  item_id  date_block_num\n",
       "0       59    22154               0\n",
       "1       59     2552               0\n",
       "2       59     2554               0\n",
       "3       59     2555               0\n",
       "4       59     2564               0"
      ]
     },
     "execution_count": 30,
     "metadata": {},
     "output_type": "execute_result"
    }
   ],
   "source": [
    "cartesian_test = []\n",
    "cartesian_test.append(np.array(jan))\n",
    "cartesian_test.append(np.array(feb))\n",
    "cartesian_test = np.vstack(cartesian_test)\n",
    "cartesian_test_df = pd.DataFrame(cartesian_test, columns = ['shop_id', 'item_id', 'date_block_num'])\n",
    "cartesian_test_df.head()"
   ]
  },
  {
   "cell_type": "code",
   "execution_count": 31,
   "metadata": {},
   "outputs": [],
   "source": [
    "\n",
    "def downcast_dtypes(df):\n",
    "    '''\n",
    "        Changes column types in the dataframe: \n",
    "                \n",
    "                `float64` type to `float32`\n",
    "                `int64`   type to `int32`\n",
    "    '''\n",
    "    \n",
    "    # Select columns to downcast\n",
    "    float_cols = [c for c in df if df[c].dtype == \"float64\"]\n",
    "    int_cols =   [c for c in df if df[c].dtype == \"int64\"]\n",
    "    \n",
    "    # Downcast\n",
    "    df[float_cols] = df[float_cols].astype(np.float16)\n",
    "    df[int_cols]   = df[int_cols].astype(np.int16)\n",
    "    \n",
    "    return df"
   ]
  },
  {
   "cell_type": "code",
   "execution_count": 32,
   "metadata": {},
   "outputs": [
    {
     "data": {
      "text/plain": [
       "(10913804, 3)"
      ]
     },
     "execution_count": 32,
     "metadata": {},
     "output_type": "execute_result"
    }
   ],
   "source": [
    "months = train['date_block_num'].unique()\n",
    "cartesian = []\n",
    "for month in months:\n",
    "    shops_in_month = train.loc[train['date_block_num']==month, 'shop_id'].unique()\n",
    "    items_in_month = train.loc[train['date_block_num']==month, 'item_id'].unique()\n",
    "    cartesian.append(np.array(list(product(*[shops_in_month, items_in_month, [month]])), dtype='int32'))\n",
    "\n",
    "cartesian_df = pd.DataFrame(np.vstack(cartesian), columns = ['shop_id', 'item_id', 'date_block_num'], dtype=np.int32)\n",
    "cartesian_df.shape"
   ]
  },
  {
   "cell_type": "markdown",
   "metadata": {},
   "source": [
    "The data is grouped to obtain the item value count per month"
   ]
  },
  {
   "cell_type": "code",
   "execution_count": 33,
   "metadata": {},
   "outputs": [
    {
     "name": "stdout",
     "output_type": "stream",
     "text": [
      "(1609123, 4)\n"
     ]
    },
    {
     "data": {
      "text/html": [
       "<div>\n",
       "<style scoped>\n",
       "    .dataframe tbody tr th:only-of-type {\n",
       "        vertical-align: middle;\n",
       "    }\n",
       "\n",
       "    .dataframe tbody tr th {\n",
       "        vertical-align: top;\n",
       "    }\n",
       "\n",
       "    .dataframe thead th {\n",
       "        text-align: right;\n",
       "    }\n",
       "</style>\n",
       "<table border=\"1\" class=\"dataframe\">\n",
       "  <thead>\n",
       "    <tr style=\"text-align: right;\">\n",
       "      <th></th>\n",
       "      <th>shop_id</th>\n",
       "      <th>item_id</th>\n",
       "      <th>date_block_num</th>\n",
       "      <th>item_cnt_month</th>\n",
       "    </tr>\n",
       "  </thead>\n",
       "  <tbody>\n",
       "    <tr>\n",
       "      <th>0</th>\n",
       "      <td>2</td>\n",
       "      <td>27</td>\n",
       "      <td>0</td>\n",
       "      <td>1.0</td>\n",
       "    </tr>\n",
       "    <tr>\n",
       "      <th>1</th>\n",
       "      <td>2</td>\n",
       "      <td>27</td>\n",
       "      <td>17</td>\n",
       "      <td>1.0</td>\n",
       "    </tr>\n",
       "    <tr>\n",
       "      <th>2</th>\n",
       "      <td>2</td>\n",
       "      <td>30</td>\n",
       "      <td>2</td>\n",
       "      <td>1.0</td>\n",
       "    </tr>\n",
       "    <tr>\n",
       "      <th>3</th>\n",
       "      <td>2</td>\n",
       "      <td>30</td>\n",
       "      <td>5</td>\n",
       "      <td>1.0</td>\n",
       "    </tr>\n",
       "    <tr>\n",
       "      <th>4</th>\n",
       "      <td>2</td>\n",
       "      <td>30</td>\n",
       "      <td>15</td>\n",
       "      <td>1.0</td>\n",
       "    </tr>\n",
       "  </tbody>\n",
       "</table>\n",
       "</div>"
      ],
      "text/plain": [
       "   shop_id  item_id  date_block_num  item_cnt_month\n",
       "0        2       27               0             1.0\n",
       "1        2       27              17             1.0\n",
       "2        2       30               2             1.0\n",
       "3        2       30               5             1.0\n",
       "4        2       30              15             1.0"
      ]
     },
     "execution_count": 33,
     "metadata": {},
     "output_type": "execute_result"
    }
   ],
   "source": [
    "x = train.groupby(['shop_id', 'item_id', 'date_block_num'])['item_cnt_day'].sum().rename('item_cnt_month').reset_index()\n",
    "print(x.shape)\n",
    "x.head()"
   ]
  },
  {
   "cell_type": "code",
   "execution_count": 34,
   "metadata": {},
   "outputs": [
    {
     "data": {
      "text/html": [
       "<div>\n",
       "<style scoped>\n",
       "    .dataframe tbody tr th:only-of-type {\n",
       "        vertical-align: middle;\n",
       "    }\n",
       "\n",
       "    .dataframe tbody tr th {\n",
       "        vertical-align: top;\n",
       "    }\n",
       "\n",
       "    .dataframe thead th {\n",
       "        text-align: right;\n",
       "    }\n",
       "</style>\n",
       "<table border=\"1\" class=\"dataframe\">\n",
       "  <thead>\n",
       "    <tr style=\"text-align: right;\">\n",
       "      <th></th>\n",
       "      <th>shop_id</th>\n",
       "      <th>item_id</th>\n",
       "      <th>date_block_num</th>\n",
       "      <th>item_cnt_month</th>\n",
       "    </tr>\n",
       "  </thead>\n",
       "  <tbody>\n",
       "    <tr>\n",
       "      <th>114910</th>\n",
       "      <td>2</td>\n",
       "      <td>19</td>\n",
       "      <td>0</td>\n",
       "      <td>0.0</td>\n",
       "    </tr>\n",
       "    <tr>\n",
       "      <th>117150</th>\n",
       "      <td>2</td>\n",
       "      <td>27</td>\n",
       "      <td>0</td>\n",
       "      <td>1.0</td>\n",
       "    </tr>\n",
       "    <tr>\n",
       "      <th>120623</th>\n",
       "      <td>2</td>\n",
       "      <td>28</td>\n",
       "      <td>0</td>\n",
       "      <td>0.0</td>\n",
       "    </tr>\n",
       "    <tr>\n",
       "      <th>118316</th>\n",
       "      <td>2</td>\n",
       "      <td>29</td>\n",
       "      <td>0</td>\n",
       "      <td>0.0</td>\n",
       "    </tr>\n",
       "    <tr>\n",
       "      <th>114602</th>\n",
       "      <td>2</td>\n",
       "      <td>32</td>\n",
       "      <td>0</td>\n",
       "      <td>0.0</td>\n",
       "    </tr>\n",
       "  </tbody>\n",
       "</table>\n",
       "</div>"
      ],
      "text/plain": [
       "        shop_id  item_id  date_block_num  item_cnt_month\n",
       "114910        2       19               0             0.0\n",
       "117150        2       27               0             1.0\n",
       "120623        2       28               0             0.0\n",
       "118316        2       29               0             0.0\n",
       "114602        2       32               0             0.0"
      ]
     },
     "execution_count": 34,
     "metadata": {},
     "output_type": "execute_result"
    }
   ],
   "source": [
    "new_train = pd.merge(cartesian_df, x, on=['shop_id', 'item_id', 'date_block_num'], how='left').fillna(0)\n",
    "new_train['item_cnt_month'] = np.clip(new_train['item_cnt_month'], 0, 20)\n",
    "new_train.sort_values(['date_block_num','shop_id','item_id'], inplace = True)\n",
    "new_train.head()"
   ]
  },
  {
   "cell_type": "markdown",
   "metadata": {},
   "source": [
    "The month column is added to the test dataset"
   ]
  },
  {
   "cell_type": "code",
   "execution_count": 35,
   "metadata": {},
   "outputs": [
    {
     "data": {
      "text/html": [
       "<div>\n",
       "<style scoped>\n",
       "    .dataframe tbody tr th:only-of-type {\n",
       "        vertical-align: middle;\n",
       "    }\n",
       "\n",
       "    .dataframe tbody tr th {\n",
       "        vertical-align: top;\n",
       "    }\n",
       "\n",
       "    .dataframe thead th {\n",
       "        text-align: right;\n",
       "    }\n",
       "</style>\n",
       "<table border=\"1\" class=\"dataframe\">\n",
       "  <thead>\n",
       "    <tr style=\"text-align: right;\">\n",
       "      <th></th>\n",
       "      <th>ID</th>\n",
       "      <th>shop_id</th>\n",
       "      <th>item_id</th>\n",
       "      <th>date_block_num</th>\n",
       "      <th>item_cnt_month</th>\n",
       "    </tr>\n",
       "  </thead>\n",
       "  <tbody>\n",
       "    <tr>\n",
       "      <th>0</th>\n",
       "      <td>0</td>\n",
       "      <td>5</td>\n",
       "      <td>5037</td>\n",
       "      <td>34</td>\n",
       "      <td>0</td>\n",
       "    </tr>\n",
       "    <tr>\n",
       "      <th>1</th>\n",
       "      <td>1</td>\n",
       "      <td>5</td>\n",
       "      <td>5320</td>\n",
       "      <td>34</td>\n",
       "      <td>0</td>\n",
       "    </tr>\n",
       "    <tr>\n",
       "      <th>2</th>\n",
       "      <td>2</td>\n",
       "      <td>5</td>\n",
       "      <td>5233</td>\n",
       "      <td>34</td>\n",
       "      <td>0</td>\n",
       "    </tr>\n",
       "    <tr>\n",
       "      <th>3</th>\n",
       "      <td>3</td>\n",
       "      <td>5</td>\n",
       "      <td>5232</td>\n",
       "      <td>34</td>\n",
       "      <td>0</td>\n",
       "    </tr>\n",
       "    <tr>\n",
       "      <th>4</th>\n",
       "      <td>4</td>\n",
       "      <td>5</td>\n",
       "      <td>5268</td>\n",
       "      <td>34</td>\n",
       "      <td>0</td>\n",
       "    </tr>\n",
       "  </tbody>\n",
       "</table>\n",
       "</div>"
      ],
      "text/plain": [
       "   ID  shop_id  item_id  date_block_num  item_cnt_month\n",
       "0   0        5     5037              34               0\n",
       "1   1        5     5320              34               0\n",
       "2   2        5     5233              34               0\n",
       "3   3        5     5232              34               0\n",
       "4   4        5     5268              34               0"
      ]
     },
     "execution_count": 35,
     "metadata": {},
     "output_type": "execute_result"
    }
   ],
   "source": [
    "test.insert(loc=3, column='date_block_num', value=34)\n",
    "test['item_cnt_month'] = 0\n",
    "test.head()"
   ]
  },
  {
   "cell_type": "markdown",
   "metadata": {},
   "source": [
    "the test dataset is append to the main dataset"
   ]
  },
  {
   "cell_type": "code",
   "execution_count": 36,
   "metadata": {},
   "outputs": [
    {
     "data": {
      "text/html": [
       "<div>\n",
       "<style scoped>\n",
       "    .dataframe tbody tr th:only-of-type {\n",
       "        vertical-align: middle;\n",
       "    }\n",
       "\n",
       "    .dataframe tbody tr th {\n",
       "        vertical-align: top;\n",
       "    }\n",
       "\n",
       "    .dataframe thead th {\n",
       "        text-align: right;\n",
       "    }\n",
       "</style>\n",
       "<table border=\"1\" class=\"dataframe\">\n",
       "  <thead>\n",
       "    <tr style=\"text-align: right;\">\n",
       "      <th></th>\n",
       "      <th>shop_id</th>\n",
       "      <th>item_id</th>\n",
       "      <th>date_block_num</th>\n",
       "      <th>item_cnt_month</th>\n",
       "      <th>city_label</th>\n",
       "    </tr>\n",
       "  </thead>\n",
       "  <tbody>\n",
       "    <tr>\n",
       "      <th>0</th>\n",
       "      <td>2</td>\n",
       "      <td>19</td>\n",
       "      <td>0</td>\n",
       "      <td>0.0</td>\n",
       "      <td>0</td>\n",
       "    </tr>\n",
       "    <tr>\n",
       "      <th>1</th>\n",
       "      <td>2</td>\n",
       "      <td>27</td>\n",
       "      <td>0</td>\n",
       "      <td>1.0</td>\n",
       "      <td>0</td>\n",
       "    </tr>\n",
       "    <tr>\n",
       "      <th>2</th>\n",
       "      <td>2</td>\n",
       "      <td>28</td>\n",
       "      <td>0</td>\n",
       "      <td>0.0</td>\n",
       "      <td>0</td>\n",
       "    </tr>\n",
       "    <tr>\n",
       "      <th>3</th>\n",
       "      <td>2</td>\n",
       "      <td>29</td>\n",
       "      <td>0</td>\n",
       "      <td>0.0</td>\n",
       "      <td>0</td>\n",
       "    </tr>\n",
       "    <tr>\n",
       "      <th>4</th>\n",
       "      <td>2</td>\n",
       "      <td>32</td>\n",
       "      <td>0</td>\n",
       "      <td>0.0</td>\n",
       "      <td>0</td>\n",
       "    </tr>\n",
       "  </tbody>\n",
       "</table>\n",
       "</div>"
      ],
      "text/plain": [
       "   shop_id  item_id  date_block_num  item_cnt_month  city_label\n",
       "0        2       19               0             0.0           0\n",
       "1        2       27               0             1.0           0\n",
       "2        2       28               0             0.0           0\n",
       "3        2       29               0             0.0           0\n",
       "4        2       32               0             0.0           0"
      ]
     },
     "execution_count": 36,
     "metadata": {},
     "output_type": "execute_result"
    }
   ],
   "source": [
    "new_train = new_train.append(test.drop('ID', axis = 1))\n",
    "new_train = pd.merge(new_train, shops, on=['shop_id'], how='left')\n",
    "new_train.head()"
   ]
  },
  {
   "cell_type": "markdown",
   "metadata": {},
   "source": [
    "the data of the items and the categories are added"
   ]
  },
  {
   "cell_type": "code",
   "execution_count": 37,
   "metadata": {},
   "outputs": [
    {
     "data": {
      "text/html": [
       "<div>\n",
       "<style scoped>\n",
       "    .dataframe tbody tr th:only-of-type {\n",
       "        vertical-align: middle;\n",
       "    }\n",
       "\n",
       "    .dataframe tbody tr th {\n",
       "        vertical-align: top;\n",
       "    }\n",
       "\n",
       "    .dataframe thead th {\n",
       "        text-align: right;\n",
       "    }\n",
       "</style>\n",
       "<table border=\"1\" class=\"dataframe\">\n",
       "  <thead>\n",
       "    <tr style=\"text-align: right;\">\n",
       "      <th></th>\n",
       "      <th>shop_id</th>\n",
       "      <th>item_id</th>\n",
       "      <th>date_block_num</th>\n",
       "      <th>item_cnt_month</th>\n",
       "      <th>city_label</th>\n",
       "      <th>item_category_id</th>\n",
       "    </tr>\n",
       "  </thead>\n",
       "  <tbody>\n",
       "    <tr>\n",
       "      <th>0</th>\n",
       "      <td>2</td>\n",
       "      <td>19</td>\n",
       "      <td>0</td>\n",
       "      <td>0.0</td>\n",
       "      <td>0</td>\n",
       "      <td>40</td>\n",
       "    </tr>\n",
       "    <tr>\n",
       "      <th>1</th>\n",
       "      <td>2</td>\n",
       "      <td>27</td>\n",
       "      <td>0</td>\n",
       "      <td>1.0</td>\n",
       "      <td>0</td>\n",
       "      <td>19</td>\n",
       "    </tr>\n",
       "    <tr>\n",
       "      <th>2</th>\n",
       "      <td>2</td>\n",
       "      <td>28</td>\n",
       "      <td>0</td>\n",
       "      <td>0.0</td>\n",
       "      <td>0</td>\n",
       "      <td>30</td>\n",
       "    </tr>\n",
       "    <tr>\n",
       "      <th>3</th>\n",
       "      <td>2</td>\n",
       "      <td>29</td>\n",
       "      <td>0</td>\n",
       "      <td>0.0</td>\n",
       "      <td>0</td>\n",
       "      <td>23</td>\n",
       "    </tr>\n",
       "    <tr>\n",
       "      <th>4</th>\n",
       "      <td>2</td>\n",
       "      <td>32</td>\n",
       "      <td>0</td>\n",
       "      <td>0.0</td>\n",
       "      <td>0</td>\n",
       "      <td>40</td>\n",
       "    </tr>\n",
       "  </tbody>\n",
       "</table>\n",
       "</div>"
      ],
      "text/plain": [
       "   shop_id  item_id  date_block_num  item_cnt_month  city_label  \\\n",
       "0        2       19               0             0.0           0   \n",
       "1        2       27               0             1.0           0   \n",
       "2        2       28               0             0.0           0   \n",
       "3        2       29               0             0.0           0   \n",
       "4        2       32               0             0.0           0   \n",
       "\n",
       "   item_category_id  \n",
       "0                40  \n",
       "1                19  \n",
       "2                30  \n",
       "3                23  \n",
       "4                40  "
      ]
     },
     "execution_count": 37,
     "metadata": {},
     "output_type": "execute_result"
    }
   ],
   "source": [
    "new_train = pd.merge(new_train, items.drop('item_name', axis = 1), on=['item_id'], how='left')\n",
    "new_train.head()"
   ]
  },
  {
   "cell_type": "code",
   "execution_count": 38,
   "metadata": {},
   "outputs": [
    {
     "data": {
      "text/html": [
       "<div>\n",
       "<style scoped>\n",
       "    .dataframe tbody tr th:only-of-type {\n",
       "        vertical-align: middle;\n",
       "    }\n",
       "\n",
       "    .dataframe tbody tr th {\n",
       "        vertical-align: top;\n",
       "    }\n",
       "\n",
       "    .dataframe thead th {\n",
       "        text-align: right;\n",
       "    }\n",
       "</style>\n",
       "<table border=\"1\" class=\"dataframe\">\n",
       "  <thead>\n",
       "    <tr style=\"text-align: right;\">\n",
       "      <th></th>\n",
       "      <th>shop_id</th>\n",
       "      <th>item_id</th>\n",
       "      <th>date_block_num</th>\n",
       "      <th>item_cnt_month</th>\n",
       "      <th>city_label</th>\n",
       "      <th>item_category_id</th>\n",
       "      <th>main_category_id</th>\n",
       "      <th>sub_category_id</th>\n",
       "    </tr>\n",
       "  </thead>\n",
       "  <tbody>\n",
       "    <tr>\n",
       "      <th>0</th>\n",
       "      <td>2</td>\n",
       "      <td>19</td>\n",
       "      <td>0</td>\n",
       "      <td>0.0</td>\n",
       "      <td>0</td>\n",
       "      <td>40</td>\n",
       "      <td>11</td>\n",
       "      <td>4</td>\n",
       "    </tr>\n",
       "    <tr>\n",
       "      <th>1</th>\n",
       "      <td>2</td>\n",
       "      <td>27</td>\n",
       "      <td>0</td>\n",
       "      <td>1.0</td>\n",
       "      <td>0</td>\n",
       "      <td>19</td>\n",
       "      <td>5</td>\n",
       "      <td>10</td>\n",
       "    </tr>\n",
       "    <tr>\n",
       "      <th>2</th>\n",
       "      <td>2</td>\n",
       "      <td>28</td>\n",
       "      <td>0</td>\n",
       "      <td>0.0</td>\n",
       "      <td>0</td>\n",
       "      <td>30</td>\n",
       "      <td>8</td>\n",
       "      <td>55</td>\n",
       "    </tr>\n",
       "    <tr>\n",
       "      <th>3</th>\n",
       "      <td>2</td>\n",
       "      <td>29</td>\n",
       "      <td>0</td>\n",
       "      <td>0.0</td>\n",
       "      <td>0</td>\n",
       "      <td>23</td>\n",
       "      <td>5</td>\n",
       "      <td>16</td>\n",
       "    </tr>\n",
       "    <tr>\n",
       "      <th>4</th>\n",
       "      <td>2</td>\n",
       "      <td>32</td>\n",
       "      <td>0</td>\n",
       "      <td>0.0</td>\n",
       "      <td>0</td>\n",
       "      <td>40</td>\n",
       "      <td>11</td>\n",
       "      <td>4</td>\n",
       "    </tr>\n",
       "  </tbody>\n",
       "</table>\n",
       "</div>"
      ],
      "text/plain": [
       "   shop_id  item_id  date_block_num  item_cnt_month  city_label  \\\n",
       "0        2       19               0             0.0           0   \n",
       "1        2       27               0             1.0           0   \n",
       "2        2       28               0             0.0           0   \n",
       "3        2       29               0             0.0           0   \n",
       "4        2       32               0             0.0           0   \n",
       "\n",
       "   item_category_id  main_category_id  sub_category_id  \n",
       "0                40                11                4  \n",
       "1                19                 5               10  \n",
       "2                30                 8               55  \n",
       "3                23                 5               16  \n",
       "4                40                11                4  "
      ]
     },
     "execution_count": 38,
     "metadata": {},
     "output_type": "execute_result"
    }
   ],
   "source": [
    "new_train = pd.merge(new_train, categories.drop('item_category_name', axis = 1), on=['item_category_id'], how='left')\n",
    "new_train.head()"
   ]
  },
  {
   "cell_type": "markdown",
   "metadata": {},
   "source": [
    "Generating Lag Features and Mean-Encodings"
   ]
  },
  {
   "cell_type": "code",
   "execution_count": 39,
   "metadata": {},
   "outputs": [],
   "source": [
    "def generate_lag(train, months, lag_column):\n",
    "    for month in months:\n",
    "        train_shift = train[['date_block_num', 'shop_id', 'item_id', lag_column]].copy()\n",
    "        train_shift.columns = ['date_block_num', 'shop_id', 'item_id', lag_column+'_lag_'+ str(month)]\n",
    "        train_shift['date_block_num'] += month\n",
    "        train = pd.merge(train, train_shift, on=['date_block_num', 'shop_id', 'item_id'], how='left')\n",
    "    return train"
   ]
  },
  {
   "cell_type": "code",
   "execution_count": 40,
   "metadata": {},
   "outputs": [],
   "source": [
    "new_train = downcast_dtypes(new_train)"
   ]
  },
  {
   "cell_type": "code",
   "execution_count": 41,
   "metadata": {},
   "outputs": [
    {
     "name": "stdout",
     "output_type": "stream",
     "text": [
      "Wall time: 53.1 s\n"
     ]
    }
   ],
   "source": [
    "%%time\n",
    "new_train = generate_lag(new_train, [1,2,3,4,5,6,12], 'item_cnt_month')"
   ]
  },
  {
   "cell_type": "code",
   "execution_count": 42,
   "metadata": {},
   "outputs": [
    {
     "name": "stdout",
     "output_type": "stream",
     "text": [
      "Wall time: 50.2 s\n"
     ]
    }
   ],
   "source": [
    "%%time\n",
    "group = new_train.groupby(['date_block_num', 'item_id'])['item_cnt_month'].mean().rename('item_month_mean').reset_index()\n",
    "new_train = pd.merge(new_train, group, on=['date_block_num', 'item_id'], how='left')\n",
    "new_train = generate_lag(new_train, [1,2,3,6,12], 'item_month_mean')\n",
    "new_train.drop(['item_month_mean'], axis=1, inplace=True)"
   ]
  },
  {
   "cell_type": "code",
   "execution_count": 43,
   "metadata": {},
   "outputs": [
    {
     "name": "stdout",
     "output_type": "stream",
     "text": [
      "Wall time: 54.8 s\n"
     ]
    }
   ],
   "source": [
    "%%time\n",
    "group = new_train.groupby(['date_block_num', 'shop_id'])['item_cnt_month'].mean().rename('shop_month_mean').reset_index()\n",
    "new_train = pd.merge(new_train, group, on=['date_block_num', 'shop_id'], how='left')\n",
    "new_train = generate_lag(new_train, [1,2,3,6,12], 'shop_month_mean')\n",
    "new_train.drop(['shop_month_mean'], axis=1, inplace=True)"
   ]
  },
  {
   "cell_type": "code",
   "execution_count": 44,
   "metadata": {},
   "outputs": [
    {
     "name": "stdout",
     "output_type": "stream",
     "text": [
      "Wall time: 28 s\n"
     ]
    }
   ],
   "source": [
    "%%time\n",
    "group = new_train.groupby(['date_block_num', 'shop_id', 'item_category_id'])['item_cnt_month'].mean().rename('shop_category_month_mean').reset_index()\n",
    "new_train = pd.merge(new_train, group, on=['date_block_num', 'shop_id', 'item_category_id'], how='left')\n",
    "new_train = generate_lag(new_train, [1, 2], 'shop_category_month_mean')\n",
    "new_train.drop(['shop_category_month_mean'], axis=1, inplace=True)"
   ]
  },
  {
   "cell_type": "code",
   "execution_count": 45,
   "metadata": {},
   "outputs": [
    {
     "name": "stdout",
     "output_type": "stream",
     "text": [
      "Wall time: 17.9 s\n"
     ]
    }
   ],
   "source": [
    "%%time\n",
    "group = new_train.groupby(['date_block_num', 'main_category_id'])['item_cnt_month'].mean().rename('main_category_month_mean').reset_index()\n",
    "new_train = pd.merge(new_train, group, on=['date_block_num', 'main_category_id'], how='left')\n",
    "\n",
    "new_train = generate_lag(new_train, [1], 'main_category_month_mean')\n",
    "new_train.drop(['main_category_month_mean'], axis=1, inplace=True)"
   ]
  },
  {
   "cell_type": "code",
   "execution_count": 46,
   "metadata": {},
   "outputs": [
    {
     "name": "stdout",
     "output_type": "stream",
     "text": [
      "Wall time: 18.4 s\n"
     ]
    }
   ],
   "source": [
    "%%time\n",
    "group = new_train.groupby(['date_block_num', 'sub_category_id'])['item_cnt_month'].mean().rename('sub_category_month_mean').reset_index()\n",
    "new_train = pd.merge(new_train, group, on=['date_block_num', 'sub_category_id'], how='left')\n",
    "\n",
    "new_train = generate_lag(new_train, [1], 'sub_category_month_mean')\n",
    "new_train.drop(['sub_category_month_mean'], axis=1, inplace=True)"
   ]
  },
  {
   "cell_type": "code",
   "execution_count": 47,
   "metadata": {},
   "outputs": [
    {
     "data": {
      "text/html": [
       "<div>\n",
       "<style scoped>\n",
       "    .dataframe tbody tr th:only-of-type {\n",
       "        vertical-align: middle;\n",
       "    }\n",
       "\n",
       "    .dataframe tbody tr th {\n",
       "        vertical-align: top;\n",
       "    }\n",
       "\n",
       "    .dataframe thead th {\n",
       "        text-align: right;\n",
       "    }\n",
       "</style>\n",
       "<table border=\"1\" class=\"dataframe\">\n",
       "  <thead>\n",
       "    <tr style=\"text-align: right;\">\n",
       "      <th></th>\n",
       "      <th>shop_id</th>\n",
       "      <th>item_id</th>\n",
       "      <th>date_block_num</th>\n",
       "      <th>item_cnt_month</th>\n",
       "      <th>city_label</th>\n",
       "      <th>item_category_id</th>\n",
       "      <th>main_category_id</th>\n",
       "      <th>sub_category_id</th>\n",
       "      <th>item_cnt_month_lag_1</th>\n",
       "      <th>item_cnt_month_lag_2</th>\n",
       "      <th>...</th>\n",
       "      <th>item_month_mean_lag_12</th>\n",
       "      <th>shop_month_mean_lag_1</th>\n",
       "      <th>shop_month_mean_lag_2</th>\n",
       "      <th>shop_month_mean_lag_3</th>\n",
       "      <th>shop_month_mean_lag_6</th>\n",
       "      <th>shop_month_mean_lag_12</th>\n",
       "      <th>shop_category_month_mean_lag_1</th>\n",
       "      <th>shop_category_month_mean_lag_2</th>\n",
       "      <th>main_category_month_mean_lag_1</th>\n",
       "      <th>sub_category_month_mean_lag_1</th>\n",
       "    </tr>\n",
       "  </thead>\n",
       "  <tbody>\n",
       "    <tr>\n",
       "      <th>11127999</th>\n",
       "      <td>45</td>\n",
       "      <td>18454</td>\n",
       "      <td>34</td>\n",
       "      <td>0.0</td>\n",
       "      <td>20</td>\n",
       "      <td>55</td>\n",
       "      <td>13</td>\n",
       "      <td>2</td>\n",
       "      <td>1.0</td>\n",
       "      <td>0.0</td>\n",
       "      <td>...</td>\n",
       "      <td>NaN</td>\n",
       "      <td>0.126709</td>\n",
       "      <td>0.128784</td>\n",
       "      <td>0.139038</td>\n",
       "      <td>0.137573</td>\n",
       "      <td>NaN</td>\n",
       "      <td>0.126831</td>\n",
       "      <td>0.074524</td>\n",
       "      <td>0.146973</td>\n",
       "      <td>0.196899</td>\n",
       "    </tr>\n",
       "    <tr>\n",
       "      <th>11128000</th>\n",
       "      <td>45</td>\n",
       "      <td>16188</td>\n",
       "      <td>34</td>\n",
       "      <td>0.0</td>\n",
       "      <td>20</td>\n",
       "      <td>64</td>\n",
       "      <td>14</td>\n",
       "      <td>42</td>\n",
       "      <td>0.0</td>\n",
       "      <td>0.0</td>\n",
       "      <td>...</td>\n",
       "      <td>NaN</td>\n",
       "      <td>0.126709</td>\n",
       "      <td>0.128784</td>\n",
       "      <td>NaN</td>\n",
       "      <td>NaN</td>\n",
       "      <td>NaN</td>\n",
       "      <td>0.094482</td>\n",
       "      <td>0.117126</td>\n",
       "      <td>0.237305</td>\n",
       "      <td>0.155884</td>\n",
       "    </tr>\n",
       "    <tr>\n",
       "      <th>11128001</th>\n",
       "      <td>45</td>\n",
       "      <td>15757</td>\n",
       "      <td>34</td>\n",
       "      <td>0.0</td>\n",
       "      <td>20</td>\n",
       "      <td>55</td>\n",
       "      <td>13</td>\n",
       "      <td>2</td>\n",
       "      <td>0.0</td>\n",
       "      <td>0.0</td>\n",
       "      <td>...</td>\n",
       "      <td>0.180054</td>\n",
       "      <td>0.126709</td>\n",
       "      <td>0.128784</td>\n",
       "      <td>0.139038</td>\n",
       "      <td>0.137573</td>\n",
       "      <td>0.181274</td>\n",
       "      <td>0.126831</td>\n",
       "      <td>0.074524</td>\n",
       "      <td>0.146973</td>\n",
       "      <td>0.196899</td>\n",
       "    </tr>\n",
       "    <tr>\n",
       "      <th>11128002</th>\n",
       "      <td>45</td>\n",
       "      <td>19648</td>\n",
       "      <td>34</td>\n",
       "      <td>0.0</td>\n",
       "      <td>20</td>\n",
       "      <td>40</td>\n",
       "      <td>11</td>\n",
       "      <td>4</td>\n",
       "      <td>0.0</td>\n",
       "      <td>0.0</td>\n",
       "      <td>...</td>\n",
       "      <td>NaN</td>\n",
       "      <td>0.126709</td>\n",
       "      <td>0.128784</td>\n",
       "      <td>0.139038</td>\n",
       "      <td>0.137573</td>\n",
       "      <td>NaN</td>\n",
       "      <td>0.083740</td>\n",
       "      <td>0.074097</td>\n",
       "      <td>0.224243</td>\n",
       "      <td>0.220825</td>\n",
       "    </tr>\n",
       "    <tr>\n",
       "      <th>11128003</th>\n",
       "      <td>45</td>\n",
       "      <td>969</td>\n",
       "      <td>34</td>\n",
       "      <td>0.0</td>\n",
       "      <td>20</td>\n",
       "      <td>37</td>\n",
       "      <td>11</td>\n",
       "      <td>1</td>\n",
       "      <td>0.0</td>\n",
       "      <td>0.0</td>\n",
       "      <td>...</td>\n",
       "      <td>0.119995</td>\n",
       "      <td>0.126709</td>\n",
       "      <td>0.128784</td>\n",
       "      <td>0.139038</td>\n",
       "      <td>0.137573</td>\n",
       "      <td>0.181274</td>\n",
       "      <td>0.128174</td>\n",
       "      <td>0.067444</td>\n",
       "      <td>0.224243</td>\n",
       "      <td>0.240967</td>\n",
       "    </tr>\n",
       "  </tbody>\n",
       "</table>\n",
       "<p>5 rows × 29 columns</p>\n",
       "</div>"
      ],
      "text/plain": [
       "          shop_id  item_id  date_block_num  item_cnt_month  city_label  \\\n",
       "11127999       45    18454              34             0.0          20   \n",
       "11128000       45    16188              34             0.0          20   \n",
       "11128001       45    15757              34             0.0          20   \n",
       "11128002       45    19648              34             0.0          20   \n",
       "11128003       45      969              34             0.0          20   \n",
       "\n",
       "          item_category_id  main_category_id  sub_category_id  \\\n",
       "11127999                55                13                2   \n",
       "11128000                64                14               42   \n",
       "11128001                55                13                2   \n",
       "11128002                40                11                4   \n",
       "11128003                37                11                1   \n",
       "\n",
       "          item_cnt_month_lag_1  item_cnt_month_lag_2  \\\n",
       "11127999                   1.0                   0.0   \n",
       "11128000                   0.0                   0.0   \n",
       "11128001                   0.0                   0.0   \n",
       "11128002                   0.0                   0.0   \n",
       "11128003                   0.0                   0.0   \n",
       "\n",
       "                      ...                item_month_mean_lag_12  \\\n",
       "11127999              ...                                   NaN   \n",
       "11128000              ...                                   NaN   \n",
       "11128001              ...                              0.180054   \n",
       "11128002              ...                                   NaN   \n",
       "11128003              ...                              0.119995   \n",
       "\n",
       "          shop_month_mean_lag_1  shop_month_mean_lag_2  shop_month_mean_lag_3  \\\n",
       "11127999               0.126709               0.128784               0.139038   \n",
       "11128000               0.126709               0.128784                    NaN   \n",
       "11128001               0.126709               0.128784               0.139038   \n",
       "11128002               0.126709               0.128784               0.139038   \n",
       "11128003               0.126709               0.128784               0.139038   \n",
       "\n",
       "          shop_month_mean_lag_6  shop_month_mean_lag_12  \\\n",
       "11127999               0.137573                     NaN   \n",
       "11128000                    NaN                     NaN   \n",
       "11128001               0.137573                0.181274   \n",
       "11128002               0.137573                     NaN   \n",
       "11128003               0.137573                0.181274   \n",
       "\n",
       "          shop_category_month_mean_lag_1  shop_category_month_mean_lag_2  \\\n",
       "11127999                        0.126831                        0.074524   \n",
       "11128000                        0.094482                        0.117126   \n",
       "11128001                        0.126831                        0.074524   \n",
       "11128002                        0.083740                        0.074097   \n",
       "11128003                        0.128174                        0.067444   \n",
       "\n",
       "          main_category_month_mean_lag_1  sub_category_month_mean_lag_1  \n",
       "11127999                        0.146973                       0.196899  \n",
       "11128000                        0.237305                       0.155884  \n",
       "11128001                        0.146973                       0.196899  \n",
       "11128002                        0.224243                       0.220825  \n",
       "11128003                        0.224243                       0.240967  \n",
       "\n",
       "[5 rows x 29 columns]"
      ]
     },
     "execution_count": 47,
     "metadata": {},
     "output_type": "execute_result"
    }
   ],
   "source": [
    "new_train.tail()"
   ]
  },
  {
   "cell_type": "markdown",
   "metadata": {},
   "source": [
    "the month column is added"
   ]
  },
  {
   "cell_type": "code",
   "execution_count": 48,
   "metadata": {},
   "outputs": [],
   "source": [
    "new_train['month'] = new_train['date_block_num'] % 12"
   ]
  },
  {
   "cell_type": "markdown",
   "metadata": {},
   "source": [
    "holidays column is added"
   ]
  },
  {
   "cell_type": "code",
   "execution_count": 49,
   "metadata": {},
   "outputs": [],
   "source": [
    "holiday_dict = {    0: 6,    1: 3,    2: 2,    3: 8,    4: 3,    5: 3,    6: 2,    7: 8,    8: 4,    9: 8,    10: 5,    11: 4, }\n",
    "new_train['holidays_in_month'] = new_train['month'].map(holiday_dict)"
   ]
  },
  {
   "cell_type": "code",
   "execution_count": 50,
   "metadata": {},
   "outputs": [],
   "source": [
    "def fill_na(df):\n",
    "    for col in df.columns:\n",
    "        if ('_lag_' in col) & (df[col].isnull().any()):\n",
    "            df[col].fillna(0, inplace=True)         \n",
    "    return df\n",
    "\n",
    "new_train = fill_na(new_train)"
   ]
  },
  {
   "cell_type": "markdown",
   "metadata": {},
   "source": [
    "The dataset is divided into training, validation and test"
   ]
  },
  {
   "cell_type": "code",
   "execution_count": 51,
   "metadata": {},
   "outputs": [],
   "source": [
    "x_train = new_train[new_train.date_block_num < 33].drop(['item_cnt_month'], axis=1)\n",
    "y_train = new_train[new_train.date_block_num < 33]['item_cnt_month']\n",
    "\n",
    "x_valid = new_train[new_train.date_block_num == 33].drop(['item_cnt_month'], axis=1)\n",
    "y_valid = new_train[new_train.date_block_num == 33]['item_cnt_month']\n",
    "\n",
    "x_test = new_train[new_train.date_block_num == 34].drop(['item_cnt_month'], axis=1)"
   ]
  },
  {
   "cell_type": "markdown",
   "metadata": {},
   "source": [
    "## Training"
   ]
  },
  {
   "cell_type": "markdown",
   "metadata": {},
   "source": [
    "An attempt is made with a linear regression"
   ]
  },
  {
   "cell_type": "code",
   "execution_count": 52,
   "metadata": {},
   "outputs": [
    {
     "name": "stdout",
     "output_type": "stream",
     "text": [
      "Coefficients:  [ 6.42482520e-04 -2.33735786e-07 -3.10242172e-03  1.32320362e-04\n",
      "  2.84512745e-03 -3.27905194e-02  8.01091485e-04  3.08811464e-01\n",
      "  1.12834112e-01  6.04747979e-02  2.77416748e-02  3.38466779e-02\n",
      "  4.00712732e-02  3.26837969e-02  2.86627396e-01 -1.05778187e-01\n",
      " -1.13001113e-02 -1.35221574e-02 -9.31320718e-03  8.66355612e-02\n",
      " -2.09336248e-01 -1.49495367e-01 -7.14490241e-02  3.17612037e-02\n",
      "  3.82384554e-01  9.38891534e-03 -3.02424308e-01 -2.16119944e-01\n",
      "  7.05754893e-03 -3.16917277e-03]\n",
      "Residual sum of squares: 0.94\n"
     ]
    }
   ],
   "source": [
    "lr = LinearRegression()\n",
    "lr.fit(x_train.values, y_train)\n",
    "lr_validation = lr.predict(x_valid.values)\n",
    "print ('Coefficients: ', lr.coef_)\n",
    "print(\"Residual sum of squares: %.2f\"\n",
    "      % np.mean((lr_validation - y_valid) ** 2))"
   ]
  },
  {
   "cell_type": "code",
   "execution_count": 53,
   "metadata": {},
   "outputs": [
    {
     "name": "stdout",
     "output_type": "stream",
     "text": [
      "0.3255478443082138\n",
      "0.9370522600756394\n",
      "0.9680145970364493\n"
     ]
    }
   ],
   "source": [
    "print(metrics.mean_absolute_error(y_valid, lr_validation))\n",
    "print(metrics.mean_squared_error(y_valid, lr_validation))\n",
    "print(np.sqrt(metrics.mean_squared_error(y_valid, lr_validation)))"
   ]
  },
  {
   "cell_type": "code",
   "execution_count": 54,
   "metadata": {},
   "outputs": [],
   "source": [
    "pred_stacking = lr.predict(x_test.values)\n",
    "submission = pd.DataFrame({'ID': submission.ID, 'item_cnt_month': pred_stacking})\n",
    "submission.to_csv('submission_LR.csv', index=False)"
   ]
  },
  {
   "cell_type": "markdown",
   "metadata": {},
   "source": [
    "the result is not good enough and another option is sought, an XGB regressor is used"
   ]
  },
  {
   "cell_type": "code",
   "execution_count": 55,
   "metadata": {},
   "outputs": [
    {
     "data": {
      "text/plain": [
       "7"
      ]
     },
     "execution_count": 55,
     "metadata": {},
     "output_type": "execute_result"
    }
   ],
   "source": [
    "import gc\n",
    "gc.collect()"
   ]
  },
  {
   "cell_type": "code",
   "execution_count": 56,
   "metadata": {},
   "outputs": [],
   "source": [
    "def xgtrain():\n",
    "    regressor = xgb.XGBRegressor(n_estimators = 5000,\n",
    "                                 learning_rate = 0.01,\n",
    "                                 max_depth = 10,\n",
    "                                 subsample = 0.5,\n",
    "                                 colsample_bytree = 0.5)\n",
    "    \n",
    "    regressor_ = regressor.fit(new_train[new_train.date_block_num < 33].drop(['item_cnt_month'], axis=1).values, \n",
    "                               new_train[new_train.date_block_num < 33]['item_cnt_month'].values, \n",
    "                               eval_metric = 'rmse', \n",
    "                               eval_set = [(new_train[new_train.date_block_num < 33].drop(['item_cnt_month'], axis=1).values, \n",
    "                                            new_train[new_train.date_block_num < 33]['item_cnt_month'].values), \n",
    "                                           (new_train[new_train.date_block_num == 33].drop(['item_cnt_month'], axis=1).values, \n",
    "                                            new_train[new_train.date_block_num == 33]['item_cnt_month'].values)\n",
    "                                          ], \n",
    "                               verbose=True,\n",
    "                               early_stopping_rounds = 50,\n",
    "                              )\n",
    "    return regressor_"
   ]
  },
  {
   "cell_type": "code",
   "execution_count": 57,
   "metadata": {},
   "outputs": [
    {
     "name": "stdout",
     "output_type": "stream",
     "text": [
      "[15:00:12] WARNING: C:\\Users\\Administrator\\workspace\\xgboost-win64_release_1.1.0\\src\\gbm\\gbtree.cc:139: Tree method is automatically selected to be 'approx' for faster speed. To use old behavior (exact greedy algorithm on single machine), set tree_method to 'exact'.\n",
      "[0]\tvalidation_0-rmse:1.23645\tvalidation_1-rmse:1.15753\n",
      "Multiple eval metrics have been passed: 'validation_1-rmse' will be used for early stopping.\n",
      "\n",
      "Will train until validation_1-rmse hasn't improved in 50 rounds.\n",
      "[1]\tvalidation_0-rmse:1.23257\tvalidation_1-rmse:1.15390\n",
      "[2]\tvalidation_0-rmse:1.22897\tvalidation_1-rmse:1.15039\n",
      "[3]\tvalidation_0-rmse:1.22570\tvalidation_1-rmse:1.14734\n",
      "[4]\tvalidation_0-rmse:1.22168\tvalidation_1-rmse:1.14369\n",
      "[5]\tvalidation_0-rmse:1.21741\tvalidation_1-rmse:1.13968\n",
      "[6]\tvalidation_0-rmse:1.21340\tvalidation_1-rmse:1.13609\n",
      "[7]\tvalidation_0-rmse:1.20767\tvalidation_1-rmse:1.13247\n",
      "[8]\tvalidation_0-rmse:1.20341\tvalidation_1-rmse:1.12922\n",
      "[9]\tvalidation_0-rmse:1.20024\tvalidation_1-rmse:1.12620\n",
      "[10]\tvalidation_0-rmse:1.19643\tvalidation_1-rmse:1.12263\n",
      "[11]\tvalidation_0-rmse:1.19345\tvalidation_1-rmse:1.11998\n",
      "[12]\tvalidation_0-rmse:1.18946\tvalidation_1-rmse:1.11636\n",
      "[13]\tvalidation_0-rmse:1.18575\tvalidation_1-rmse:1.11320\n",
      "[14]\tvalidation_0-rmse:1.18193\tvalidation_1-rmse:1.11068\n",
      "[15]\tvalidation_0-rmse:1.17443\tvalidation_1-rmse:1.10719\n",
      "[16]\tvalidation_0-rmse:1.16869\tvalidation_1-rmse:1.10381\n",
      "[17]\tvalidation_0-rmse:1.16362\tvalidation_1-rmse:1.10087\n",
      "[18]\tvalidation_0-rmse:1.15948\tvalidation_1-rmse:1.09776\n",
      "[19]\tvalidation_0-rmse:1.15504\tvalidation_1-rmse:1.09450\n",
      "[20]\tvalidation_0-rmse:1.15188\tvalidation_1-rmse:1.09178\n",
      "[21]\tvalidation_0-rmse:1.14810\tvalidation_1-rmse:1.08888\n",
      "[22]\tvalidation_0-rmse:1.14410\tvalidation_1-rmse:1.08570\n",
      "[23]\tvalidation_0-rmse:1.14073\tvalidation_1-rmse:1.08307\n",
      "[24]\tvalidation_0-rmse:1.13779\tvalidation_1-rmse:1.08107\n",
      "[25]\tvalidation_0-rmse:1.13386\tvalidation_1-rmse:1.07845\n",
      "[26]\tvalidation_0-rmse:1.13000\tvalidation_1-rmse:1.07556\n",
      "[27]\tvalidation_0-rmse:1.12644\tvalidation_1-rmse:1.07287\n",
      "[28]\tvalidation_0-rmse:1.12295\tvalidation_1-rmse:1.07044\n",
      "[29]\tvalidation_0-rmse:1.11946\tvalidation_1-rmse:1.06769\n",
      "[30]\tvalidation_0-rmse:1.11629\tvalidation_1-rmse:1.06536\n",
      "[31]\tvalidation_0-rmse:1.11386\tvalidation_1-rmse:1.06322\n",
      "[32]\tvalidation_0-rmse:1.11061\tvalidation_1-rmse:1.06081\n",
      "[33]\tvalidation_0-rmse:1.10830\tvalidation_1-rmse:1.05879\n",
      "[34]\tvalidation_0-rmse:1.10537\tvalidation_1-rmse:1.05628\n",
      "[35]\tvalidation_0-rmse:1.10362\tvalidation_1-rmse:1.05462\n",
      "[36]\tvalidation_0-rmse:1.10088\tvalidation_1-rmse:1.05238\n",
      "[37]\tvalidation_0-rmse:1.09813\tvalidation_1-rmse:1.05014\n",
      "[38]\tvalidation_0-rmse:1.09538\tvalidation_1-rmse:1.04796\n",
      "[39]\tvalidation_0-rmse:1.09296\tvalidation_1-rmse:1.04587\n",
      "[40]\tvalidation_0-rmse:1.09076\tvalidation_1-rmse:1.04391\n",
      "[41]\tvalidation_0-rmse:1.08808\tvalidation_1-rmse:1.04154\n",
      "[42]\tvalidation_0-rmse:1.08555\tvalidation_1-rmse:1.03960\n",
      "[43]\tvalidation_0-rmse:1.08313\tvalidation_1-rmse:1.03777\n",
      "[44]\tvalidation_0-rmse:1.08056\tvalidation_1-rmse:1.03572\n",
      "[45]\tvalidation_0-rmse:1.07814\tvalidation_1-rmse:1.03379\n",
      "[46]\tvalidation_0-rmse:1.07562\tvalidation_1-rmse:1.03167\n",
      "[47]\tvalidation_0-rmse:1.07391\tvalidation_1-rmse:1.03007\n",
      "[48]\tvalidation_0-rmse:1.07161\tvalidation_1-rmse:1.02833\n",
      "[49]\tvalidation_0-rmse:1.06902\tvalidation_1-rmse:1.02637\n",
      "[50]\tvalidation_0-rmse:1.06674\tvalidation_1-rmse:1.02494\n",
      "[51]\tvalidation_0-rmse:1.06422\tvalidation_1-rmse:1.02311\n",
      "[52]\tvalidation_0-rmse:1.06175\tvalidation_1-rmse:1.02138\n",
      "[53]\tvalidation_0-rmse:1.05929\tvalidation_1-rmse:1.01963\n",
      "[54]\tvalidation_0-rmse:1.05669\tvalidation_1-rmse:1.01796\n",
      "[55]\tvalidation_0-rmse:1.05486\tvalidation_1-rmse:1.01650\n",
      "[56]\tvalidation_0-rmse:1.05317\tvalidation_1-rmse:1.01533\n",
      "[57]\tvalidation_0-rmse:1.05087\tvalidation_1-rmse:1.01373\n",
      "[58]\tvalidation_0-rmse:1.04850\tvalidation_1-rmse:1.01200\n",
      "[59]\tvalidation_0-rmse:1.04624\tvalidation_1-rmse:1.01043\n",
      "[60]\tvalidation_0-rmse:1.04390\tvalidation_1-rmse:1.00870\n",
      "[61]\tvalidation_0-rmse:1.04179\tvalidation_1-rmse:1.00728\n",
      "[62]\tvalidation_0-rmse:1.03982\tvalidation_1-rmse:1.00585\n",
      "[63]\tvalidation_0-rmse:1.03768\tvalidation_1-rmse:1.00426\n",
      "[64]\tvalidation_0-rmse:1.03606\tvalidation_1-rmse:1.00277\n",
      "[65]\tvalidation_0-rmse:1.03392\tvalidation_1-rmse:1.00121\n",
      "[66]\tvalidation_0-rmse:1.03207\tvalidation_1-rmse:0.99989\n",
      "[67]\tvalidation_0-rmse:1.03083\tvalidation_1-rmse:0.99888\n",
      "[68]\tvalidation_0-rmse:1.02895\tvalidation_1-rmse:0.99753\n",
      "[69]\tvalidation_0-rmse:1.02715\tvalidation_1-rmse:0.99618\n",
      "[70]\tvalidation_0-rmse:1.02492\tvalidation_1-rmse:0.99475\n",
      "[71]\tvalidation_0-rmse:1.02283\tvalidation_1-rmse:0.99352\n",
      "[72]\tvalidation_0-rmse:1.02081\tvalidation_1-rmse:0.99229\n",
      "[73]\tvalidation_0-rmse:1.01886\tvalidation_1-rmse:0.99123\n",
      "[74]\tvalidation_0-rmse:1.01689\tvalidation_1-rmse:0.98998\n",
      "[75]\tvalidation_0-rmse:1.01496\tvalidation_1-rmse:0.98892\n",
      "[76]\tvalidation_0-rmse:1.01324\tvalidation_1-rmse:0.98785\n",
      "[77]\tvalidation_0-rmse:1.01141\tvalidation_1-rmse:0.98672\n",
      "[78]\tvalidation_0-rmse:1.00961\tvalidation_1-rmse:0.98560\n",
      "[79]\tvalidation_0-rmse:1.00782\tvalidation_1-rmse:0.98459\n",
      "[80]\tvalidation_0-rmse:1.00616\tvalidation_1-rmse:0.98343\n",
      "[81]\tvalidation_0-rmse:1.00441\tvalidation_1-rmse:0.98218\n",
      "[82]\tvalidation_0-rmse:1.00310\tvalidation_1-rmse:0.98114\n",
      "[83]\tvalidation_0-rmse:1.00152\tvalidation_1-rmse:0.98015\n",
      "[84]\tvalidation_0-rmse:0.99995\tvalidation_1-rmse:0.97913\n",
      "[85]\tvalidation_0-rmse:0.99837\tvalidation_1-rmse:0.97818\n",
      "[86]\tvalidation_0-rmse:0.99672\tvalidation_1-rmse:0.97710\n",
      "[87]\tvalidation_0-rmse:0.99534\tvalidation_1-rmse:0.97624\n",
      "[88]\tvalidation_0-rmse:0.99376\tvalidation_1-rmse:0.97520\n",
      "[89]\tvalidation_0-rmse:0.99224\tvalidation_1-rmse:0.97428\n",
      "[90]\tvalidation_0-rmse:0.99124\tvalidation_1-rmse:0.97345\n",
      "[91]\tvalidation_0-rmse:0.98982\tvalidation_1-rmse:0.97250\n",
      "[92]\tvalidation_0-rmse:0.98847\tvalidation_1-rmse:0.97166\n",
      "[93]\tvalidation_0-rmse:0.98722\tvalidation_1-rmse:0.97093\n",
      "[94]\tvalidation_0-rmse:0.98583\tvalidation_1-rmse:0.97008\n",
      "[95]\tvalidation_0-rmse:0.98465\tvalidation_1-rmse:0.96931\n",
      "[96]\tvalidation_0-rmse:0.98358\tvalidation_1-rmse:0.96861\n",
      "[97]\tvalidation_0-rmse:0.98235\tvalidation_1-rmse:0.96783\n",
      "[98]\tvalidation_0-rmse:0.98148\tvalidation_1-rmse:0.96712\n",
      "[99]\tvalidation_0-rmse:0.98067\tvalidation_1-rmse:0.96646\n",
      "[100]\tvalidation_0-rmse:0.97951\tvalidation_1-rmse:0.96566\n",
      "[101]\tvalidation_0-rmse:0.97846\tvalidation_1-rmse:0.96494\n",
      "[102]\tvalidation_0-rmse:0.97732\tvalidation_1-rmse:0.96417\n",
      "[103]\tvalidation_0-rmse:0.97629\tvalidation_1-rmse:0.96356\n",
      "[104]\tvalidation_0-rmse:0.97524\tvalidation_1-rmse:0.96283\n",
      "[105]\tvalidation_0-rmse:0.97385\tvalidation_1-rmse:0.96208\n",
      "[106]\tvalidation_0-rmse:0.97235\tvalidation_1-rmse:0.96134\n",
      "[107]\tvalidation_0-rmse:0.97131\tvalidation_1-rmse:0.96089\n",
      "[108]\tvalidation_0-rmse:0.97007\tvalidation_1-rmse:0.96026\n",
      "[109]\tvalidation_0-rmse:0.96894\tvalidation_1-rmse:0.95955\n",
      "[110]\tvalidation_0-rmse:0.96812\tvalidation_1-rmse:0.95904\n",
      "[111]\tvalidation_0-rmse:0.96698\tvalidation_1-rmse:0.95837\n",
      "[112]\tvalidation_0-rmse:0.96574\tvalidation_1-rmse:0.95776\n",
      "[113]\tvalidation_0-rmse:0.96473\tvalidation_1-rmse:0.95728\n",
      "[114]\tvalidation_0-rmse:0.96357\tvalidation_1-rmse:0.95662\n",
      "[115]\tvalidation_0-rmse:0.96232\tvalidation_1-rmse:0.95595\n",
      "[116]\tvalidation_0-rmse:0.96124\tvalidation_1-rmse:0.95538\n",
      "[117]\tvalidation_0-rmse:0.96037\tvalidation_1-rmse:0.95483\n",
      "[118]\tvalidation_0-rmse:0.95933\tvalidation_1-rmse:0.95432\n",
      "[119]\tvalidation_0-rmse:0.95821\tvalidation_1-rmse:0.95368\n",
      "[120]\tvalidation_0-rmse:0.95705\tvalidation_1-rmse:0.95318\n",
      "[121]\tvalidation_0-rmse:0.95636\tvalidation_1-rmse:0.95282\n",
      "[122]\tvalidation_0-rmse:0.95551\tvalidation_1-rmse:0.95241\n",
      "[123]\tvalidation_0-rmse:0.95476\tvalidation_1-rmse:0.95193\n",
      "[124]\tvalidation_0-rmse:0.95374\tvalidation_1-rmse:0.95135\n",
      "[125]\tvalidation_0-rmse:0.95283\tvalidation_1-rmse:0.95094\n",
      "[126]\tvalidation_0-rmse:0.95219\tvalidation_1-rmse:0.95062\n",
      "[127]\tvalidation_0-rmse:0.95125\tvalidation_1-rmse:0.95002\n",
      "[128]\tvalidation_0-rmse:0.95036\tvalidation_1-rmse:0.94968\n",
      "[129]\tvalidation_0-rmse:0.94958\tvalidation_1-rmse:0.94944\n",
      "[130]\tvalidation_0-rmse:0.94860\tvalidation_1-rmse:0.94908\n",
      "[131]\tvalidation_0-rmse:0.94773\tvalidation_1-rmse:0.94858\n",
      "[132]\tvalidation_0-rmse:0.94687\tvalidation_1-rmse:0.94816\n",
      "[133]\tvalidation_0-rmse:0.94593\tvalidation_1-rmse:0.94769\n",
      "[134]\tvalidation_0-rmse:0.94536\tvalidation_1-rmse:0.94742\n",
      "[135]\tvalidation_0-rmse:0.94454\tvalidation_1-rmse:0.94717\n",
      "[136]\tvalidation_0-rmse:0.94377\tvalidation_1-rmse:0.94676\n",
      "[137]\tvalidation_0-rmse:0.94306\tvalidation_1-rmse:0.94649\n",
      "[138]\tvalidation_0-rmse:0.94229\tvalidation_1-rmse:0.94602\n",
      "[139]\tvalidation_0-rmse:0.94164\tvalidation_1-rmse:0.94564\n",
      "[140]\tvalidation_0-rmse:0.94087\tvalidation_1-rmse:0.94525\n",
      "[141]\tvalidation_0-rmse:0.94008\tvalidation_1-rmse:0.94480\n",
      "[142]\tvalidation_0-rmse:0.93939\tvalidation_1-rmse:0.94449\n",
      "[143]\tvalidation_0-rmse:0.93873\tvalidation_1-rmse:0.94428\n",
      "[144]\tvalidation_0-rmse:0.93795\tvalidation_1-rmse:0.94400\n",
      "[145]\tvalidation_0-rmse:0.93717\tvalidation_1-rmse:0.94369\n",
      "[146]\tvalidation_0-rmse:0.93652\tvalidation_1-rmse:0.94347\n",
      "[147]\tvalidation_0-rmse:0.93588\tvalidation_1-rmse:0.94313\n",
      "[148]\tvalidation_0-rmse:0.93519\tvalidation_1-rmse:0.94278\n",
      "[149]\tvalidation_0-rmse:0.93446\tvalidation_1-rmse:0.94242\n",
      "[150]\tvalidation_0-rmse:0.93388\tvalidation_1-rmse:0.94206\n",
      "[151]\tvalidation_0-rmse:0.93319\tvalidation_1-rmse:0.94175\n",
      "[152]\tvalidation_0-rmse:0.93254\tvalidation_1-rmse:0.94140\n",
      "[153]\tvalidation_0-rmse:0.93191\tvalidation_1-rmse:0.94121\n",
      "[154]\tvalidation_0-rmse:0.93126\tvalidation_1-rmse:0.94094\n",
      "[155]\tvalidation_0-rmse:0.93068\tvalidation_1-rmse:0.94066\n",
      "[156]\tvalidation_0-rmse:0.93004\tvalidation_1-rmse:0.94037\n",
      "[157]\tvalidation_0-rmse:0.92948\tvalidation_1-rmse:0.94007\n",
      "[158]\tvalidation_0-rmse:0.92910\tvalidation_1-rmse:0.93982\n",
      "[159]\tvalidation_0-rmse:0.92844\tvalidation_1-rmse:0.93953\n",
      "[160]\tvalidation_0-rmse:0.92782\tvalidation_1-rmse:0.93925\n",
      "[161]\tvalidation_0-rmse:0.92737\tvalidation_1-rmse:0.93908\n",
      "[162]\tvalidation_0-rmse:0.92689\tvalidation_1-rmse:0.93873\n",
      "[163]\tvalidation_0-rmse:0.92635\tvalidation_1-rmse:0.93856\n",
      "[164]\tvalidation_0-rmse:0.92572\tvalidation_1-rmse:0.93827\n",
      "[165]\tvalidation_0-rmse:0.92513\tvalidation_1-rmse:0.93805\n",
      "[166]\tvalidation_0-rmse:0.92460\tvalidation_1-rmse:0.93784\n",
      "[167]\tvalidation_0-rmse:0.92397\tvalidation_1-rmse:0.93756\n",
      "[168]\tvalidation_0-rmse:0.92340\tvalidation_1-rmse:0.93730\n",
      "[169]\tvalidation_0-rmse:0.92289\tvalidation_1-rmse:0.93703\n",
      "[170]\tvalidation_0-rmse:0.92256\tvalidation_1-rmse:0.93680\n",
      "[171]\tvalidation_0-rmse:0.92206\tvalidation_1-rmse:0.93658\n",
      "[172]\tvalidation_0-rmse:0.92157\tvalidation_1-rmse:0.93636\n",
      "[173]\tvalidation_0-rmse:0.92105\tvalidation_1-rmse:0.93617\n",
      "[174]\tvalidation_0-rmse:0.92048\tvalidation_1-rmse:0.93599\n",
      "[175]\tvalidation_0-rmse:0.91994\tvalidation_1-rmse:0.93585\n",
      "[176]\tvalidation_0-rmse:0.91938\tvalidation_1-rmse:0.93537\n",
      "[177]\tvalidation_0-rmse:0.91905\tvalidation_1-rmse:0.93520\n",
      "[178]\tvalidation_0-rmse:0.91858\tvalidation_1-rmse:0.93478\n",
      "[179]\tvalidation_0-rmse:0.91808\tvalidation_1-rmse:0.93458\n",
      "[180]\tvalidation_0-rmse:0.91762\tvalidation_1-rmse:0.93437\n",
      "[181]\tvalidation_0-rmse:0.91712\tvalidation_1-rmse:0.93423\n",
      "[182]\tvalidation_0-rmse:0.91677\tvalidation_1-rmse:0.93415\n",
      "[183]\tvalidation_0-rmse:0.91632\tvalidation_1-rmse:0.93398\n",
      "[184]\tvalidation_0-rmse:0.91588\tvalidation_1-rmse:0.93382\n",
      "[185]\tvalidation_0-rmse:0.91545\tvalidation_1-rmse:0.93371\n",
      "[186]\tvalidation_0-rmse:0.91508\tvalidation_1-rmse:0.93351\n",
      "[187]\tvalidation_0-rmse:0.91466\tvalidation_1-rmse:0.93336\n",
      "[188]\tvalidation_0-rmse:0.91424\tvalidation_1-rmse:0.93324\n",
      "[189]\tvalidation_0-rmse:0.91382\tvalidation_1-rmse:0.93307\n",
      "[190]\tvalidation_0-rmse:0.91340\tvalidation_1-rmse:0.93284\n",
      "[191]\tvalidation_0-rmse:0.91297\tvalidation_1-rmse:0.93267\n",
      "[192]\tvalidation_0-rmse:0.91261\tvalidation_1-rmse:0.93254\n",
      "[193]\tvalidation_0-rmse:0.91220\tvalidation_1-rmse:0.93240\n",
      "[194]\tvalidation_0-rmse:0.91186\tvalidation_1-rmse:0.93226\n",
      "[195]\tvalidation_0-rmse:0.91141\tvalidation_1-rmse:0.93213\n",
      "[196]\tvalidation_0-rmse:0.91098\tvalidation_1-rmse:0.93200\n",
      "[197]\tvalidation_0-rmse:0.91062\tvalidation_1-rmse:0.93187\n",
      "[198]\tvalidation_0-rmse:0.91023\tvalidation_1-rmse:0.93164\n",
      "[199]\tvalidation_0-rmse:0.90984\tvalidation_1-rmse:0.93151\n",
      "[200]\tvalidation_0-rmse:0.90942\tvalidation_1-rmse:0.93134\n",
      "[201]\tvalidation_0-rmse:0.90899\tvalidation_1-rmse:0.93123\n",
      "[202]\tvalidation_0-rmse:0.90856\tvalidation_1-rmse:0.93114\n",
      "[203]\tvalidation_0-rmse:0.90819\tvalidation_1-rmse:0.93106\n",
      "[204]\tvalidation_0-rmse:0.90780\tvalidation_1-rmse:0.93103\n",
      "[205]\tvalidation_0-rmse:0.90749\tvalidation_1-rmse:0.93098\n",
      "[206]\tvalidation_0-rmse:0.90709\tvalidation_1-rmse:0.93091\n",
      "[207]\tvalidation_0-rmse:0.90682\tvalidation_1-rmse:0.93080\n",
      "[208]\tvalidation_0-rmse:0.90651\tvalidation_1-rmse:0.93066\n",
      "[209]\tvalidation_0-rmse:0.90621\tvalidation_1-rmse:0.93054\n",
      "[210]\tvalidation_0-rmse:0.90588\tvalidation_1-rmse:0.93037\n",
      "[211]\tvalidation_0-rmse:0.90555\tvalidation_1-rmse:0.93023\n",
      "[212]\tvalidation_0-rmse:0.90516\tvalidation_1-rmse:0.93005\n",
      "[213]\tvalidation_0-rmse:0.90483\tvalidation_1-rmse:0.92983\n",
      "[214]\tvalidation_0-rmse:0.90452\tvalidation_1-rmse:0.92974\n",
      "[215]\tvalidation_0-rmse:0.90433\tvalidation_1-rmse:0.92966\n",
      "[216]\tvalidation_0-rmse:0.90393\tvalidation_1-rmse:0.92961\n",
      "[217]\tvalidation_0-rmse:0.90364\tvalidation_1-rmse:0.92945\n",
      "[218]\tvalidation_0-rmse:0.90342\tvalidation_1-rmse:0.92935\n",
      "[219]\tvalidation_0-rmse:0.90311\tvalidation_1-rmse:0.92925\n",
      "[220]\tvalidation_0-rmse:0.90281\tvalidation_1-rmse:0.92910\n",
      "[221]\tvalidation_0-rmse:0.90249\tvalidation_1-rmse:0.92904\n",
      "[222]\tvalidation_0-rmse:0.90212\tvalidation_1-rmse:0.92901\n",
      "[223]\tvalidation_0-rmse:0.90182\tvalidation_1-rmse:0.92900\n",
      "[224]\tvalidation_0-rmse:0.90148\tvalidation_1-rmse:0.92892\n",
      "[225]\tvalidation_0-rmse:0.90115\tvalidation_1-rmse:0.92881\n",
      "[226]\tvalidation_0-rmse:0.90091\tvalidation_1-rmse:0.92873\n",
      "[227]\tvalidation_0-rmse:0.90064\tvalidation_1-rmse:0.92867\n",
      "[228]\tvalidation_0-rmse:0.90033\tvalidation_1-rmse:0.92862\n",
      "[229]\tvalidation_0-rmse:0.90005\tvalidation_1-rmse:0.92856\n",
      "[230]\tvalidation_0-rmse:0.89971\tvalidation_1-rmse:0.92854\n",
      "[231]\tvalidation_0-rmse:0.89947\tvalidation_1-rmse:0.92847\n",
      "[232]\tvalidation_0-rmse:0.89921\tvalidation_1-rmse:0.92834\n",
      "[233]\tvalidation_0-rmse:0.89892\tvalidation_1-rmse:0.92821\n",
      "[234]\tvalidation_0-rmse:0.89865\tvalidation_1-rmse:0.92809\n",
      "[235]\tvalidation_0-rmse:0.89838\tvalidation_1-rmse:0.92801\n",
      "[236]\tvalidation_0-rmse:0.89808\tvalidation_1-rmse:0.92801\n",
      "[237]\tvalidation_0-rmse:0.89787\tvalidation_1-rmse:0.92791\n",
      "[238]\tvalidation_0-rmse:0.89756\tvalidation_1-rmse:0.92790\n",
      "[239]\tvalidation_0-rmse:0.89727\tvalidation_1-rmse:0.92787\n",
      "[240]\tvalidation_0-rmse:0.89698\tvalidation_1-rmse:0.92783\n",
      "[241]\tvalidation_0-rmse:0.89675\tvalidation_1-rmse:0.92778\n",
      "[242]\tvalidation_0-rmse:0.89650\tvalidation_1-rmse:0.92771\n",
      "[243]\tvalidation_0-rmse:0.89624\tvalidation_1-rmse:0.92767\n",
      "[244]\tvalidation_0-rmse:0.89603\tvalidation_1-rmse:0.92762\n",
      "[245]\tvalidation_0-rmse:0.89572\tvalidation_1-rmse:0.92756\n",
      "[246]\tvalidation_0-rmse:0.89548\tvalidation_1-rmse:0.92752\n",
      "[247]\tvalidation_0-rmse:0.89527\tvalidation_1-rmse:0.92741\n",
      "[248]\tvalidation_0-rmse:0.89500\tvalidation_1-rmse:0.92743\n",
      "[249]\tvalidation_0-rmse:0.89476\tvalidation_1-rmse:0.92741\n",
      "[250]\tvalidation_0-rmse:0.89463\tvalidation_1-rmse:0.92734\n",
      "[251]\tvalidation_0-rmse:0.89441\tvalidation_1-rmse:0.92731\n",
      "[252]\tvalidation_0-rmse:0.89419\tvalidation_1-rmse:0.92723\n",
      "[253]\tvalidation_0-rmse:0.89392\tvalidation_1-rmse:0.92717\n",
      "[254]\tvalidation_0-rmse:0.89367\tvalidation_1-rmse:0.92721\n",
      "[255]\tvalidation_0-rmse:0.89341\tvalidation_1-rmse:0.92723\n",
      "[256]\tvalidation_0-rmse:0.89318\tvalidation_1-rmse:0.92722\n",
      "[257]\tvalidation_0-rmse:0.89294\tvalidation_1-rmse:0.92712\n",
      "[258]\tvalidation_0-rmse:0.89275\tvalidation_1-rmse:0.92708\n",
      "[259]\tvalidation_0-rmse:0.89256\tvalidation_1-rmse:0.92700\n",
      "[260]\tvalidation_0-rmse:0.89233\tvalidation_1-rmse:0.92700\n",
      "[261]\tvalidation_0-rmse:0.89210\tvalidation_1-rmse:0.92692\n",
      "[262]\tvalidation_0-rmse:0.89180\tvalidation_1-rmse:0.92701\n",
      "[263]\tvalidation_0-rmse:0.89161\tvalidation_1-rmse:0.92695\n",
      "[264]\tvalidation_0-rmse:0.89143\tvalidation_1-rmse:0.92691\n",
      "[265]\tvalidation_0-rmse:0.89118\tvalidation_1-rmse:0.92683\n",
      "[266]\tvalidation_0-rmse:0.89094\tvalidation_1-rmse:0.92686\n",
      "[267]\tvalidation_0-rmse:0.89071\tvalidation_1-rmse:0.92672\n",
      "[268]\tvalidation_0-rmse:0.89053\tvalidation_1-rmse:0.92666\n",
      "[269]\tvalidation_0-rmse:0.89040\tvalidation_1-rmse:0.92662\n",
      "[270]\tvalidation_0-rmse:0.89016\tvalidation_1-rmse:0.92659\n",
      "[271]\tvalidation_0-rmse:0.88996\tvalidation_1-rmse:0.92660\n",
      "[272]\tvalidation_0-rmse:0.88969\tvalidation_1-rmse:0.92663\n",
      "[273]\tvalidation_0-rmse:0.88948\tvalidation_1-rmse:0.92660\n",
      "[274]\tvalidation_0-rmse:0.88921\tvalidation_1-rmse:0.92658\n",
      "[275]\tvalidation_0-rmse:0.88906\tvalidation_1-rmse:0.92648\n",
      "[276]\tvalidation_0-rmse:0.88889\tvalidation_1-rmse:0.92639\n",
      "[277]\tvalidation_0-rmse:0.88864\tvalidation_1-rmse:0.92641\n",
      "[278]\tvalidation_0-rmse:0.88845\tvalidation_1-rmse:0.92629\n",
      "[279]\tvalidation_0-rmse:0.88832\tvalidation_1-rmse:0.92625\n",
      "[280]\tvalidation_0-rmse:0.88814\tvalidation_1-rmse:0.92616\n",
      "[281]\tvalidation_0-rmse:0.88797\tvalidation_1-rmse:0.92611\n",
      "[282]\tvalidation_0-rmse:0.88775\tvalidation_1-rmse:0.92613\n",
      "[283]\tvalidation_0-rmse:0.88757\tvalidation_1-rmse:0.92609\n",
      "[284]\tvalidation_0-rmse:0.88740\tvalidation_1-rmse:0.92608\n",
      "[285]\tvalidation_0-rmse:0.88728\tvalidation_1-rmse:0.92605\n",
      "[286]\tvalidation_0-rmse:0.88712\tvalidation_1-rmse:0.92599\n",
      "[287]\tvalidation_0-rmse:0.88696\tvalidation_1-rmse:0.92587\n",
      "[288]\tvalidation_0-rmse:0.88680\tvalidation_1-rmse:0.92579\n",
      "[289]\tvalidation_0-rmse:0.88660\tvalidation_1-rmse:0.92580\n",
      "[290]\tvalidation_0-rmse:0.88644\tvalidation_1-rmse:0.92577\n",
      "[291]\tvalidation_0-rmse:0.88628\tvalidation_1-rmse:0.92578\n",
      "[292]\tvalidation_0-rmse:0.88613\tvalidation_1-rmse:0.92580\n",
      "[293]\tvalidation_0-rmse:0.88596\tvalidation_1-rmse:0.92581\n",
      "[294]\tvalidation_0-rmse:0.88580\tvalidation_1-rmse:0.92581\n",
      "[295]\tvalidation_0-rmse:0.88569\tvalidation_1-rmse:0.92576\n",
      "[296]\tvalidation_0-rmse:0.88553\tvalidation_1-rmse:0.92573\n",
      "[297]\tvalidation_0-rmse:0.88537\tvalidation_1-rmse:0.92574\n",
      "[298]\tvalidation_0-rmse:0.88527\tvalidation_1-rmse:0.92568\n",
      "[299]\tvalidation_0-rmse:0.88506\tvalidation_1-rmse:0.92572\n",
      "[300]\tvalidation_0-rmse:0.88492\tvalidation_1-rmse:0.92573\n",
      "[301]\tvalidation_0-rmse:0.88477\tvalidation_1-rmse:0.92569\n",
      "[302]\tvalidation_0-rmse:0.88466\tvalidation_1-rmse:0.92567\n",
      "[303]\tvalidation_0-rmse:0.88450\tvalidation_1-rmse:0.92563\n",
      "[304]\tvalidation_0-rmse:0.88439\tvalidation_1-rmse:0.92560\n",
      "[305]\tvalidation_0-rmse:0.88424\tvalidation_1-rmse:0.92560\n",
      "[306]\tvalidation_0-rmse:0.88409\tvalidation_1-rmse:0.92558\n",
      "[307]\tvalidation_0-rmse:0.88391\tvalidation_1-rmse:0.92558\n",
      "[308]\tvalidation_0-rmse:0.88373\tvalidation_1-rmse:0.92558\n",
      "[309]\tvalidation_0-rmse:0.88357\tvalidation_1-rmse:0.92559\n",
      "[310]\tvalidation_0-rmse:0.88335\tvalidation_1-rmse:0.92558\n",
      "[311]\tvalidation_0-rmse:0.88321\tvalidation_1-rmse:0.92556\n",
      "[312]\tvalidation_0-rmse:0.88303\tvalidation_1-rmse:0.92555\n",
      "[313]\tvalidation_0-rmse:0.88286\tvalidation_1-rmse:0.92550\n",
      "[314]\tvalidation_0-rmse:0.88274\tvalidation_1-rmse:0.92549\n",
      "[315]\tvalidation_0-rmse:0.88260\tvalidation_1-rmse:0.92556\n",
      "[316]\tvalidation_0-rmse:0.88241\tvalidation_1-rmse:0.92559\n",
      "[317]\tvalidation_0-rmse:0.88224\tvalidation_1-rmse:0.92555\n",
      "[318]\tvalidation_0-rmse:0.88209\tvalidation_1-rmse:0.92555\n",
      "[319]\tvalidation_0-rmse:0.88195\tvalidation_1-rmse:0.92553\n",
      "[320]\tvalidation_0-rmse:0.88182\tvalidation_1-rmse:0.92555\n",
      "[321]\tvalidation_0-rmse:0.88165\tvalidation_1-rmse:0.92544\n",
      "[322]\tvalidation_0-rmse:0.88148\tvalidation_1-rmse:0.92553\n",
      "[323]\tvalidation_0-rmse:0.88136\tvalidation_1-rmse:0.92544\n",
      "[324]\tvalidation_0-rmse:0.88114\tvalidation_1-rmse:0.92549\n",
      "[325]\tvalidation_0-rmse:0.88098\tvalidation_1-rmse:0.92552\n",
      "[326]\tvalidation_0-rmse:0.88086\tvalidation_1-rmse:0.92548\n",
      "[327]\tvalidation_0-rmse:0.88074\tvalidation_1-rmse:0.92544\n",
      "[328]\tvalidation_0-rmse:0.88059\tvalidation_1-rmse:0.92543\n",
      "[329]\tvalidation_0-rmse:0.88048\tvalidation_1-rmse:0.92539\n",
      "[330]\tvalidation_0-rmse:0.88037\tvalidation_1-rmse:0.92541\n",
      "[331]\tvalidation_0-rmse:0.88018\tvalidation_1-rmse:0.92539\n",
      "[332]\tvalidation_0-rmse:0.88001\tvalidation_1-rmse:0.92536\n",
      "[333]\tvalidation_0-rmse:0.87990\tvalidation_1-rmse:0.92539\n",
      "[334]\tvalidation_0-rmse:0.87979\tvalidation_1-rmse:0.92535\n",
      "[335]\tvalidation_0-rmse:0.87966\tvalidation_1-rmse:0.92536\n",
      "[336]\tvalidation_0-rmse:0.87953\tvalidation_1-rmse:0.92534\n",
      "[337]\tvalidation_0-rmse:0.87938\tvalidation_1-rmse:0.92527\n",
      "[338]\tvalidation_0-rmse:0.87924\tvalidation_1-rmse:0.92524\n",
      "[339]\tvalidation_0-rmse:0.87911\tvalidation_1-rmse:0.92521\n",
      "[340]\tvalidation_0-rmse:0.87896\tvalidation_1-rmse:0.92519\n",
      "[341]\tvalidation_0-rmse:0.87882\tvalidation_1-rmse:0.92513\n",
      "[342]\tvalidation_0-rmse:0.87868\tvalidation_1-rmse:0.92515\n",
      "[343]\tvalidation_0-rmse:0.87858\tvalidation_1-rmse:0.92514\n",
      "[344]\tvalidation_0-rmse:0.87850\tvalidation_1-rmse:0.92511\n",
      "[345]\tvalidation_0-rmse:0.87835\tvalidation_1-rmse:0.92514\n",
      "[346]\tvalidation_0-rmse:0.87810\tvalidation_1-rmse:0.92517\n",
      "[347]\tvalidation_0-rmse:0.87794\tvalidation_1-rmse:0.92516\n",
      "[348]\tvalidation_0-rmse:0.87772\tvalidation_1-rmse:0.92511\n",
      "[349]\tvalidation_0-rmse:0.87749\tvalidation_1-rmse:0.92528\n",
      "[350]\tvalidation_0-rmse:0.87739\tvalidation_1-rmse:0.92523\n",
      "[351]\tvalidation_0-rmse:0.87725\tvalidation_1-rmse:0.92531\n",
      "[352]\tvalidation_0-rmse:0.87701\tvalidation_1-rmse:0.92530\n",
      "[353]\tvalidation_0-rmse:0.87687\tvalidation_1-rmse:0.92530\n",
      "[354]\tvalidation_0-rmse:0.87678\tvalidation_1-rmse:0.92532\n",
      "[355]\tvalidation_0-rmse:0.87663\tvalidation_1-rmse:0.92536\n",
      "[356]\tvalidation_0-rmse:0.87653\tvalidation_1-rmse:0.92537\n",
      "[357]\tvalidation_0-rmse:0.87639\tvalidation_1-rmse:0.92539\n",
      "[358]\tvalidation_0-rmse:0.87626\tvalidation_1-rmse:0.92544\n",
      "[359]\tvalidation_0-rmse:0.87613\tvalidation_1-rmse:0.92543\n",
      "[360]\tvalidation_0-rmse:0.87600\tvalidation_1-rmse:0.92536\n",
      "[361]\tvalidation_0-rmse:0.87591\tvalidation_1-rmse:0.92541\n",
      "[362]\tvalidation_0-rmse:0.87573\tvalidation_1-rmse:0.92542\n",
      "[363]\tvalidation_0-rmse:0.87563\tvalidation_1-rmse:0.92539\n",
      "[364]\tvalidation_0-rmse:0.87543\tvalidation_1-rmse:0.92549\n",
      "[365]\tvalidation_0-rmse:0.87530\tvalidation_1-rmse:0.92551\n",
      "[366]\tvalidation_0-rmse:0.87518\tvalidation_1-rmse:0.92551\n",
      "[367]\tvalidation_0-rmse:0.87505\tvalidation_1-rmse:0.92550\n",
      "[368]\tvalidation_0-rmse:0.87496\tvalidation_1-rmse:0.92555\n",
      "[369]\tvalidation_0-rmse:0.87487\tvalidation_1-rmse:0.92553\n",
      "[370]\tvalidation_0-rmse:0.87472\tvalidation_1-rmse:0.92551\n",
      "[371]\tvalidation_0-rmse:0.87460\tvalidation_1-rmse:0.92556\n",
      "[372]\tvalidation_0-rmse:0.87443\tvalidation_1-rmse:0.92554\n",
      "[373]\tvalidation_0-rmse:0.87426\tvalidation_1-rmse:0.92557\n",
      "[374]\tvalidation_0-rmse:0.87415\tvalidation_1-rmse:0.92553\n",
      "[375]\tvalidation_0-rmse:0.87403\tvalidation_1-rmse:0.92546\n",
      "[376]\tvalidation_0-rmse:0.87393\tvalidation_1-rmse:0.92541\n",
      "[377]\tvalidation_0-rmse:0.87383\tvalidation_1-rmse:0.92549\n",
      "[378]\tvalidation_0-rmse:0.87375\tvalidation_1-rmse:0.92551\n",
      "[379]\tvalidation_0-rmse:0.87368\tvalidation_1-rmse:0.92549\n",
      "[380]\tvalidation_0-rmse:0.87357\tvalidation_1-rmse:0.92548\n",
      "[381]\tvalidation_0-rmse:0.87346\tvalidation_1-rmse:0.92546\n",
      "[382]\tvalidation_0-rmse:0.87335\tvalidation_1-rmse:0.92549\n",
      "[383]\tvalidation_0-rmse:0.87321\tvalidation_1-rmse:0.92546\n",
      "[384]\tvalidation_0-rmse:0.87306\tvalidation_1-rmse:0.92551\n",
      "[385]\tvalidation_0-rmse:0.87291\tvalidation_1-rmse:0.92548\n",
      "[386]\tvalidation_0-rmse:0.87283\tvalidation_1-rmse:0.92545\n",
      "[387]\tvalidation_0-rmse:0.87273\tvalidation_1-rmse:0.92539\n",
      "[388]\tvalidation_0-rmse:0.87260\tvalidation_1-rmse:0.92541\n",
      "[389]\tvalidation_0-rmse:0.87241\tvalidation_1-rmse:0.92546\n",
      "[390]\tvalidation_0-rmse:0.87226\tvalidation_1-rmse:0.92545\n",
      "[391]\tvalidation_0-rmse:0.87217\tvalidation_1-rmse:0.92545\n",
      "[392]\tvalidation_0-rmse:0.87208\tvalidation_1-rmse:0.92543\n",
      "[393]\tvalidation_0-rmse:0.87193\tvalidation_1-rmse:0.92534\n",
      "[394]\tvalidation_0-rmse:0.87182\tvalidation_1-rmse:0.92533\n",
      "Stopping. Best iteration:\n",
      "[344]\tvalidation_0-rmse:0.87850\tvalidation_1-rmse:0.92511\n",
      "\n",
      "Wall time: 5h 34min 11s\n"
     ]
    }
   ],
   "source": [
    "%%time\n",
    "regressor_ = xgtrain()"
   ]
  },
  {
   "cell_type": "code",
   "execution_count": 58,
   "metadata": {},
   "outputs": [],
   "source": [
    "predictions = regressor_.predict(new_train[new_train.date_block_num == 34].drop(['item_cnt_month'], axis = 1).values)"
   ]
  },
  {
   "cell_type": "markdown",
   "metadata": {},
   "source": [
    "A graph is generated with the importance of the parameters in the model generation process"
   ]
  },
  {
   "cell_type": "code",
   "execution_count": 59,
   "metadata": {},
   "outputs": [
    {
     "data": {
      "image/png": "[encoded data removed]",
      "text/plain": [
       "<Figure size 842.4x595.44 with 1 Axes>"
      ]
     },
     "metadata": {},
     "output_type": "display_data"
    }
   ],
   "source": [
    "from matplotlib import rcParams\n",
    "rcParams['figure.figsize'] = 11.7,8.27\n",
    "\n",
    "cols = new_train.drop('item_cnt_month', axis = 1).columns\n",
    "plt.barh(cols, regressor_.feature_importances_)\n",
    "plt.show()"
   ]
  },
  {
   "cell_type": "markdown",
   "metadata": {},
   "source": [
    "submission file is created"
   ]
  },
  {
   "cell_type": "code",
   "execution_count": null,
   "metadata": {},
   "outputs": [],
   "source": [
    "submission['item_cnt_month'] = predictions\n",
    "submission.to_csv('sales_predictions.csv', index=False)"
   ]
  },
  {
   "cell_type": "markdown",
   "metadata": {},
   "source": [
    "the model is stored in a file"
   ]
  },
  {
   "cell_type": "code",
   "execution_count": 61,
   "metadata": {},
   "outputs": [],
   "source": [
    "import pickle\n",
    "file_name = \"xgb_reg.pkl\"\n",
    "\n",
    "# save\n",
    "pickle.dump(regressor_, open(file_name, \"wb\"))\n",
    "\n",
    "# load\n",
    "#xgb_model_loaded = pickle.load(open(file_name, \"rb\"))\n"
   ]
  },
  {
   "cell_type": "code",
   "execution_count": null,
   "metadata": {},
   "outputs": [],
   "source": []
  }
 ],
 "metadata": {
  "kernelspec": {
   "display_name": "Python 3",
   "language": "python",
   "name": "python3"
  },
  "language_info": {
   "codemirror_mode": {
    "name": "ipython",
    "version": 3
   },
   "file_extension": ".py",
   "mimetype": "text/x-python",
   "name": "python",
   "nbconvert_exporter": "python",
   "pygments_lexer": "ipython3",
   "version": "3.6.5"
  }
 },
 "nbformat": 4,
 "nbformat_minor": 2
}
